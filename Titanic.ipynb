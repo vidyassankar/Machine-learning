{
  "nbformat": 4,
  "nbformat_minor": 0,
  "metadata": {
    "colab": {
      "name": "Titanic.ipynb",
      "provenance": [],
      "collapsed_sections": [
        "WnbcBhE6shMO",
        "RUM0yF472SG6",
        "vvUzC0jvPFB4",
        "UziAHg7tAcHm",
        "KkeOMfg-Bmes",
        "Ji_fnJx4B6-H"
      ],
      "authorship_tag": "ABX9TyO2fAehwSEqiIUJ64+KKwD5",
      "include_colab_link": true
    },
    "kernelspec": {
      "name": "python3",
      "display_name": "Python 3"
    }
  },
  "cells": [
    {
      "cell_type": "markdown",
      "metadata": {
        "id": "view-in-github",
        "colab_type": "text"
      },
      "source": [
        "<a href=\"https://colab.research.google.com/github/vidyassankar/Machine-learning/blob/Titanic/Titanic.ipynb\" target=\"_parent\"><img src=\"https://colab.research.google.com/assets/colab-badge.svg\" alt=\"Open In Colab\"/></a>"
      ]
    },
    {
      "cell_type": "markdown",
      "metadata": {
        "id": "CEJR2Qa9V9q2",
        "colab_type": "text"
      },
      "source": [
        "\n",
        "\n",
        "*   List item\n",
        "*   List item\n",
        "\n",
        "\n",
        "\n",
        "## **> TITANIC SURVIVAL PREDICTION**\n",
        "\n",
        "RMS Titanic was a British passenger liner operated by the White Star Line that sank in the North Atlantic Ocean in the early morning hours of 15 April 1912, after striking an iceberg during her maiden voyage from Southampton to New York City. Of the estimated 2,224 passengers and crew aboard, more than 1,500 died, making the sinking one of modern history's deadliest peacetime commercial marine disasters.\n",
        "\n",
        "Although Titanic had advanced safety features, such as watertight compartments and remotely activated watertight doors, it only carried enough lifeboats for 1,178 people—about half the number on board, and one third of her total capacity—due to the maritime safety regulations of those days.\n",
        " \n",
        "\n",
        "Kaggle has given a data set with information of passengers. Titanic problem in kaggle mainly ask us to find answers for these questions.\n",
        "\n",
        "1. Whether there were any bias in Saving the people?\n",
        "2. If yes, what are the features which helped a person to get survived ?\n",
        "3. Can you create an ML model which predict the the survival chance of a given test data ?\n",
        "4. How much accuracy can be claimed in prediction?\n",
        "\n",
        "(reference from wiki)\n",
        "\n",
        "Importing files from google colab\n"
      ]
    },
    {
      "cell_type": "code",
      "metadata": {
        "id": "lHvaG-odKKUD",
        "colab_type": "code",
        "colab": {}
      },
      "source": [
        "from google.colab import files\n",
        " \n"
      ],
      "execution_count": null,
      "outputs": []
    },
    {
      "cell_type": "code",
      "metadata": {
        "id": "LOBG7sA1DfL7",
        "colab_type": "code",
        "colab": {
          "base_uri": "https://localhost:8080/",
          "height": 208
        },
        "outputId": "4a9b5762-7bc7-474c-ab3c-4188c03f14bd"
      },
      "source": [
        "!pip install kaggle"
      ],
      "execution_count": null,
      "outputs": [
        {
          "output_type": "stream",
          "text": [
            "Requirement already satisfied: kaggle in /usr/local/lib/python3.6/dist-packages (1.5.6)\n",
            "Requirement already satisfied: six>=1.10 in /usr/local/lib/python3.6/dist-packages (from kaggle) (1.12.0)\n",
            "Requirement already satisfied: requests in /usr/local/lib/python3.6/dist-packages (from kaggle) (2.23.0)\n",
            "Requirement already satisfied: tqdm in /usr/local/lib/python3.6/dist-packages (from kaggle) (4.41.1)\n",
            "Requirement already satisfied: python-slugify in /usr/local/lib/python3.6/dist-packages (from kaggle) (4.0.1)\n",
            "Requirement already satisfied: python-dateutil in /usr/local/lib/python3.6/dist-packages (from kaggle) (2.8.1)\n",
            "Requirement already satisfied: certifi in /usr/local/lib/python3.6/dist-packages (from kaggle) (2020.6.20)\n",
            "Requirement already satisfied: urllib3<1.25,>=1.21.1 in /usr/local/lib/python3.6/dist-packages (from kaggle) (1.24.3)\n",
            "Requirement already satisfied: chardet<4,>=3.0.2 in /usr/local/lib/python3.6/dist-packages (from requests->kaggle) (3.0.4)\n",
            "Requirement already satisfied: idna<3,>=2.5 in /usr/local/lib/python3.6/dist-packages (from requests->kaggle) (2.10)\n",
            "Requirement already satisfied: text-unidecode>=1.3 in /usr/local/lib/python3.6/dist-packages (from python-slugify->kaggle) (1.3)\n"
          ],
          "name": "stdout"
        }
      ]
    },
    {
      "cell_type": "markdown",
      "metadata": {
        "id": "prAxyZ-mHnY1",
        "colab_type": "text"
      },
      "source": [
        "\n",
        "\n",
        "First import the necessary modules"
      ]
    },
    {
      "cell_type": "code",
      "metadata": {
        "id": "rlHeCCR7b4IP",
        "colab_type": "code",
        "colab": {}
      },
      "source": [
        "import numpy as np\n",
        "import pandas as pd\n",
        "import seaborn as sns\n",
        "import matplotlib.pyplot as plt\n",
        "%matplotlib inline\n",
        "\n"
      ],
      "execution_count": null,
      "outputs": []
    },
    {
      "cell_type": "code",
      "metadata": {
        "id": "SJpsPYAyYbE3",
        "colab_type": "code",
        "colab": {}
      },
      "source": [
        "TR_Data=pd.read_csv(\"/content/train.csv\")\n",
        "TE_Data=pd.read_csv(\"/content/test.csv\")"
      ],
      "execution_count": null,
      "outputs": []
    },
    {
      "cell_type": "markdown",
      "metadata": {
        "id": "0GbAeahE2t14",
        "colab_type": "text"
      },
      "source": [
        "Importing API token from Kaggle"
      ]
    },
    {
      "cell_type": "code",
      "metadata": {
        "id": "EsAt7bApxBbJ",
        "colab_type": "code",
        "colab": {}
      },
      "source": [
        "#uploading files\n",
        "upload = files.upload()"
      ],
      "execution_count": null,
      "outputs": []
    },
    {
      "cell_type": "code",
      "metadata": {
        "id": "G3AlJdzwwSt-",
        "colab_type": "code",
        "colab": {}
      },
      "source": [
        "#Making directory named 'kaggle'\n",
        "!mkdir ~/.kaggle"
      ],
      "execution_count": null,
      "outputs": []
    },
    {
      "cell_type": "code",
      "metadata": {
        "id": "t-YzjPPoxI-Q",
        "colab_type": "code",
        "colab": {}
      },
      "source": [
        "#Copying kaggle API token to kaggle directory\n",
        "!cp kaggle.json ~/.kaggle"
      ],
      "execution_count": null,
      "outputs": []
    },
    {
      "cell_type": "code",
      "metadata": {
        "id": "F9J8sP7PxOCy",
        "colab_type": "code",
        "colab": {}
      },
      "source": [
        "#Changing permission of kaggle directory\n",
        "!chmod 600 ~/.kaggle/kaggle.json"
      ],
      "execution_count": null,
      "outputs": []
    },
    {
      "cell_type": "code",
      "metadata": {
        "id": "c7o0IiTdxTGU",
        "colab_type": "code",
        "colab": {}
      },
      "source": [
        "!kaggle competitions list"
      ],
      "execution_count": null,
      "outputs": []
    },
    {
      "cell_type": "code",
      "metadata": {
        "id": "I1dUjnl4xWhX",
        "colab_type": "code",
        "colab": {}
      },
      "source": [
        "#Downloading Titanic dataset\n",
        "#!kaggle datasets download -d mlg-ulb/titanic\n",
        "!kaggle competitions download -c titanic\n"
      ],
      "execution_count": null,
      "outputs": []
    },
    {
      "cell_type": "code",
      "metadata": {
        "id": "3a6Xm4kJzsdK",
        "colab_type": "code",
        "colab": {}
      },
      "source": [
        "!ls"
      ],
      "execution_count": null,
      "outputs": []
    },
    {
      "cell_type": "markdown",
      "metadata": {
        "id": "SIZyvyxx6jW2",
        "colab_type": "text"
      },
      "source": [
        "# **Understanding Data and Identifying the variables**"
      ]
    },
    {
      "cell_type": "code",
      "metadata": {
        "id": "ijD7CD1EsCnn",
        "colab_type": "code",
        "colab": {
          "base_uri": "https://localhost:8080/",
          "height": 240
        },
        "outputId": "74334ad1-63d9-4566-f2a8-04e998ea411b"
      },
      "source": [
        "#Loading the data file (training set)\n",
        "TR_Data=pd.read_csv('train.csv')\n",
        "\n",
        "#Displaying the first few lines of training set\n",
        "\n",
        "TR_Data.head(5)"
      ],
      "execution_count": null,
      "outputs": [
        {
          "output_type": "execute_result",
          "data": {
            "text/html": [
              "<div>\n",
              "<style scoped>\n",
              "    .dataframe tbody tr th:only-of-type {\n",
              "        vertical-align: middle;\n",
              "    }\n",
              "\n",
              "    .dataframe tbody tr th {\n",
              "        vertical-align: top;\n",
              "    }\n",
              "\n",
              "    .dataframe thead th {\n",
              "        text-align: right;\n",
              "    }\n",
              "</style>\n",
              "<table border=\"1\" class=\"dataframe\">\n",
              "  <thead>\n",
              "    <tr style=\"text-align: right;\">\n",
              "      <th></th>\n",
              "      <th>PassengerId</th>\n",
              "      <th>Survived</th>\n",
              "      <th>Pclass</th>\n",
              "      <th>Name</th>\n",
              "      <th>Sex</th>\n",
              "      <th>Age</th>\n",
              "      <th>SibSp</th>\n",
              "      <th>Parch</th>\n",
              "      <th>Ticket</th>\n",
              "      <th>Fare</th>\n",
              "      <th>Cabin</th>\n",
              "      <th>Embarked</th>\n",
              "    </tr>\n",
              "  </thead>\n",
              "  <tbody>\n",
              "    <tr>\n",
              "      <th>0</th>\n",
              "      <td>1</td>\n",
              "      <td>0</td>\n",
              "      <td>3</td>\n",
              "      <td>Braund, Mr. Owen Harris</td>\n",
              "      <td>male</td>\n",
              "      <td>22.0</td>\n",
              "      <td>1</td>\n",
              "      <td>0</td>\n",
              "      <td>A/5 21171</td>\n",
              "      <td>7.2500</td>\n",
              "      <td>NaN</td>\n",
              "      <td>S</td>\n",
              "    </tr>\n",
              "    <tr>\n",
              "      <th>1</th>\n",
              "      <td>2</td>\n",
              "      <td>1</td>\n",
              "      <td>1</td>\n",
              "      <td>Cumings, Mrs. John Bradley (Florence Briggs Th...</td>\n",
              "      <td>female</td>\n",
              "      <td>38.0</td>\n",
              "      <td>1</td>\n",
              "      <td>0</td>\n",
              "      <td>PC 17599</td>\n",
              "      <td>71.2833</td>\n",
              "      <td>C85</td>\n",
              "      <td>C</td>\n",
              "    </tr>\n",
              "    <tr>\n",
              "      <th>2</th>\n",
              "      <td>3</td>\n",
              "      <td>1</td>\n",
              "      <td>3</td>\n",
              "      <td>Heikkinen, Miss. Laina</td>\n",
              "      <td>female</td>\n",
              "      <td>26.0</td>\n",
              "      <td>0</td>\n",
              "      <td>0</td>\n",
              "      <td>STON/O2. 3101282</td>\n",
              "      <td>7.9250</td>\n",
              "      <td>NaN</td>\n",
              "      <td>S</td>\n",
              "    </tr>\n",
              "    <tr>\n",
              "      <th>3</th>\n",
              "      <td>4</td>\n",
              "      <td>1</td>\n",
              "      <td>1</td>\n",
              "      <td>Futrelle, Mrs. Jacques Heath (Lily May Peel)</td>\n",
              "      <td>female</td>\n",
              "      <td>35.0</td>\n",
              "      <td>1</td>\n",
              "      <td>0</td>\n",
              "      <td>113803</td>\n",
              "      <td>53.1000</td>\n",
              "      <td>C123</td>\n",
              "      <td>S</td>\n",
              "    </tr>\n",
              "    <tr>\n",
              "      <th>4</th>\n",
              "      <td>5</td>\n",
              "      <td>0</td>\n",
              "      <td>3</td>\n",
              "      <td>Allen, Mr. William Henry</td>\n",
              "      <td>male</td>\n",
              "      <td>35.0</td>\n",
              "      <td>0</td>\n",
              "      <td>0</td>\n",
              "      <td>373450</td>\n",
              "      <td>8.0500</td>\n",
              "      <td>NaN</td>\n",
              "      <td>S</td>\n",
              "    </tr>\n",
              "  </tbody>\n",
              "</table>\n",
              "</div>"
            ],
            "text/plain": [
              "   PassengerId  Survived  Pclass  ...     Fare Cabin  Embarked\n",
              "0            1         0       3  ...   7.2500   NaN         S\n",
              "1            2         1       1  ...  71.2833   C85         C\n",
              "2            3         1       3  ...   7.9250   NaN         S\n",
              "3            4         1       1  ...  53.1000  C123         S\n",
              "4            5         0       3  ...   8.0500   NaN         S\n",
              "\n",
              "[5 rows x 12 columns]"
            ]
          },
          "metadata": {
            "tags": []
          },
          "execution_count": 101
        }
      ]
    },
    {
      "cell_type": "code",
      "metadata": {
        "id": "lNWN966dasDa",
        "colab_type": "code",
        "colab": {
          "base_uri": "https://localhost:8080/",
          "height": 191
        },
        "outputId": "64dec97f-584f-4100-9713-58b3639260c6"
      },
      "source": [
        "#Loading the test data\n",
        "TE_Data=pd.read_csv('test.csv')\n",
        "TE_Data.head(5)"
      ],
      "execution_count": null,
      "outputs": [
        {
          "output_type": "execute_result",
          "data": {
            "text/html": [
              "<div>\n",
              "<style scoped>\n",
              "    .dataframe tbody tr th:only-of-type {\n",
              "        vertical-align: middle;\n",
              "    }\n",
              "\n",
              "    .dataframe tbody tr th {\n",
              "        vertical-align: top;\n",
              "    }\n",
              "\n",
              "    .dataframe thead th {\n",
              "        text-align: right;\n",
              "    }\n",
              "</style>\n",
              "<table border=\"1\" class=\"dataframe\">\n",
              "  <thead>\n",
              "    <tr style=\"text-align: right;\">\n",
              "      <th></th>\n",
              "      <th>PassengerId</th>\n",
              "      <th>Pclass</th>\n",
              "      <th>Name</th>\n",
              "      <th>Sex</th>\n",
              "      <th>Age</th>\n",
              "      <th>SibSp</th>\n",
              "      <th>Parch</th>\n",
              "      <th>Ticket</th>\n",
              "      <th>Fare</th>\n",
              "      <th>Cabin</th>\n",
              "      <th>Embarked</th>\n",
              "    </tr>\n",
              "  </thead>\n",
              "  <tbody>\n",
              "    <tr>\n",
              "      <th>0</th>\n",
              "      <td>892</td>\n",
              "      <td>3</td>\n",
              "      <td>Kelly, Mr. James</td>\n",
              "      <td>male</td>\n",
              "      <td>34.5</td>\n",
              "      <td>0</td>\n",
              "      <td>0</td>\n",
              "      <td>330911</td>\n",
              "      <td>7.8292</td>\n",
              "      <td>NaN</td>\n",
              "      <td>Q</td>\n",
              "    </tr>\n",
              "    <tr>\n",
              "      <th>1</th>\n",
              "      <td>893</td>\n",
              "      <td>3</td>\n",
              "      <td>Wilkes, Mrs. James (Ellen Needs)</td>\n",
              "      <td>female</td>\n",
              "      <td>47.0</td>\n",
              "      <td>1</td>\n",
              "      <td>0</td>\n",
              "      <td>363272</td>\n",
              "      <td>7.0000</td>\n",
              "      <td>NaN</td>\n",
              "      <td>S</td>\n",
              "    </tr>\n",
              "    <tr>\n",
              "      <th>2</th>\n",
              "      <td>894</td>\n",
              "      <td>2</td>\n",
              "      <td>Myles, Mr. Thomas Francis</td>\n",
              "      <td>male</td>\n",
              "      <td>62.0</td>\n",
              "      <td>0</td>\n",
              "      <td>0</td>\n",
              "      <td>240276</td>\n",
              "      <td>9.6875</td>\n",
              "      <td>NaN</td>\n",
              "      <td>Q</td>\n",
              "    </tr>\n",
              "    <tr>\n",
              "      <th>3</th>\n",
              "      <td>895</td>\n",
              "      <td>3</td>\n",
              "      <td>Wirz, Mr. Albert</td>\n",
              "      <td>male</td>\n",
              "      <td>27.0</td>\n",
              "      <td>0</td>\n",
              "      <td>0</td>\n",
              "      <td>315154</td>\n",
              "      <td>8.6625</td>\n",
              "      <td>NaN</td>\n",
              "      <td>S</td>\n",
              "    </tr>\n",
              "    <tr>\n",
              "      <th>4</th>\n",
              "      <td>896</td>\n",
              "      <td>3</td>\n",
              "      <td>Hirvonen, Mrs. Alexander (Helga E Lindqvist)</td>\n",
              "      <td>female</td>\n",
              "      <td>22.0</td>\n",
              "      <td>1</td>\n",
              "      <td>1</td>\n",
              "      <td>3101298</td>\n",
              "      <td>12.2875</td>\n",
              "      <td>NaN</td>\n",
              "      <td>S</td>\n",
              "    </tr>\n",
              "  </tbody>\n",
              "</table>\n",
              "</div>"
            ],
            "text/plain": [
              "   PassengerId  Pclass  ... Cabin Embarked\n",
              "0          892       3  ...   NaN        Q\n",
              "1          893       3  ...   NaN        S\n",
              "2          894       2  ...   NaN        Q\n",
              "3          895       3  ...   NaN        S\n",
              "4          896       3  ...   NaN        S\n",
              "\n",
              "[5 rows x 11 columns]"
            ]
          },
          "metadata": {
            "tags": []
          },
          "execution_count": 102
        }
      ]
    },
    {
      "cell_type": "markdown",
      "metadata": {
        "id": "mjH3CBeRbvQ8",
        "colab_type": "text"
      },
      "source": [
        "The data has two part:\n",
        "\n",
        "1. Train data :- This data is used to create a ML model . Model should be created based on the insights we get from Exploratory data analysis.In train data set , we give the out come or target variable is known, in this case , we know the details of Survived or not\n",
        "\n",
        "2. Test data:- Thsi data is used to test how accurate the model performs . Test data do not consist of target variable. For each passenger in the test set we should be able to predict , whether he/she was survived or not."
      ]
    },
    {
      "cell_type": "markdown",
      "metadata": {
        "id": "jxAKHIUjhAZm",
        "colab_type": "text"
      },
      "source": [
        "Lets understand the features...."
      ]
    },
    {
      "cell_type": "code",
      "metadata": {
        "id": "DOV-TaaG04hX",
        "colab_type": "code",
        "colab": {
          "base_uri": "https://localhost:8080/",
          "height": 33
        },
        "outputId": "108366cd-db55-41bf-9746-8d11b8a2d598"
      },
      "source": [
        "#Size of data ie row x cloumn\n",
        "TR_Data.size"
      ],
      "execution_count": null,
      "outputs": [
        {
          "output_type": "execute_result",
          "data": {
            "text/plain": [
              "10692"
            ]
          },
          "metadata": {
            "tags": []
          },
          "execution_count": 103
        }
      ]
    },
    {
      "cell_type": "code",
      "metadata": {
        "id": "rnqqDeRgbBuB",
        "colab_type": "code",
        "colab": {}
      },
      "source": [
        ""
      ],
      "execution_count": null,
      "outputs": []
    },
    {
      "cell_type": "code",
      "metadata": {
        "id": "UVKcbFRt15LF",
        "colab_type": "code",
        "colab": {
          "base_uri": "https://localhost:8080/",
          "height": 33
        },
        "outputId": "86f22e87-51c5-494e-832c-2a2538701cc1"
      },
      "source": [
        "#Shape of data which is the number of rows and columns\n",
        "TR_Data.shape"
      ],
      "execution_count": null,
      "outputs": [
        {
          "output_type": "execute_result",
          "data": {
            "text/plain": [
              "(891, 12)"
            ]
          },
          "metadata": {
            "tags": []
          },
          "execution_count": 104
        }
      ]
    },
    {
      "cell_type": "code",
      "metadata": {
        "id": "CUkAI0du2D0Q",
        "colab_type": "code",
        "colab": {
          "base_uri": "https://localhost:8080/",
          "height": 33
        },
        "outputId": "03221c6d-85af-47bd-b54a-dc1e64f74a04"
      },
      "source": [
        "#Dimension of the array/data\n",
        "TR_Data.ndim"
      ],
      "execution_count": null,
      "outputs": [
        {
          "output_type": "execute_result",
          "data": {
            "text/plain": [
              "2"
            ]
          },
          "metadata": {
            "tags": []
          },
          "execution_count": 105
        }
      ]
    },
    {
      "cell_type": "code",
      "metadata": {
        "id": "9itdVe1KGKMg",
        "colab_type": "code",
        "colab": {
          "base_uri": "https://localhost:8080/",
          "height": 277
        },
        "outputId": "e412882c-e6d2-423d-8d05-799a3ce3c8b1"
      },
      "source": [
        "# Decribe function is used to view some basic statistical details like percentile, mean, std etc.\n",
        "TR_Data.describe()"
      ],
      "execution_count": null,
      "outputs": [
        {
          "output_type": "execute_result",
          "data": {
            "text/html": [
              "<div>\n",
              "<style scoped>\n",
              "    .dataframe tbody tr th:only-of-type {\n",
              "        vertical-align: middle;\n",
              "    }\n",
              "\n",
              "    .dataframe tbody tr th {\n",
              "        vertical-align: top;\n",
              "    }\n",
              "\n",
              "    .dataframe thead th {\n",
              "        text-align: right;\n",
              "    }\n",
              "</style>\n",
              "<table border=\"1\" class=\"dataframe\">\n",
              "  <thead>\n",
              "    <tr style=\"text-align: right;\">\n",
              "      <th></th>\n",
              "      <th>PassengerId</th>\n",
              "      <th>Survived</th>\n",
              "      <th>Pclass</th>\n",
              "      <th>Age</th>\n",
              "      <th>SibSp</th>\n",
              "      <th>Parch</th>\n",
              "      <th>Fare</th>\n",
              "    </tr>\n",
              "  </thead>\n",
              "  <tbody>\n",
              "    <tr>\n",
              "      <th>count</th>\n",
              "      <td>891.000000</td>\n",
              "      <td>891.000000</td>\n",
              "      <td>891.000000</td>\n",
              "      <td>714.000000</td>\n",
              "      <td>891.000000</td>\n",
              "      <td>891.000000</td>\n",
              "      <td>891.000000</td>\n",
              "    </tr>\n",
              "    <tr>\n",
              "      <th>mean</th>\n",
              "      <td>446.000000</td>\n",
              "      <td>0.383838</td>\n",
              "      <td>2.308642</td>\n",
              "      <td>29.699118</td>\n",
              "      <td>0.523008</td>\n",
              "      <td>0.381594</td>\n",
              "      <td>32.204208</td>\n",
              "    </tr>\n",
              "    <tr>\n",
              "      <th>std</th>\n",
              "      <td>257.353842</td>\n",
              "      <td>0.486592</td>\n",
              "      <td>0.836071</td>\n",
              "      <td>14.526497</td>\n",
              "      <td>1.102743</td>\n",
              "      <td>0.806057</td>\n",
              "      <td>49.693429</td>\n",
              "    </tr>\n",
              "    <tr>\n",
              "      <th>min</th>\n",
              "      <td>1.000000</td>\n",
              "      <td>0.000000</td>\n",
              "      <td>1.000000</td>\n",
              "      <td>0.420000</td>\n",
              "      <td>0.000000</td>\n",
              "      <td>0.000000</td>\n",
              "      <td>0.000000</td>\n",
              "    </tr>\n",
              "    <tr>\n",
              "      <th>25%</th>\n",
              "      <td>223.500000</td>\n",
              "      <td>0.000000</td>\n",
              "      <td>2.000000</td>\n",
              "      <td>20.125000</td>\n",
              "      <td>0.000000</td>\n",
              "      <td>0.000000</td>\n",
              "      <td>7.910400</td>\n",
              "    </tr>\n",
              "    <tr>\n",
              "      <th>50%</th>\n",
              "      <td>446.000000</td>\n",
              "      <td>0.000000</td>\n",
              "      <td>3.000000</td>\n",
              "      <td>28.000000</td>\n",
              "      <td>0.000000</td>\n",
              "      <td>0.000000</td>\n",
              "      <td>14.454200</td>\n",
              "    </tr>\n",
              "    <tr>\n",
              "      <th>75%</th>\n",
              "      <td>668.500000</td>\n",
              "      <td>1.000000</td>\n",
              "      <td>3.000000</td>\n",
              "      <td>38.000000</td>\n",
              "      <td>1.000000</td>\n",
              "      <td>0.000000</td>\n",
              "      <td>31.000000</td>\n",
              "    </tr>\n",
              "    <tr>\n",
              "      <th>max</th>\n",
              "      <td>891.000000</td>\n",
              "      <td>1.000000</td>\n",
              "      <td>3.000000</td>\n",
              "      <td>80.000000</td>\n",
              "      <td>8.000000</td>\n",
              "      <td>6.000000</td>\n",
              "      <td>512.329200</td>\n",
              "    </tr>\n",
              "  </tbody>\n",
              "</table>\n",
              "</div>"
            ],
            "text/plain": [
              "       PassengerId    Survived      Pclass  ...       SibSp       Parch        Fare\n",
              "count   891.000000  891.000000  891.000000  ...  891.000000  891.000000  891.000000\n",
              "mean    446.000000    0.383838    2.308642  ...    0.523008    0.381594   32.204208\n",
              "std     257.353842    0.486592    0.836071  ...    1.102743    0.806057   49.693429\n",
              "min       1.000000    0.000000    1.000000  ...    0.000000    0.000000    0.000000\n",
              "25%     223.500000    0.000000    2.000000  ...    0.000000    0.000000    7.910400\n",
              "50%     446.000000    0.000000    3.000000  ...    0.000000    0.000000   14.454200\n",
              "75%     668.500000    1.000000    3.000000  ...    1.000000    0.000000   31.000000\n",
              "max     891.000000    1.000000    3.000000  ...    8.000000    6.000000  512.329200\n",
              "\n",
              "[8 rows x 7 columns]"
            ]
          },
          "metadata": {
            "tags": []
          },
          "execution_count": 106
        }
      ]
    },
    {
      "cell_type": "code",
      "metadata": {
        "id": "XDtw0xVcIbUZ",
        "colab_type": "code",
        "colab": {
          "base_uri": "https://localhost:8080/",
          "height": 228
        },
        "outputId": "8dbe4eac-5dc9-4ce7-fa0e-4d5c89a7b19f"
      },
      "source": [
        "#Displays the data types of each features or x variables\n",
        "TR_Data.dtypes"
      ],
      "execution_count": null,
      "outputs": [
        {
          "output_type": "execute_result",
          "data": {
            "text/plain": [
              "PassengerId      int64\n",
              "Survived         int64\n",
              "Pclass           int64\n",
              "Name            object\n",
              "Sex             object\n",
              "Age            float64\n",
              "SibSp            int64\n",
              "Parch            int64\n",
              "Ticket          object\n",
              "Fare           float64\n",
              "Cabin           object\n",
              "Embarked        object\n",
              "dtype: object"
            ]
          },
          "metadata": {
            "tags": []
          },
          "execution_count": 107
        }
      ]
    },
    {
      "cell_type": "markdown",
      "metadata": {
        "id": "oLht4VD_hHWP",
        "colab_type": "text"
      },
      "source": [
        "## **Identifying the missing value**\n",
        "\n",
        "Identifying the missing value  and imputing it with most apropriate value is a crucial part of EDA , as negligence in this can impact Model creation and there by leading to wrong prediction."
      ]
    },
    {
      "cell_type": "code",
      "metadata": {
        "id": "I0b7nGyZu-ma",
        "colab_type": "code",
        "colab": {
          "base_uri": "https://localhost:8080/",
          "height": 228
        },
        "outputId": "2fdd11e8-2ed0-4e42-eb81-e6b8c598658a"
      },
      "source": [
        "#checking the missing Value\n",
        "TR_Data.isnull().sum()"
      ],
      "execution_count": null,
      "outputs": [
        {
          "output_type": "execute_result",
          "data": {
            "text/plain": [
              "PassengerId      0\n",
              "Survived         0\n",
              "Pclass           0\n",
              "Name             0\n",
              "Sex              0\n",
              "Age            177\n",
              "SibSp            0\n",
              "Parch            0\n",
              "Ticket           0\n",
              "Fare             0\n",
              "Cabin          687\n",
              "Embarked         2\n",
              "dtype: int64"
            ]
          },
          "metadata": {
            "tags": []
          },
          "execution_count": 108
        }
      ]
    },
    {
      "cell_type": "code",
      "metadata": {
        "id": "tPYl_1Nj2X_N",
        "colab_type": "code",
        "colab": {}
      },
      "source": [
        "def missingdata(data):\n",
        "    total = data.isnull().sum().sort_values(ascending = False)\n",
        "    percent = (data.isnull().sum()/data.isnull().count()*100).sort_values(ascending = False)\n",
        "    ms=pd.concat([total, percent], axis=1, keys=['Total', 'Percent'])\n",
        "    ms= ms[ms[\"Percent\"] > 0]\n",
        "    f,ax =plt.subplots(figsize=(8,6))\n",
        "    plt.xticks(rotation='90')\n",
        "    fig=sns.barplot(ms.index, ms[\"Percent\"],color=\"blue\",alpha=0.8)\n",
        "    plt.xlabel('Features', fontsize=15)\n",
        "    plt.ylabel('Percentage of missing values', fontsize=15)\n",
        "    plt.title('Percentage of missing data by feature', fontsize=15)\n",
        "    return ms"
      ],
      "execution_count": null,
      "outputs": []
    },
    {
      "cell_type": "code",
      "metadata": {
        "id": "ijs1849P2hE9",
        "colab_type": "code",
        "colab": {
          "base_uri": "https://localhost:8080/",
          "height": 567
        },
        "outputId": "bf634d44-fd63-4c5e-a0a0-497e57598ed0"
      },
      "source": [
        "missingdata(TR_Data)"
      ],
      "execution_count": null,
      "outputs": [
        {
          "output_type": "execute_result",
          "data": {
            "text/html": [
              "<div>\n",
              "<style scoped>\n",
              "    .dataframe tbody tr th:only-of-type {\n",
              "        vertical-align: middle;\n",
              "    }\n",
              "\n",
              "    .dataframe tbody tr th {\n",
              "        vertical-align: top;\n",
              "    }\n",
              "\n",
              "    .dataframe thead th {\n",
              "        text-align: right;\n",
              "    }\n",
              "</style>\n",
              "<table border=\"1\" class=\"dataframe\">\n",
              "  <thead>\n",
              "    <tr style=\"text-align: right;\">\n",
              "      <th></th>\n",
              "      <th>Total</th>\n",
              "      <th>Percent</th>\n",
              "    </tr>\n",
              "  </thead>\n",
              "  <tbody>\n",
              "    <tr>\n",
              "      <th>Cabin</th>\n",
              "      <td>687</td>\n",
              "      <td>77.104377</td>\n",
              "    </tr>\n",
              "    <tr>\n",
              "      <th>Age</th>\n",
              "      <td>177</td>\n",
              "      <td>19.865320</td>\n",
              "    </tr>\n",
              "    <tr>\n",
              "      <th>Embarked</th>\n",
              "      <td>2</td>\n",
              "      <td>0.224467</td>\n",
              "    </tr>\n",
              "  </tbody>\n",
              "</table>\n",
              "</div>"
            ],
            "text/plain": [
              "          Total    Percent\n",
              "Cabin       687  77.104377\n",
              "Age         177  19.865320\n",
              "Embarked      2   0.224467"
            ]
          },
          "metadata": {
            "tags": []
          },
          "execution_count": 110
        },
        {
          "output_type": "display_data",
          "data": {
            "image/png": "[encoded data removed]",
            "text/plain": [
              "<Figure size 576x432 with 1 Axes>"
            ]
          },
          "metadata": {
            "tags": [],
            "needs_background": "light"
          }
        }
      ]
    },
    {
      "cell_type": "code",
      "metadata": {
        "id": "wBSBGDEp2pRt",
        "colab_type": "code",
        "colab": {
          "base_uri": "https://localhost:8080/",
          "height": 546
        },
        "outputId": "2e5c40c3-1ee6-4b55-bf10-a64fb3b6f071"
      },
      "source": [
        "missingdata(TE_Data)"
      ],
      "execution_count": null,
      "outputs": [
        {
          "output_type": "execute_result",
          "data": {
            "text/html": [
              "<div>\n",
              "<style scoped>\n",
              "    .dataframe tbody tr th:only-of-type {\n",
              "        vertical-align: middle;\n",
              "    }\n",
              "\n",
              "    .dataframe tbody tr th {\n",
              "        vertical-align: top;\n",
              "    }\n",
              "\n",
              "    .dataframe thead th {\n",
              "        text-align: right;\n",
              "    }\n",
              "</style>\n",
              "<table border=\"1\" class=\"dataframe\">\n",
              "  <thead>\n",
              "    <tr style=\"text-align: right;\">\n",
              "      <th></th>\n",
              "      <th>Total</th>\n",
              "      <th>Percent</th>\n",
              "    </tr>\n",
              "  </thead>\n",
              "  <tbody>\n",
              "    <tr>\n",
              "      <th>Cabin</th>\n",
              "      <td>327</td>\n",
              "      <td>78.229665</td>\n",
              "    </tr>\n",
              "    <tr>\n",
              "      <th>Age</th>\n",
              "      <td>86</td>\n",
              "      <td>20.574163</td>\n",
              "    </tr>\n",
              "    <tr>\n",
              "      <th>Fare</th>\n",
              "      <td>1</td>\n",
              "      <td>0.239234</td>\n",
              "    </tr>\n",
              "  </tbody>\n",
              "</table>\n",
              "</div>"
            ],
            "text/plain": [
              "       Total    Percent\n",
              "Cabin    327  78.229665\n",
              "Age       86  20.574163\n",
              "Fare       1   0.239234"
            ]
          },
          "metadata": {
            "tags": []
          },
          "execution_count": 111
        },
        {
          "output_type": "display_data",
          "data": {
            "image/png": "[encoded data removed]",
            "text/plain": [
              "<Figure size 576x432 with 1 Axes>"
            ]
          },
          "metadata": {
            "tags": [],
            "needs_background": "light"
          }
        }
      ]
    },
    {
      "cell_type": "markdown",
      "metadata": {
        "id": "NPeJajvT3J-J",
        "colab_type": "text"
      },
      "source": [
        "Inference from above graph\n",
        "\n",
        "1. Train and test set has almost similar % missing data in all the features\n",
        "3. Percentage of Missing data in Cabin is around 77 % , which is > 75 % hence , we can exculde the Cabin column in further analysis.\n",
        "4. Age column has 20% of  missing data , which need to be imputed using appropriate imputation techniques."
      ]
    },
    {
      "cell_type": "code",
      "metadata": {
        "id": "ZqyFvAOK8PUy",
        "colab_type": "code",
        "colab": {}
      },
      "source": [
        "# Droping the entire Cabin column from Train Data\n",
        "TR_Data.drop(['Cabin'], axis=1 , inplace= True)"
      ],
      "execution_count": null,
      "outputs": []
    },
    {
      "cell_type": "code",
      "metadata": {
        "id": "qEnMoQAn8yBv",
        "colab_type": "code",
        "colab": {}
      },
      "source": [
        "#Droping the entire Cabin column from Test data\n",
        "TE_data_New=TE_Data.drop(['Cabin'], axis=1 , inplace= True)"
      ],
      "execution_count": null,
      "outputs": []
    },
    {
      "cell_type": "markdown",
      "metadata": {
        "id": "9L-4Wdtljzp4",
        "colab_type": "text"
      },
      "source": [
        "Similarly we can drop Passenger ID column as it has no relevence to survival chance."
      ]
    },
    {
      "cell_type": "code",
      "metadata": {
        "id": "i6eMyB9kj9IX",
        "colab_type": "code",
        "colab": {}
      },
      "source": [
        "#Droping entire passenger ID column from Train data set\n",
        "TR_Data.drop(['PassengerId'], axis=1 , inplace= True)"
      ],
      "execution_count": null,
      "outputs": []
    },
    {
      "cell_type": "code",
      "metadata": {
        "id": "jxy_6dQykVN8",
        "colab_type": "code",
        "colab": {}
      },
      "source": [
        "#Droping entire passenger ID column from Test data set\n",
        "TE_Data.drop(['PassengerId'], axis=1 , inplace= True)"
      ],
      "execution_count": null,
      "outputs": []
    },
    {
      "cell_type": "markdown",
      "metadata": {
        "id": "R1Qem-XECN6c",
        "colab_type": "text"
      },
      "source": [
        "Next we need to impute the missing value in Age feature . There are different method by which missing value can be replaced which are given below.\n",
        "\n",
        "1. Replacing with random values\n",
        "2. Replacing  with statistical methods\n",
        "3. create a model to predict the missing value\n",
        "\n",
        "We are going to choose the second method as the first method is not apt for the age feature and third is expensive.\n",
        "\n",
        "In Statistical method , we can use mean , median or mode value. Selecting one among this again depends up on the presence of outliers and number of duplicate rows.\n",
        "\n",
        "Frist we can check if there is any duplicate row present in data set."
      ]
    },
    {
      "cell_type": "code",
      "metadata": {
        "id": "U_W2Oc3om_SQ",
        "colab_type": "code",
        "colab": {
          "base_uri": "https://localhost:8080/",
          "height": 33
        },
        "outputId": "5bc99cc6-f361-4d11-f996-1b50776a9ffd"
      },
      "source": [
        " TR_Data.duplicated(subset=['Name','Ticket','Pclass', 'Age']).any()"
      ],
      "execution_count": null,
      "outputs": [
        {
          "output_type": "execute_result",
          "data": {
            "text/plain": [
              "False"
            ]
          },
          "metadata": {
            "tags": []
          },
          "execution_count": 116
        }
      ]
    },
    {
      "cell_type": "markdown",
      "metadata": {
        "id": "ma3DCXyoEURX",
        "colab_type": "text"
      },
      "source": [
        "No duplicate rows found.\n",
        "\n",
        "Next we have to look for outliers."
      ]
    },
    {
      "cell_type": "code",
      "metadata": {
        "id": "4tcsk3IxMhCf",
        "colab_type": "code",
        "colab": {
          "base_uri": "https://localhost:8080/",
          "height": 212
        },
        "outputId": "72374512-79f3-4a3b-fc0c-8cd21a932981"
      },
      "source": [
        "# Sorting the Age value in ascending order\n",
        "\n",
        "TR_Data.Age.sort_values()"
      ],
      "execution_count": null,
      "outputs": [
        {
          "output_type": "execute_result",
          "data": {
            "text/plain": [
              "803    0.42\n",
              "755    0.67\n",
              "644    0.75\n",
              "469    0.75\n",
              "78     0.83\n",
              "       ... \n",
              "859     NaN\n",
              "863     NaN\n",
              "868     NaN\n",
              "878     NaN\n",
              "888     NaN\n",
              "Name: Age, Length: 891, dtype: float64"
            ]
          },
          "metadata": {
            "tags": []
          },
          "execution_count": 117
        }
      ]
    },
    {
      "cell_type": "code",
      "metadata": {
        "id": "RusicrCNN3ST",
        "colab_type": "code",
        "colab": {
          "base_uri": "https://localhost:8080/",
          "height": 33
        },
        "outputId": "f9fe0d89-0040-4495-f7a5-3ed95ad489a3"
      },
      "source": [
        "#finding quantile value\n",
        "\n",
        "quantile_1, quantile_3 = np.nanpercentile(TR_Data.Age, [25, 75])\n",
        "print(quantile_1, quantile_3)"
      ],
      "execution_count": null,
      "outputs": [
        {
          "output_type": "stream",
          "text": [
            "20.125 38.0\n"
          ],
          "name": "stdout"
        }
      ]
    },
    {
      "cell_type": "code",
      "metadata": {
        "id": "-bJM5s1HOMEy",
        "colab_type": "code",
        "colab": {
          "base_uri": "https://localhost:8080/",
          "height": 33
        },
        "outputId": "02b48233-6cdb-4dbc-c604-9c7c00939c4e"
      },
      "source": [
        "#Finding the iqr value\n",
        "iqr=quantile_3 - quantile_1\n",
        "print(iqr)"
      ],
      "execution_count": null,
      "outputs": [
        {
          "output_type": "stream",
          "text": [
            "17.875\n"
          ],
          "name": "stdout"
        }
      ]
    },
    {
      "cell_type": "code",
      "metadata": {
        "id": "2uiSSc0LWLK_",
        "colab_type": "code",
        "colab": {
          "base_uri": "https://localhost:8080/",
          "height": 33
        },
        "outputId": "9f59017a-e88b-4af9-a2dc-78ba592f140b"
      },
      "source": [
        "# finding the upper and lower bound value\n",
        "upper_bound = quantile_3 + (1.5 * iqr)\n",
        "lower_bound = quantile_1 -(1.5 * iqr)\n",
        "\n",
        "print(upper_bound , lower_bound)"
      ],
      "execution_count": null,
      "outputs": [
        {
          "output_type": "stream",
          "text": [
            "64.8125 -6.6875\n"
          ],
          "name": "stdout"
        }
      ]
    },
    {
      "cell_type": "code",
      "metadata": {
        "id": "H0WhaVFXXN1i",
        "colab_type": "code",
        "colab": {
          "base_uri": "https://localhost:8080/",
          "height": 336
        },
        "outputId": "01eeb73c-d3b0-4a84-8c3d-885981bd1f1c"
      },
      "source": [
        "plt.figure(figsize = (10, 5))\n",
        "sns.kdeplot(TR_Data.Age)\n",
        "plt.axvline(x=-6.6875, color = 'red')\n",
        "plt.axvline(x=64.8125, color = 'red')"
      ],
      "execution_count": null,
      "outputs": [
        {
          "output_type": "execute_result",
          "data": {
            "text/plain": [
              "<matplotlib.lines.Line2D at 0x7fa5b58c1b70>"
            ]
          },
          "metadata": {
            "tags": []
          },
          "execution_count": 121
        },
        {
          "output_type": "display_data",
          "data": {
            "image/png": "[encoded data removed]",
            "text/plain": [
              "<Figure size 720x360 with 1 Axes>"
            ]
          },
          "metadata": {
            "tags": [],
            "needs_background": "light"
          }
        }
      ]
    },
    {
      "cell_type": "code",
      "metadata": {
        "id": "Rxqws2f1YTk6",
        "colab_type": "code",
        "colab": {
          "base_uri": "https://localhost:8080/",
          "height": 350
        },
        "outputId": "e2ff4ce6-272d-449b-ad6d-83e7977d62c5"
      },
      "source": [
        "plt.figure(figsize = (10, 5))\n",
        "sns.boxplot(x = TR_Data.Age)"
      ],
      "execution_count": null,
      "outputs": [
        {
          "output_type": "execute_result",
          "data": {
            "text/plain": [
              "<matplotlib.axes._subplots.AxesSubplot at 0x7fa5b590be10>"
            ]
          },
          "metadata": {
            "tags": []
          },
          "execution_count": 122
        },
        {
          "output_type": "display_data",
          "data": {
            "image/png": "[encoded data removed]",
            "text/plain": [
              "<Figure size 720x360 with 1 Axes>"
            ]
          },
          "metadata": {
            "tags": [],
            "needs_background": "light"
          }
        }
      ]
    },
    {
      "cell_type": "markdown",
      "metadata": {
        "id": "K55VPAW_YcfE",
        "colab_type": "text"
      },
      "source": [
        "\n",
        "From above two graphs , we can see that the outliers does exist in upper bound . So taking mean can cause positive skewing on the bell curve. So in this scenerio it is appropriate to impute the missing value in Age column by median."
      ]
    },
    {
      "cell_type": "code",
      "metadata": {
        "id": "IJUWUOQR-8i4",
        "colab_type": "code",
        "colab": {}
      },
      "source": [
        "#Replacing the missing value by median \n",
        "TR_Data['Age']=TR_Data['Age'].fillna(TR_Data['Age'].median())"
      ],
      "execution_count": null,
      "outputs": []
    },
    {
      "cell_type": "code",
      "metadata": {
        "id": "NxdaySOScNK1",
        "colab_type": "code",
        "colab": {}
      },
      "source": [
        "#Replacing missing values in Embarked feature with mode as it is catagorical variable\n",
        "TR_Data['Embarked'].fillna(TR_Data['Embarked'].mode()[0], inplace = True)"
      ],
      "execution_count": null,
      "outputs": []
    },
    {
      "cell_type": "code",
      "metadata": {
        "id": "m0T8sTgueTiH",
        "colab_type": "code",
        "colab": {}
      },
      "source": [
        "#Imputing missing values of Age in test data with median\n",
        "TE_Data['Age'].fillna(TE_Data['Age'].median(), inplace = True)"
      ],
      "execution_count": null,
      "outputs": []
    },
    {
      "cell_type": "code",
      "metadata": {
        "id": "nTEfMTX5dO1j",
        "colab_type": "code",
        "colab": {}
      },
      "source": [
        "# Imputing Test Data feature , Fare with median as there is only one value  missing \n",
        "TE_Data['Fare'].fillna(TE_Data['Fare'].median(), inplace = True)\n"
      ],
      "execution_count": null,
      "outputs": []
    },
    {
      "cell_type": "code",
      "metadata": {
        "id": "9L_2MAU7aYBS",
        "colab_type": "code",
        "colab": {
          "base_uri": "https://localhost:8080/",
          "height": 196
        },
        "outputId": "a1e498c9-1911-406d-acc9-14dc9bdba184"
      },
      "source": [
        "#Checking the missing value again in Train and Test data\n",
        "TR_Data.isnull().sum()\n"
      ],
      "execution_count": null,
      "outputs": [
        {
          "output_type": "execute_result",
          "data": {
            "text/plain": [
              "Survived    0\n",
              "Pclass      0\n",
              "Name        0\n",
              "Sex         0\n",
              "Age         0\n",
              "SibSp       0\n",
              "Parch       0\n",
              "Ticket      0\n",
              "Fare        0\n",
              "Embarked    0\n",
              "dtype: int64"
            ]
          },
          "metadata": {
            "tags": []
          },
          "execution_count": 127
        }
      ]
    },
    {
      "cell_type": "code",
      "metadata": {
        "id": "WfTh3qsOkoj5",
        "colab_type": "code",
        "colab": {
          "base_uri": "https://localhost:8080/",
          "height": 180
        },
        "outputId": "24659b74-c6cd-4326-a86a-55c850a95569"
      },
      "source": [
        "TE_Data.isnull().sum()"
      ],
      "execution_count": null,
      "outputs": [
        {
          "output_type": "execute_result",
          "data": {
            "text/plain": [
              "Pclass      0\n",
              "Name        0\n",
              "Sex         0\n",
              "Age         0\n",
              "SibSp       0\n",
              "Parch       0\n",
              "Ticket      0\n",
              "Fare        0\n",
              "Embarked    0\n",
              "dtype: int64"
            ]
          },
          "metadata": {
            "tags": []
          },
          "execution_count": 128
        }
      ]
    },
    {
      "cell_type": "markdown",
      "metadata": {
        "id": "eIlqmyoCbmW_",
        "colab_type": "text"
      },
      "source": [
        "With above Step we have Completed missing value imputations .\n",
        "Now our data set is perfect without any missing value.\n",
        "\n",
        "Lets find out the number and percentage of people who survived."
      ]
    },
    {
      "cell_type": "code",
      "metadata": {
        "id": "V21aX2MhOXvr",
        "colab_type": "code",
        "colab": {
          "base_uri": "https://localhost:8080/",
          "height": 295
        },
        "outputId": "b6117113-d0d6-46c7-dab8-cba900ee7f46"
      },
      "source": [
        "# Finding out how many people survived and how many not\n",
        "plt.figure(figsize=(6,4))\n",
        "sns.countplot(x = 'Survived' , data = TR_Data)\n"
      ],
      "execution_count": null,
      "outputs": [
        {
          "output_type": "execute_result",
          "data": {
            "text/plain": [
              "<matplotlib.axes._subplots.AxesSubplot at 0x7fa5b5866128>"
            ]
          },
          "metadata": {
            "tags": []
          },
          "execution_count": 129
        },
        {
          "output_type": "display_data",
          "data": {
            "image/png": "[encoded data removed]",
            "text/plain": [
              "<Figure size 432x288 with 1 Axes>"
            ]
          },
          "metadata": {
            "tags": [],
            "needs_background": "light"
          }
        }
      ]
    },
    {
      "cell_type": "markdown",
      "metadata": {
        "id": "kw7a8_B14jA_",
        "colab_type": "text"
      },
      "source": [
        "From the above Graph, we can infer that the survival rate is very less. Lets find out if there is any feature which contributes to survival chance.\n",
        "\n",
        "For this Iam going to consider some of the relevant features with can ppotentially influence the survival rates and do teh visualisation of those features.\n",
        "\n"
      ]
    },
    {
      "cell_type": "markdown",
      "metadata": {
        "id": "FlDAot1wPAO-",
        "colab_type": "text"
      },
      "source": [
        "Lets find out the percentage of people who survived"
      ]
    },
    {
      "cell_type": "code",
      "metadata": {
        "id": "hXRIG-opPKfE",
        "colab_type": "code",
        "colab": {
          "base_uri": "https://localhost:8080/",
          "height": 33
        },
        "outputId": "0b97d0a5-bac3-497d-d4e6-0125d1219a9d"
      },
      "source": [
        "print(TR_Data.Survived.sum()/TR_Data.Survived.count())"
      ],
      "execution_count": null,
      "outputs": [
        {
          "output_type": "stream",
          "text": [
            "0.3838383838383838\n"
          ],
          "name": "stdout"
        }
      ]
    },
    {
      "cell_type": "markdown",
      "metadata": {
        "id": "AUFi_0dDQOqN",
        "colab_type": "text"
      },
      "source": [
        "Only 38 % of the people survived and it is very less compared to other ship accidents and can count as one of the biggest accidents in the history.\n",
        "\n",
        "As I stated in the introduction this notorious disaster has caused wide spread outrage over many factors especially unequal treatment of passengers. \n",
        "\n",
        "So it is important to find if there are any feature which increased survival chance\n",
        "\n",
        "Lets do the analysis of feature one by one.\n",
        "\n",
        "First lets look at the Gender and survival chance."
      ]
    },
    {
      "cell_type": "code",
      "metadata": {
        "id": "E5LgJmdvAw-6",
        "colab_type": "code",
        "colab": {
          "base_uri": "https://localhost:8080/",
          "height": 115
        },
        "outputId": "06d5b159-1822-492c-d8a9-8b4bf8b63176"
      },
      "source": [
        "#Finding relation between Sex and survival rate\n",
        "TR_Data.groupby(['Sex','Survived'])['Survived'].count()"
      ],
      "execution_count": null,
      "outputs": [
        {
          "output_type": "execute_result",
          "data": {
            "text/plain": [
              "Sex     Survived\n",
              "female  0            81\n",
              "        1           233\n",
              "male    0           468\n",
              "        1           109\n",
              "Name: Survived, dtype: int64"
            ]
          },
          "metadata": {
            "tags": []
          },
          "execution_count": 131
        }
      ]
    },
    {
      "cell_type": "code",
      "metadata": {
        "id": "gAj9WEcsBXmQ",
        "colab_type": "code",
        "colab": {
          "base_uri": "https://localhost:8080/",
          "height": 295
        },
        "outputId": "d126045f-6903-4aa9-a958-4c59a7ca5c03"
      },
      "source": [
        "#Visualizing the graph for Sex Vs Survived\n",
        "sns.countplot('Sex', hue='Survived', data=TR_Data)\n"
      ],
      "execution_count": null,
      "outputs": [
        {
          "output_type": "execute_result",
          "data": {
            "text/plain": [
              "<matplotlib.axes._subplots.AxesSubplot at 0x7fa5b5825710>"
            ]
          },
          "metadata": {
            "tags": []
          },
          "execution_count": 132
        },
        {
          "output_type": "display_data",
          "data": {
            "image/png": "[encoded data removed]",
            "text/plain": [
              "<Figure size 432x288 with 1 Axes>"
            ]
          },
          "metadata": {
            "tags": [],
            "needs_background": "light"
          }
        }
      ]
    },
    {
      "cell_type": "code",
      "metadata": {
        "id": "AmGmKL8rTM6J",
        "colab_type": "code",
        "colab": {
          "base_uri": "https://localhost:8080/",
          "height": 50
        },
        "outputId": "bb04ef51-c9dc-4dbc-b058-f0dc37e0ddd2"
      },
      "source": [
        "#Percentage of men and women Survived\n",
        "print(\"% of women Survived:\", TR_Data[TR_Data.Sex == 'female'].Survived.sum()/TR_Data[TR_Data.Sex =='female'].Survived.count())\n",
        "print(\"% of men survived :\", TR_Data[TR_Data.Sex == 'male'].Survived.sum()/TR_Data[TR_Data.Sex =='male'].Survived.count())\n"
      ],
      "execution_count": null,
      "outputs": [
        {
          "output_type": "stream",
          "text": [
            "% of women Survived: 0.7420382165605095\n",
            "% of men survived : 0.18890814558058924\n"
          ],
          "name": "stdout"
        }
      ]
    },
    {
      "cell_type": "code",
      "metadata": {
        "id": "L9wr0KA8Vl2O",
        "colab_type": "code",
        "colab": {
          "base_uri": "https://localhost:8080/",
          "height": 427
        },
        "outputId": "14025917-aed9-4505-a8e2-f76b97dbecb0"
      },
      "source": [
        "#Plotting graphs of percentage of women and men survived\n",
        "\n",
        "f,ax=plt.subplots(1,2,figsize=(16,7))\n",
        "TR_Data['Survived'][TR_Data['Sex']=='male'].value_counts().plot.pie(explode=[0,0.2],autopct='%1.1f%%',ax=ax[0],shadow=True)\n",
        "TR_Data['Survived'][TR_Data['Sex']=='female'].value_counts().plot.pie(explode=[0,0.2],autopct='%1.1f%%',ax=ax[1],shadow=True)\n",
        "ax[0].set_title('Survived (male)')\n",
        "ax[1].set_title('Survived (female)')\n",
        "\n",
        "plt.show()"
      ],
      "execution_count": null,
      "outputs": [
        {
          "output_type": "display_data",
          "data": {
            "image/png": "[encoded data removed]",
            "text/plain": [
              "<Figure size 1152x504 with 2 Axes>"
            ]
          },
          "metadata": {
            "tags": []
          }
        }
      ]
    },
    {
      "cell_type": "markdown",
      "metadata": {
        "id": "xWi1ZYnTDc_O",
        "colab_type": "text"
      },
      "source": [
        "From the above graph it is evident that the Survival chance is more in females. It might be due to women are given preference and considered as vulnarable sections of society.\n",
        "\n",
        "This evaluation doesnt consider the number of children so we need to find out the number of children and percentage of children in total females to confirm that they really gave preference to Female over male or not."
      ]
    },
    {
      "cell_type": "markdown",
      "metadata": {
        "id": "hEpRqkxRS14E",
        "colab_type": "text"
      },
      "source": [
        "Now lets find out the number of children"
      ]
    },
    {
      "cell_type": "markdown",
      "metadata": {
        "id": "tjLjtuIRbpbG",
        "colab_type": "text"
      },
      "source": [
        "Binning Age into 8 groups"
      ]
    },
    {
      "cell_type": "code",
      "metadata": {
        "id": "29Nx-1HHa-zj",
        "colab_type": "code",
        "colab": {
          "base_uri": "https://localhost:8080/",
          "height": 115
        },
        "outputId": "bd94d774-1188-463d-f6c5-fef14cfd7eec"
      },
      "source": [
        "for df in [TR_Data, TE_Data]:\n",
        "    df['Age_grp']=np.nan\n",
        "    for i in range(8,0,-1):\n",
        "        df.loc[ df['Age'] <= i*10, 'Age_grp'] = i\n",
        "\n",
        "print(TR_Data[['Age', 'Age_grp']].head(5))"
      ],
      "execution_count": null,
      "outputs": [
        {
          "output_type": "stream",
          "text": [
            "    Age  Age_grp\n",
            "0  22.0      3.0\n",
            "1  38.0      4.0\n",
            "2  26.0      3.0\n",
            "3  35.0      4.0\n",
            "4  35.0      4.0\n"
          ],
          "name": "stdout"
        }
      ]
    },
    {
      "cell_type": "code",
      "metadata": {
        "id": "iNlhe_3_2Lgz",
        "colab_type": "code",
        "colab": {
          "base_uri": "https://localhost:8080/",
          "height": 385
        },
        "outputId": "cdb9851e-3e4e-4762-f0b7-cfc09b67f22b"
      },
      "source": [
        "#plt.figure(figsize=(20,5))\n",
        "sns.catplot(x=\"Age_grp\",y=\"Survived\" , kind = \"swarm\",hue=\"Sex\", data=TR_Data, height=5, aspect=2)\n",
        "\n"
      ],
      "execution_count": null,
      "outputs": [
        {
          "output_type": "execute_result",
          "data": {
            "text/plain": [
              "<seaborn.axisgrid.FacetGrid at 0x7fa5b5763080>"
            ]
          },
          "metadata": {
            "tags": []
          },
          "execution_count": 136
        },
        {
          "output_type": "display_data",
          "data": {
            "image/png": "[encoded data removed]",
            "text/plain": [
              "<Figure size 790.5x360 with 1 Axes>"
            ]
          },
          "metadata": {
            "tags": [],
            "needs_background": "light"
          }
        }
      ]
    },
    {
      "cell_type": "code",
      "metadata": {
        "id": "jeSYoLS9tjmN",
        "colab_type": "code",
        "colab": {
          "base_uri": "https://localhost:8080/",
          "height": 306
        },
        "outputId": "e25e7c32-6889-4029-a5fe-1eb1f7dfc3ca"
      },
      "source": [
        "fig = plt.figure(figsize=(25, 7))\n",
        "sns.violinplot(x='Sex', y='Age_grp', \n",
        "               hue='Survived', data=TR_Data, \n",
        "               split=True,\n",
        "               palette={0: \"r\", 1: \"b\"}\n",
        "              );"
      ],
      "execution_count": null,
      "outputs": [
        {
          "output_type": "display_data",
          "data": {
            "image/png": "[encoded data removed]",
            "text/plain": [
              "<Figure size 1800x504 with 1 Axes>"
            ]
          },
          "metadata": {
            "tags": [],
            "needs_background": "light"
          }
        }
      ]
    },
    {
      "cell_type": "markdown",
      "metadata": {
        "id": "-ppQsxk45UBz",
        "colab_type": "text"
      },
      "source": [
        "Above graph represents the Survived male consist of lot of children , We can conclude that the Survival chance was more for kids and females."
      ]
    },
    {
      "cell_type": "markdown",
      "metadata": {
        "id": "xs-B-nJvngjL",
        "colab_type": "text"
      },
      "source": [
        "Above count says that there are no duplicate entries in dataset."
      ]
    },
    {
      "cell_type": "markdown",
      "metadata": {
        "id": "0COJLCk4EcrQ",
        "colab_type": "text"
      },
      "source": [
        "Now lets find out the relation between Passenger class and Survival chance"
      ]
    },
    {
      "cell_type": "code",
      "metadata": {
        "id": "ScryY2_zEliO",
        "colab_type": "code",
        "colab": {
          "base_uri": "https://localhost:8080/",
          "height": 147
        },
        "outputId": "69e03896-9fff-4d67-808c-114404501305"
      },
      "source": [
        "#Find out the relation between Pclass and Survival chance\n",
        "TR_Data.groupby(['Pclass','Survived'])['Survived'].count()"
      ],
      "execution_count": null,
      "outputs": [
        {
          "output_type": "execute_result",
          "data": {
            "text/plain": [
              "Pclass  Survived\n",
              "1       0            80\n",
              "        1           136\n",
              "2       0            97\n",
              "        1            87\n",
              "3       0           372\n",
              "        1           119\n",
              "Name: Survived, dtype: int64"
            ]
          },
          "metadata": {
            "tags": []
          },
          "execution_count": 138
        }
      ]
    },
    {
      "cell_type": "code",
      "metadata": {
        "id": "FTbiDJjRHKhP",
        "colab_type": "code",
        "colab": {
          "base_uri": "https://localhost:8080/",
          "height": 295
        },
        "outputId": "44f3df79-36df-49aa-f5e2-2a22063a6df9"
      },
      "source": [
        "#Plotting graph of Pclass vs Survived\n",
        "sns.countplot('Pclass', hue='Survived', data=TR_Data)\n"
      ],
      "execution_count": null,
      "outputs": [
        {
          "output_type": "execute_result",
          "data": {
            "text/plain": [
              "<matplotlib.axes._subplots.AxesSubplot at 0x7fa5b5c55da0>"
            ]
          },
          "metadata": {
            "tags": []
          },
          "execution_count": 139
        },
        {
          "output_type": "display_data",
          "data": {
            "image/png": "[encoded data removed]",
            "text/plain": [
              "<Figure size 432x288 with 1 Axes>"
            ]
          },
          "metadata": {
            "tags": [],
            "needs_background": "light"
          }
        }
      ]
    },
    {
      "cell_type": "code",
      "metadata": {
        "id": "iRr1A947zkpq",
        "colab_type": "code",
        "colab": {
          "base_uri": "https://localhost:8080/",
          "height": 123
        },
        "outputId": "e90e15ab-866b-40e8-d845-c01ae967c31a"
      },
      "source": [
        "#plotting as crosstab for better understanding\n",
        "\n",
        "pd.crosstab(TR_Data.Pclass, TR_Data.Survived, margins=True).style.background_gradient(cmap='autumn_r')"
      ],
      "execution_count": null,
      "outputs": [
        {
          "output_type": "execute_result",
          "data": {
            "text/html": [
              "<style  type=\"text/css\" >\n",
              "    #T_72050b22_d54e_11ea_b604_0242ac1c0002row0_col0 {\n",
              "            background-color:  #ffff00;\n",
              "            color:  #000000;\n",
              "        }    #T_72050b22_d54e_11ea_b604_0242ac1c0002row0_col1 {\n",
              "            background-color:  #ffce00;\n",
              "            color:  #000000;\n",
              "        }    #T_72050b22_d54e_11ea_b604_0242ac1c0002row0_col2 {\n",
              "            background-color:  #fff400;\n",
              "            color:  #000000;\n",
              "        }    #T_72050b22_d54e_11ea_b604_0242ac1c0002row1_col0 {\n",
              "            background-color:  #fff600;\n",
              "            color:  #000000;\n",
              "        }    #T_72050b22_d54e_11ea_b604_0242ac1c0002row1_col1 {\n",
              "            background-color:  #ffff00;\n",
              "            color:  #000000;\n",
              "        }    #T_72050b22_d54e_11ea_b604_0242ac1c0002row1_col2 {\n",
              "            background-color:  #ffff00;\n",
              "            color:  #000000;\n",
              "        }    #T_72050b22_d54e_11ea_b604_0242ac1c0002row2_col0 {\n",
              "            background-color:  #ff6000;\n",
              "            color:  #000000;\n",
              "        }    #T_72050b22_d54e_11ea_b604_0242ac1c0002row2_col1 {\n",
              "            background-color:  #ffdf00;\n",
              "            color:  #000000;\n",
              "        }    #T_72050b22_d54e_11ea_b604_0242ac1c0002row2_col2 {\n",
              "            background-color:  #ff9000;\n",
              "            color:  #000000;\n",
              "        }    #T_72050b22_d54e_11ea_b604_0242ac1c0002row3_col0 {\n",
              "            background-color:  #ff0000;\n",
              "            color:  #f1f1f1;\n",
              "        }    #T_72050b22_d54e_11ea_b604_0242ac1c0002row3_col1 {\n",
              "            background-color:  #ff0000;\n",
              "            color:  #f1f1f1;\n",
              "        }    #T_72050b22_d54e_11ea_b604_0242ac1c0002row3_col2 {\n",
              "            background-color:  #ff0000;\n",
              "            color:  #f1f1f1;\n",
              "        }</style><table id=\"T_72050b22_d54e_11ea_b604_0242ac1c0002\" ><thead>    <tr>        <th class=\"index_name level0\" >Survived</th>        <th class=\"col_heading level0 col0\" >0</th>        <th class=\"col_heading level0 col1\" >1</th>        <th class=\"col_heading level0 col2\" >All</th>    </tr>    <tr>        <th class=\"index_name level0\" >Pclass</th>        <th class=\"blank\" ></th>        <th class=\"blank\" ></th>        <th class=\"blank\" ></th>    </tr></thead><tbody>\n",
              "                <tr>\n",
              "                        <th id=\"T_72050b22_d54e_11ea_b604_0242ac1c0002level0_row0\" class=\"row_heading level0 row0\" >1</th>\n",
              "                        <td id=\"T_72050b22_d54e_11ea_b604_0242ac1c0002row0_col0\" class=\"data row0 col0\" >80</td>\n",
              "                        <td id=\"T_72050b22_d54e_11ea_b604_0242ac1c0002row0_col1\" class=\"data row0 col1\" >136</td>\n",
              "                        <td id=\"T_72050b22_d54e_11ea_b604_0242ac1c0002row0_col2\" class=\"data row0 col2\" >216</td>\n",
              "            </tr>\n",
              "            <tr>\n",
              "                        <th id=\"T_72050b22_d54e_11ea_b604_0242ac1c0002level0_row1\" class=\"row_heading level0 row1\" >2</th>\n",
              "                        <td id=\"T_72050b22_d54e_11ea_b604_0242ac1c0002row1_col0\" class=\"data row1 col0\" >97</td>\n",
              "                        <td id=\"T_72050b22_d54e_11ea_b604_0242ac1c0002row1_col1\" class=\"data row1 col1\" >87</td>\n",
              "                        <td id=\"T_72050b22_d54e_11ea_b604_0242ac1c0002row1_col2\" class=\"data row1 col2\" >184</td>\n",
              "            </tr>\n",
              "            <tr>\n",
              "                        <th id=\"T_72050b22_d54e_11ea_b604_0242ac1c0002level0_row2\" class=\"row_heading level0 row2\" >3</th>\n",
              "                        <td id=\"T_72050b22_d54e_11ea_b604_0242ac1c0002row2_col0\" class=\"data row2 col0\" >372</td>\n",
              "                        <td id=\"T_72050b22_d54e_11ea_b604_0242ac1c0002row2_col1\" class=\"data row2 col1\" >119</td>\n",
              "                        <td id=\"T_72050b22_d54e_11ea_b604_0242ac1c0002row2_col2\" class=\"data row2 col2\" >491</td>\n",
              "            </tr>\n",
              "            <tr>\n",
              "                        <th id=\"T_72050b22_d54e_11ea_b604_0242ac1c0002level0_row3\" class=\"row_heading level0 row3\" >All</th>\n",
              "                        <td id=\"T_72050b22_d54e_11ea_b604_0242ac1c0002row3_col0\" class=\"data row3 col0\" >549</td>\n",
              "                        <td id=\"T_72050b22_d54e_11ea_b604_0242ac1c0002row3_col1\" class=\"data row3 col1\" >342</td>\n",
              "                        <td id=\"T_72050b22_d54e_11ea_b604_0242ac1c0002row3_col2\" class=\"data row3 col2\" >891</td>\n",
              "            </tr>\n",
              "    </tbody></table>"
            ],
            "text/plain": [
              "<pandas.io.formats.style.Styler at 0x7fa5b597bf98>"
            ]
          },
          "metadata": {
            "tags": []
          },
          "execution_count": 140
        }
      ]
    },
    {
      "cell_type": "code",
      "metadata": {
        "id": "LolBObO60e96",
        "colab_type": "code",
        "colab": {
          "base_uri": "https://localhost:8080/",
          "height": 66
        },
        "outputId": "2f692f5f-7b46-446e-9d3a-213dd202c332"
      },
      "source": [
        "#Percentage\n",
        "\n",
        "print(\"% of survivals in Pclass=1 : \", TR_Data.Survived[TR_Data.Pclass == 1].sum()/TR_Data[TR_Data.Pclass == 1].Survived.count())\n",
        "print(\"% of survivals in Pclass=2 : \", TR_Data.Survived[TR_Data.Pclass == 2].sum()/TR_Data[TR_Data.Pclass == 2].Survived.count())\n",
        "print(\"% of survivals in Pclass=3 : \", TR_Data.Survived[TR_Data.Pclass == 3].sum()/TR_Data[TR_Data.Pclass == 3].Survived.count())"
      ],
      "execution_count": null,
      "outputs": [
        {
          "output_type": "stream",
          "text": [
            "% of survivals in Pclass=1 :  0.6296296296296297\n",
            "% of survivals in Pclass=2 :  0.47282608695652173\n",
            "% of survivals in Pclass=3 :  0.24236252545824846\n"
          ],
          "name": "stdout"
        }
      ]
    },
    {
      "cell_type": "markdown",
      "metadata": {
        "id": "je7DVMvZH2km",
        "colab_type": "text"
      },
      "source": [
        "From above Visualisation , we can infer that\n",
        "There are more number of passengers in third class and more people died in third class , reason for that might be the third class was located at the lower deck of the ship and least priority was given to them compared to two classes\n",
        "\n",
        "Survival rate was more in First class\n",
        "\n",
        "Second class has less number of passengers as well as Survival rate"
      ]
    },
    {
      "cell_type": "markdown",
      "metadata": {
        "id": "eEqjrNgiQbMx",
        "colab_type": "text"
      },
      "source": [
        "Now lets find out the relation between age and Survival chance.\n",
        "\n",
        "We have already binned the Age in 8 equal sections.\n",
        "\n",
        "We are going to do the visualization of catagorized age vs Survival chance.\n",
        "\n",
        "Initially we have seen that there are missing values in Age field which should be imputed after identifying imputation value"
      ]
    },
    {
      "cell_type": "code",
      "metadata": {
        "id": "MlECt-2PwZFB",
        "colab_type": "code",
        "colab": {
          "base_uri": "https://localhost:8080/",
          "height": 310
        },
        "outputId": "3e994c30-d13b-4a03-e0e3-8cd4bae271df"
      },
      "source": [
        "#Find out if there is any relationship between Age_grp and survival chance\n",
        "TR_Data.groupby(['Age_grp','Survived'])['Survived'].count()"
      ],
      "execution_count": null,
      "outputs": [
        {
          "output_type": "execute_result",
          "data": {
            "text/plain": [
              "Age_grp  Survived\n",
              "1.0      0            26\n",
              "         1            38\n",
              "2.0      0            71\n",
              "         1            44\n",
              "3.0      0           271\n",
              "         1           136\n",
              "4.0      0            86\n",
              "         1            69\n",
              "5.0      0            53\n",
              "         1            33\n",
              "6.0      0            25\n",
              "         1            17\n",
              "7.0      0            13\n",
              "         1             4\n",
              "8.0      0             4\n",
              "         1             1\n",
              "Name: Survived, dtype: int64"
            ]
          },
          "metadata": {
            "tags": []
          },
          "execution_count": 142
        }
      ]
    },
    {
      "cell_type": "code",
      "metadata": {
        "id": "XSAgVKARyluW",
        "colab_type": "code",
        "colab": {
          "base_uri": "https://localhost:8080/",
          "height": 295
        },
        "outputId": "8c15c464-3c50-4114-e7a2-4c9d20664f8b"
      },
      "source": [
        "#Plotting the relation between Age_grp and Survival chance\n",
        "#plt.figure(figsize=(50,40))\n",
        "sns.swarmplot(TR_Data['Survived'],TR_Data['Age_grp'])\n"
      ],
      "execution_count": null,
      "outputs": [
        {
          "output_type": "execute_result",
          "data": {
            "text/plain": [
              "<matplotlib.axes._subplots.AxesSubplot at 0x7fa5b66ab208>"
            ]
          },
          "metadata": {
            "tags": []
          },
          "execution_count": 143
        },
        {
          "output_type": "display_data",
          "data": {
            "image/png": "[encoded data removed]",
            "text/plain": [
              "<Figure size 432x288 with 1 Axes>"
            ]
          },
          "metadata": {
            "tags": [],
            "needs_background": "light"
          }
        }
      ]
    },
    {
      "cell_type": "markdown",
      "metadata": {
        "id": "cT-EU1UlCJp4",
        "colab_type": "text"
      },
      "source": [
        "Age group 3 and 4 ie. from 20 to 40 have larger survival chance"
      ]
    },
    {
      "cell_type": "markdown",
      "metadata": {
        "id": "vcv4s4UbQyRI",
        "colab_type": "text"
      },
      "source": [
        "From Above visualisation , it is evident that the majority of the people who survived is from age group between 20 to 40. I believe Age group from 20 - 40 is considered as the most healthy period of a human life hence, while alloting seats in lifeboats , they would have considered this factor."
      ]
    },
    {
      "cell_type": "markdown",
      "metadata": {
        "id": "6sOxtoCSIQ_j",
        "colab_type": "text"
      },
      "source": [
        "Lets now find the relation between Age , Sex and Pclass"
      ]
    },
    {
      "cell_type": "code",
      "metadata": {
        "id": "NwkLg5_vISdw",
        "colab_type": "code",
        "colab": {
          "base_uri": "https://localhost:8080/",
          "height": 158
        },
        "outputId": "4cd17b5a-8810-4b27-9dcf-c9f519dde631"
      },
      "source": [
        "pd.crosstab([TR_Data.Sex, TR_Data.Survived], [TR_Data.Age_grp, TR_Data.Pclass], margins=True).style.background_gradient(cmap='autumn_r')"
      ],
      "execution_count": null,
      "outputs": [
        {
          "output_type": "execute_result",
          "data": {
            "text/html": [
              "<style  type=\"text/css\" >\n",
              "    #T_7408debc_d54e_11ea_b604_0242ac1c0002row0_col0 {\n",
              "            background-color:  #ffaa00;\n",
              "            color:  #000000;\n",
              "        }    #T_7408debc_d54e_11ea_b604_0242ac1c0002row0_col1 {\n",
              "            background-color:  #ffff00;\n",
              "            color:  #000000;\n",
              "        }    #T_7408debc_d54e_11ea_b604_0242ac1c0002row0_col2 {\n",
              "            background-color:  #ffea00;\n",
              "            color:  #000000;\n",
              "        }    #T_7408debc_d54e_11ea_b604_0242ac1c0002row0_col3 {\n",
              "            background-color:  #ffff00;\n",
              "            color:  #000000;\n",
              "        }    #T_7408debc_d54e_11ea_b604_0242ac1c0002row0_col4 {\n",
              "            background-color:  #ffff00;\n",
              "            color:  #000000;\n",
              "        }    #T_7408debc_d54e_11ea_b604_0242ac1c0002row0_col5 {\n",
              "            background-color:  #ffee00;\n",
              "            color:  #000000;\n",
              "        }    #T_7408debc_d54e_11ea_b604_0242ac1c0002row0_col6 {\n",
              "            background-color:  #ffff00;\n",
              "            color:  #000000;\n",
              "        }    #T_7408debc_d54e_11ea_b604_0242ac1c0002row0_col7 {\n",
              "            background-color:  #fffc00;\n",
              "            color:  #000000;\n",
              "        }    #T_7408debc_d54e_11ea_b604_0242ac1c0002row0_col8 {\n",
              "            background-color:  #fff500;\n",
              "            color:  #000000;\n",
              "        }    #T_7408debc_d54e_11ea_b604_0242ac1c0002row0_col9 {\n",
              "            background-color:  #ffff00;\n",
              "            color:  #000000;\n",
              "        }    #T_7408debc_d54e_11ea_b604_0242ac1c0002row0_col10 {\n",
              "            background-color:  #ffff00;\n",
              "            color:  #000000;\n",
              "        }    #T_7408debc_d54e_11ea_b604_0242ac1c0002row0_col11 {\n",
              "            background-color:  #fff700;\n",
              "            color:  #000000;\n",
              "        }    #T_7408debc_d54e_11ea_b604_0242ac1c0002row0_col12 {\n",
              "            background-color:  #ffff00;\n",
              "            color:  #000000;\n",
              "        }    #T_7408debc_d54e_11ea_b604_0242ac1c0002row0_col13 {\n",
              "            background-color:  #ffff00;\n",
              "            color:  #000000;\n",
              "        }    #T_7408debc_d54e_11ea_b604_0242ac1c0002row0_col14 {\n",
              "            background-color:  #ffbb00;\n",
              "            color:  #000000;\n",
              "        }    #T_7408debc_d54e_11ea_b604_0242ac1c0002row0_col15 {\n",
              "            background-color:  #ffff00;\n",
              "            color:  #000000;\n",
              "        }    #T_7408debc_d54e_11ea_b604_0242ac1c0002row0_col16 {\n",
              "            background-color:  #ffea00;\n",
              "            color:  #000000;\n",
              "        }    #T_7408debc_d54e_11ea_b604_0242ac1c0002row0_col17 {\n",
              "            background-color:  #ffff00;\n",
              "            color:  #000000;\n",
              "        }    #T_7408debc_d54e_11ea_b604_0242ac1c0002row0_col18 {\n",
              "            background-color:  #ffff00;\n",
              "            color:  #000000;\n",
              "        }    #T_7408debc_d54e_11ea_b604_0242ac1c0002row0_col19 {\n",
              "            background-color:  #ffff00;\n",
              "            color:  #000000;\n",
              "        }    #T_7408debc_d54e_11ea_b604_0242ac1c0002row0_col20 {\n",
              "            background-color:  #ffff00;\n",
              "            color:  #000000;\n",
              "        }    #T_7408debc_d54e_11ea_b604_0242ac1c0002row0_col21 {\n",
              "            background-color:  #ffff00;\n",
              "            color:  #000000;\n",
              "        }    #T_7408debc_d54e_11ea_b604_0242ac1c0002row0_col22 {\n",
              "            background-color:  #ffff00;\n",
              "            color:  #000000;\n",
              "        }    #T_7408debc_d54e_11ea_b604_0242ac1c0002row0_col23 {\n",
              "            background-color:  #ffff00;\n",
              "            color:  #000000;\n",
              "        }    #T_7408debc_d54e_11ea_b604_0242ac1c0002row1_col0 {\n",
              "            background-color:  #ffff00;\n",
              "            color:  #000000;\n",
              "        }    #T_7408debc_d54e_11ea_b604_0242ac1c0002row1_col1 {\n",
              "            background-color:  #ff8700;\n",
              "            color:  #000000;\n",
              "        }    #T_7408debc_d54e_11ea_b604_0242ac1c0002row1_col2 {\n",
              "            background-color:  #ffea00;\n",
              "            color:  #000000;\n",
              "        }    #T_7408debc_d54e_11ea_b604_0242ac1c0002row1_col3 {\n",
              "            background-color:  #ff4700;\n",
              "            color:  #f1f1f1;\n",
              "        }    #T_7408debc_d54e_11ea_b604_0242ac1c0002row1_col4 {\n",
              "            background-color:  #ff8e00;\n",
              "            color:  #000000;\n",
              "        }    #T_7408debc_d54e_11ea_b604_0242ac1c0002row1_col5 {\n",
              "            background-color:  #ffea00;\n",
              "            color:  #000000;\n",
              "        }    #T_7408debc_d54e_11ea_b604_0242ac1c0002row1_col6 {\n",
              "            background-color:  #ff9800;\n",
              "            color:  #000000;\n",
              "        }    #T_7408debc_d54e_11ea_b604_0242ac1c0002row1_col7 {\n",
              "            background-color:  #ffa400;\n",
              "            color:  #000000;\n",
              "        }    #T_7408debc_d54e_11ea_b604_0242ac1c0002row1_col8 {\n",
              "            background-color:  #ffec00;\n",
              "            color:  #000000;\n",
              "        }    #T_7408debc_d54e_11ea_b604_0242ac1c0002row1_col9 {\n",
              "            background-color:  #ff8200;\n",
              "            color:  #000000;\n",
              "        }    #T_7408debc_d54e_11ea_b604_0242ac1c0002row1_col10 {\n",
              "            background-color:  #ffa400;\n",
              "            color:  #000000;\n",
              "        }    #T_7408debc_d54e_11ea_b604_0242ac1c0002row1_col11 {\n",
              "            background-color:  #ffff00;\n",
              "            color:  #000000;\n",
              "        }    #T_7408debc_d54e_11ea_b604_0242ac1c0002row1_col12 {\n",
              "            background-color:  #ffb100;\n",
              "            color:  #000000;\n",
              "        }    #T_7408debc_d54e_11ea_b604_0242ac1c0002row1_col13 {\n",
              "            background-color:  #ff8e00;\n",
              "            color:  #000000;\n",
              "        }    #T_7408debc_d54e_11ea_b604_0242ac1c0002row1_col14 {\n",
              "            background-color:  #ffff00;\n",
              "            color:  #000000;\n",
              "        }    #T_7408debc_d54e_11ea_b604_0242ac1c0002row1_col15 {\n",
              "            background-color:  #ff8f00;\n",
              "            color:  #000000;\n",
              "        }    #T_7408debc_d54e_11ea_b604_0242ac1c0002row1_col16 {\n",
              "            background-color:  #ffd500;\n",
              "            color:  #000000;\n",
              "        }    #T_7408debc_d54e_11ea_b604_0242ac1c0002row1_col17 {\n",
              "            background-color:  #ffff00;\n",
              "            color:  #000000;\n",
              "        }    #T_7408debc_d54e_11ea_b604_0242ac1c0002row1_col18 {\n",
              "            background-color:  #ffd100;\n",
              "            color:  #000000;\n",
              "        }    #T_7408debc_d54e_11ea_b604_0242ac1c0002row1_col19 {\n",
              "            background-color:  #ffff00;\n",
              "            color:  #000000;\n",
              "        }    #T_7408debc_d54e_11ea_b604_0242ac1c0002row1_col20 {\n",
              "            background-color:  #ffaa00;\n",
              "            color:  #000000;\n",
              "        }    #T_7408debc_d54e_11ea_b604_0242ac1c0002row1_col21 {\n",
              "            background-color:  #ffff00;\n",
              "            color:  #000000;\n",
              "        }    #T_7408debc_d54e_11ea_b604_0242ac1c0002row1_col22 {\n",
              "            background-color:  #ffff00;\n",
              "            color:  #000000;\n",
              "        }    #T_7408debc_d54e_11ea_b604_0242ac1c0002row1_col23 {\n",
              "            background-color:  #ffcf00;\n",
              "            color:  #000000;\n",
              "        }    #T_7408debc_d54e_11ea_b604_0242ac1c0002row2_col0 {\n",
              "            background-color:  #ffff00;\n",
              "            color:  #000000;\n",
              "        }    #T_7408debc_d54e_11ea_b604_0242ac1c0002row2_col1 {\n",
              "            background-color:  #ffff00;\n",
              "            color:  #000000;\n",
              "        }    #T_7408debc_d54e_11ea_b604_0242ac1c0002row2_col2 {\n",
              "            background-color:  #ffd500;\n",
              "            color:  #000000;\n",
              "        }    #T_7408debc_d54e_11ea_b604_0242ac1c0002row2_col3 {\n",
              "            background-color:  #ffd500;\n",
              "            color:  #000000;\n",
              "        }    #T_7408debc_d54e_11ea_b604_0242ac1c0002row2_col4 {\n",
              "            background-color:  #ff7f00;\n",
              "            color:  #000000;\n",
              "        }    #T_7408debc_d54e_11ea_b604_0242ac1c0002row2_col5 {\n",
              "            background-color:  #ff7100;\n",
              "            color:  #000000;\n",
              "        }    #T_7408debc_d54e_11ea_b604_0242ac1c0002row2_col6 {\n",
              "            background-color:  #ffa300;\n",
              "            color:  #000000;\n",
              "        }    #T_7408debc_d54e_11ea_b604_0242ac1c0002row2_col7 {\n",
              "            background-color:  #ff7500;\n",
              "            color:  #000000;\n",
              "        }    #T_7408debc_d54e_11ea_b604_0242ac1c0002row2_col8 {\n",
              "            background-color:  #ff6600;\n",
              "            color:  #000000;\n",
              "        }    #T_7408debc_d54e_11ea_b604_0242ac1c0002row2_col9 {\n",
              "            background-color:  #ffc100;\n",
              "            color:  #000000;\n",
              "        }    #T_7408debc_d54e_11ea_b604_0242ac1c0002row2_col10 {\n",
              "            background-color:  #ff7900;\n",
              "            color:  #000000;\n",
              "        }    #T_7408debc_d54e_11ea_b604_0242ac1c0002row2_col11 {\n",
              "            background-color:  #ff5e00;\n",
              "            color:  #000000;\n",
              "        }    #T_7408debc_d54e_11ea_b604_0242ac1c0002row2_col12 {\n",
              "            background-color:  #ff9c00;\n",
              "            color:  #000000;\n",
              "        }    #T_7408debc_d54e_11ea_b604_0242ac1c0002row2_col13 {\n",
              "            background-color:  #ff9c00;\n",
              "            color:  #000000;\n",
              "        }    #T_7408debc_d54e_11ea_b604_0242ac1c0002row2_col14 {\n",
              "            background-color:  #ff5500;\n",
              "            color:  #000000;\n",
              "        }    #T_7408debc_d54e_11ea_b604_0242ac1c0002row2_col15 {\n",
              "            background-color:  #ff9900;\n",
              "            color:  #000000;\n",
              "        }    #T_7408debc_d54e_11ea_b604_0242ac1c0002row2_col16 {\n",
              "            background-color:  #ff3f00;\n",
              "            color:  #f1f1f1;\n",
              "        }    #T_7408debc_d54e_11ea_b604_0242ac1c0002row2_col17 {\n",
              "            background-color:  #ff0000;\n",
              "            color:  #f1f1f1;\n",
              "        }    #T_7408debc_d54e_11ea_b604_0242ac1c0002row2_col18 {\n",
              "            background-color:  #ff2e00;\n",
              "            color:  #f1f1f1;\n",
              "        }    #T_7408debc_d54e_11ea_b604_0242ac1c0002row2_col19 {\n",
              "            background-color:  #ff5500;\n",
              "            color:  #000000;\n",
              "        }    #T_7408debc_d54e_11ea_b604_0242ac1c0002row2_col20 {\n",
              "            background-color:  #ff5500;\n",
              "            color:  #000000;\n",
              "        }    #T_7408debc_d54e_11ea_b604_0242ac1c0002row2_col21 {\n",
              "            background-color:  #ff5500;\n",
              "            color:  #000000;\n",
              "        }    #T_7408debc_d54e_11ea_b604_0242ac1c0002row2_col22 {\n",
              "            background-color:  #ff0000;\n",
              "            color:  #f1f1f1;\n",
              "        }    #T_7408debc_d54e_11ea_b604_0242ac1c0002row2_col23 {\n",
              "            background-color:  #ff8500;\n",
              "            color:  #000000;\n",
              "        }    #T_7408debc_d54e_11ea_b604_0242ac1c0002row3_col0 {\n",
              "            background-color:  #ff5500;\n",
              "            color:  #000000;\n",
              "        }    #T_7408debc_d54e_11ea_b604_0242ac1c0002row3_col1 {\n",
              "            background-color:  #ff7800;\n",
              "            color:  #000000;\n",
              "        }    #T_7408debc_d54e_11ea_b604_0242ac1c0002row3_col2 {\n",
              "            background-color:  #ffff00;\n",
              "            color:  #000000;\n",
              "        }    #T_7408debc_d54e_11ea_b604_0242ac1c0002row3_col3 {\n",
              "            background-color:  #ffe300;\n",
              "            color:  #000000;\n",
              "        }    #T_7408debc_d54e_11ea_b604_0242ac1c0002row3_col4 {\n",
              "            background-color:  #fff100;\n",
              "            color:  #000000;\n",
              "        }    #T_7408debc_d54e_11ea_b604_0242ac1c0002row3_col5 {\n",
              "            background-color:  #ffff00;\n",
              "            color:  #000000;\n",
              "        }    #T_7408debc_d54e_11ea_b604_0242ac1c0002row3_col6 {\n",
              "            background-color:  #ffcf00;\n",
              "            color:  #000000;\n",
              "        }    #T_7408debc_d54e_11ea_b604_0242ac1c0002row3_col7 {\n",
              "            background-color:  #ffff00;\n",
              "            color:  #000000;\n",
              "        }    #T_7408debc_d54e_11ea_b604_0242ac1c0002row3_col8 {\n",
              "            background-color:  #ffff00;\n",
              "            color:  #000000;\n",
              "        }    #T_7408debc_d54e_11ea_b604_0242ac1c0002row3_col9 {\n",
              "            background-color:  #ffbc00;\n",
              "            color:  #000000;\n",
              "        }    #T_7408debc_d54e_11ea_b604_0242ac1c0002row3_col10 {\n",
              "            background-color:  #fff300;\n",
              "            color:  #000000;\n",
              "        }    #T_7408debc_d54e_11ea_b604_0242ac1c0002row3_col11 {\n",
              "            background-color:  #fffb00;\n",
              "            color:  #000000;\n",
              "        }    #T_7408debc_d54e_11ea_b604_0242ac1c0002row3_col12 {\n",
              "            background-color:  #ffc700;\n",
              "            color:  #000000;\n",
              "        }    #T_7408debc_d54e_11ea_b604_0242ac1c0002row3_col13 {\n",
              "            background-color:  #ffff00;\n",
              "            color:  #000000;\n",
              "        }    #T_7408debc_d54e_11ea_b604_0242ac1c0002row3_col14 {\n",
              "            background-color:  #ffee00;\n",
              "            color:  #000000;\n",
              "        }    #T_7408debc_d54e_11ea_b604_0242ac1c0002row3_col15 {\n",
              "            background-color:  #ffd700;\n",
              "            color:  #000000;\n",
              "        }    #T_7408debc_d54e_11ea_b604_0242ac1c0002row3_col16 {\n",
              "            background-color:  #ffff00;\n",
              "            color:  #000000;\n",
              "        }    #T_7408debc_d54e_11ea_b604_0242ac1c0002row3_col17 {\n",
              "            background-color:  #ffff00;\n",
              "            color:  #000000;\n",
              "        }    #T_7408debc_d54e_11ea_b604_0242ac1c0002row3_col18 {\n",
              "            background-color:  #ffff00;\n",
              "            color:  #000000;\n",
              "        }    #T_7408debc_d54e_11ea_b604_0242ac1c0002row3_col19 {\n",
              "            background-color:  #ffaa00;\n",
              "            color:  #000000;\n",
              "        }    #T_7408debc_d54e_11ea_b604_0242ac1c0002row3_col20 {\n",
              "            background-color:  #ffff00;\n",
              "            color:  #000000;\n",
              "        }    #T_7408debc_d54e_11ea_b604_0242ac1c0002row3_col21 {\n",
              "            background-color:  #ffaa00;\n",
              "            color:  #000000;\n",
              "        }    #T_7408debc_d54e_11ea_b604_0242ac1c0002row3_col22 {\n",
              "            background-color:  #ffff00;\n",
              "            color:  #000000;\n",
              "        }    #T_7408debc_d54e_11ea_b604_0242ac1c0002row3_col23 {\n",
              "            background-color:  #fff700;\n",
              "            color:  #000000;\n",
              "        }    #T_7408debc_d54e_11ea_b604_0242ac1c0002row4_col0 {\n",
              "            background-color:  #ff0000;\n",
              "            color:  #f1f1f1;\n",
              "        }    #T_7408debc_d54e_11ea_b604_0242ac1c0002row4_col1 {\n",
              "            background-color:  #ff0000;\n",
              "            color:  #f1f1f1;\n",
              "        }    #T_7408debc_d54e_11ea_b604_0242ac1c0002row4_col2 {\n",
              "            background-color:  #ff0000;\n",
              "            color:  #f1f1f1;\n",
              "        }    #T_7408debc_d54e_11ea_b604_0242ac1c0002row4_col3 {\n",
              "            background-color:  #ff0000;\n",
              "            color:  #f1f1f1;\n",
              "        }    #T_7408debc_d54e_11ea_b604_0242ac1c0002row4_col4 {\n",
              "            background-color:  #ff0000;\n",
              "            color:  #f1f1f1;\n",
              "        }    #T_7408debc_d54e_11ea_b604_0242ac1c0002row4_col5 {\n",
              "            background-color:  #ff0000;\n",
              "            color:  #f1f1f1;\n",
              "        }    #T_7408debc_d54e_11ea_b604_0242ac1c0002row4_col6 {\n",
              "            background-color:  #ff0000;\n",
              "            color:  #f1f1f1;\n",
              "        }    #T_7408debc_d54e_11ea_b604_0242ac1c0002row4_col7 {\n",
              "            background-color:  #ff0000;\n",
              "            color:  #f1f1f1;\n",
              "        }    #T_7408debc_d54e_11ea_b604_0242ac1c0002row4_col8 {\n",
              "            background-color:  #ff0000;\n",
              "            color:  #f1f1f1;\n",
              "        }    #T_7408debc_d54e_11ea_b604_0242ac1c0002row4_col9 {\n",
              "            background-color:  #ff0000;\n",
              "            color:  #f1f1f1;\n",
              "        }    #T_7408debc_d54e_11ea_b604_0242ac1c0002row4_col10 {\n",
              "            background-color:  #ff0000;\n",
              "            color:  #f1f1f1;\n",
              "        }    #T_7408debc_d54e_11ea_b604_0242ac1c0002row4_col11 {\n",
              "            background-color:  #ff0000;\n",
              "            color:  #f1f1f1;\n",
              "        }    #T_7408debc_d54e_11ea_b604_0242ac1c0002row4_col12 {\n",
              "            background-color:  #ff0000;\n",
              "            color:  #f1f1f1;\n",
              "        }    #T_7408debc_d54e_11ea_b604_0242ac1c0002row4_col13 {\n",
              "            background-color:  #ff0000;\n",
              "            color:  #f1f1f1;\n",
              "        }    #T_7408debc_d54e_11ea_b604_0242ac1c0002row4_col14 {\n",
              "            background-color:  #ff0000;\n",
              "            color:  #f1f1f1;\n",
              "        }    #T_7408debc_d54e_11ea_b604_0242ac1c0002row4_col15 {\n",
              "            background-color:  #ff0000;\n",
              "            color:  #f1f1f1;\n",
              "        }    #T_7408debc_d54e_11ea_b604_0242ac1c0002row4_col16 {\n",
              "            background-color:  #ff0000;\n",
              "            color:  #f1f1f1;\n",
              "        }    #T_7408debc_d54e_11ea_b604_0242ac1c0002row4_col17 {\n",
              "            background-color:  #ff0000;\n",
              "            color:  #f1f1f1;\n",
              "        }    #T_7408debc_d54e_11ea_b604_0242ac1c0002row4_col18 {\n",
              "            background-color:  #ff0000;\n",
              "            color:  #f1f1f1;\n",
              "        }    #T_7408debc_d54e_11ea_b604_0242ac1c0002row4_col19 {\n",
              "            background-color:  #ff0000;\n",
              "            color:  #f1f1f1;\n",
              "        }    #T_7408debc_d54e_11ea_b604_0242ac1c0002row4_col20 {\n",
              "            background-color:  #ff0000;\n",
              "            color:  #f1f1f1;\n",
              "        }    #T_7408debc_d54e_11ea_b604_0242ac1c0002row4_col21 {\n",
              "            background-color:  #ff0000;\n",
              "            color:  #f1f1f1;\n",
              "        }    #T_7408debc_d54e_11ea_b604_0242ac1c0002row4_col22 {\n",
              "            background-color:  #ff0000;\n",
              "            color:  #f1f1f1;\n",
              "        }    #T_7408debc_d54e_11ea_b604_0242ac1c0002row4_col23 {\n",
              "            background-color:  #ff0000;\n",
              "            color:  #f1f1f1;\n",
              "        }</style><table id=\"T_7408debc_d54e_11ea_b604_0242ac1c0002\" ><thead>    <tr>        <th class=\"blank\" ></th>        <th class=\"index_name level0\" >Age_grp</th>        <th class=\"col_heading level0 col0\" colspan=3>1.0</th>        <th class=\"col_heading level0 col3\" colspan=3>2.0</th>        <th class=\"col_heading level0 col6\" colspan=3>3.0</th>        <th class=\"col_heading level0 col9\" colspan=3>4.0</th>        <th class=\"col_heading level0 col12\" colspan=3>5.0</th>        <th class=\"col_heading level0 col15\" colspan=3>6.0</th>        <th class=\"col_heading level0 col18\" colspan=3>7.0</th>        <th class=\"col_heading level0 col21\" colspan=2>8.0</th>        <th class=\"col_heading level0 col23\" >All</th>    </tr>    <tr>        <th class=\"blank\" ></th>        <th class=\"index_name level1\" >Pclass</th>        <th class=\"col_heading level1 col0\" >1</th>        <th class=\"col_heading level1 col1\" >2</th>        <th class=\"col_heading level1 col2\" >3</th>        <th class=\"col_heading level1 col3\" >1</th>        <th class=\"col_heading level1 col4\" >2</th>        <th class=\"col_heading level1 col5\" >3</th>        <th class=\"col_heading level1 col6\" >1</th>        <th class=\"col_heading level1 col7\" >2</th>        <th class=\"col_heading level1 col8\" >3</th>        <th class=\"col_heading level1 col9\" >1</th>        <th class=\"col_heading level1 col10\" >2</th>        <th class=\"col_heading level1 col11\" >3</th>        <th class=\"col_heading level1 col12\" >1</th>        <th class=\"col_heading level1 col13\" >2</th>        <th class=\"col_heading level1 col14\" >3</th>        <th class=\"col_heading level1 col15\" >1</th>        <th class=\"col_heading level1 col16\" >2</th>        <th class=\"col_heading level1 col17\" >3</th>        <th class=\"col_heading level1 col18\" >1</th>        <th class=\"col_heading level1 col19\" >2</th>        <th class=\"col_heading level1 col20\" >3</th>        <th class=\"col_heading level1 col21\" >1</th>        <th class=\"col_heading level1 col22\" >3</th>        <th class=\"col_heading level1 col23\" ></th>    </tr>    <tr>        <th class=\"index_name level0\" >Sex</th>        <th class=\"index_name level1\" >Survived</th>        <th class=\"blank\" ></th>        <th class=\"blank\" ></th>        <th class=\"blank\" ></th>        <th class=\"blank\" ></th>        <th class=\"blank\" ></th>        <th class=\"blank\" ></th>        <th class=\"blank\" ></th>        <th class=\"blank\" ></th>        <th class=\"blank\" ></th>        <th class=\"blank\" ></th>        <th class=\"blank\" ></th>        <th class=\"blank\" ></th>        <th class=\"blank\" ></th>        <th class=\"blank\" ></th>        <th class=\"blank\" ></th>        <th class=\"blank\" ></th>        <th class=\"blank\" ></th>        <th class=\"blank\" ></th>        <th class=\"blank\" ></th>        <th class=\"blank\" ></th>        <th class=\"blank\" ></th>        <th class=\"blank\" ></th>        <th class=\"blank\" ></th>        <th class=\"blank\" ></th>    </tr></thead><tbody>\n",
              "                <tr>\n",
              "                        <th id=\"T_7408debc_d54e_11ea_b604_0242ac1c0002level0_row0\" class=\"row_heading level0 row0\" rowspan=2>female</th>\n",
              "                        <th id=\"T_7408debc_d54e_11ea_b604_0242ac1c0002level1_row0\" class=\"row_heading level1 row0\" >0</th>\n",
              "                        <td id=\"T_7408debc_d54e_11ea_b604_0242ac1c0002row0_col0\" class=\"data row0 col0\" >1</td>\n",
              "                        <td id=\"T_7408debc_d54e_11ea_b604_0242ac1c0002row0_col1\" class=\"data row0 col1\" >0</td>\n",
              "                        <td id=\"T_7408debc_d54e_11ea_b604_0242ac1c0002row0_col2\" class=\"data row0 col2\" >11</td>\n",
              "                        <td id=\"T_7408debc_d54e_11ea_b604_0242ac1c0002row0_col3\" class=\"data row0 col3\" >0</td>\n",
              "                        <td id=\"T_7408debc_d54e_11ea_b604_0242ac1c0002row0_col4\" class=\"data row0 col4\" >0</td>\n",
              "                        <td id=\"T_7408debc_d54e_11ea_b604_0242ac1c0002row0_col5\" class=\"data row0 col5\" >12</td>\n",
              "                        <td id=\"T_7408debc_d54e_11ea_b604_0242ac1c0002row0_col6\" class=\"data row0 col6\" >1</td>\n",
              "                        <td id=\"T_7408debc_d54e_11ea_b604_0242ac1c0002row0_col7\" class=\"data row0 col7\" >3</td>\n",
              "                        <td id=\"T_7408debc_d54e_11ea_b604_0242ac1c0002row0_col8\" class=\"data row0 col8\" >33</td>\n",
              "                        <td id=\"T_7408debc_d54e_11ea_b604_0242ac1c0002row0_col9\" class=\"data row0 col9\" >0</td>\n",
              "                        <td id=\"T_7408debc_d54e_11ea_b604_0242ac1c0002row0_col10\" class=\"data row0 col10\" >1</td>\n",
              "                        <td id=\"T_7408debc_d54e_11ea_b604_0242ac1c0002row0_col11\" class=\"data row0 col11\" >8</td>\n",
              "                        <td id=\"T_7408debc_d54e_11ea_b604_0242ac1c0002row0_col12\" class=\"data row0 col12\" >1</td>\n",
              "                        <td id=\"T_7408debc_d54e_11ea_b604_0242ac1c0002row0_col13\" class=\"data row0 col13\" >1</td>\n",
              "                        <td id=\"T_7408debc_d54e_11ea_b604_0242ac1c0002row0_col14\" class=\"data row0 col14\" >8</td>\n",
              "                        <td id=\"T_7408debc_d54e_11ea_b604_0242ac1c0002row0_col15\" class=\"data row0 col15\" >0</td>\n",
              "                        <td id=\"T_7408debc_d54e_11ea_b604_0242ac1c0002row0_col16\" class=\"data row0 col16\" >1</td>\n",
              "                        <td id=\"T_7408debc_d54e_11ea_b604_0242ac1c0002row0_col17\" class=\"data row0 col17\" >0</td>\n",
              "                        <td id=\"T_7408debc_d54e_11ea_b604_0242ac1c0002row0_col18\" class=\"data row0 col18\" >0</td>\n",
              "                        <td id=\"T_7408debc_d54e_11ea_b604_0242ac1c0002row0_col19\" class=\"data row0 col19\" >0</td>\n",
              "                        <td id=\"T_7408debc_d54e_11ea_b604_0242ac1c0002row0_col20\" class=\"data row0 col20\" >0</td>\n",
              "                        <td id=\"T_7408debc_d54e_11ea_b604_0242ac1c0002row0_col21\" class=\"data row0 col21\" >0</td>\n",
              "                        <td id=\"T_7408debc_d54e_11ea_b604_0242ac1c0002row0_col22\" class=\"data row0 col22\" >0</td>\n",
              "                        <td id=\"T_7408debc_d54e_11ea_b604_0242ac1c0002row0_col23\" class=\"data row0 col23\" >81</td>\n",
              "            </tr>\n",
              "            <tr>\n",
              "                                <th id=\"T_7408debc_d54e_11ea_b604_0242ac1c0002level1_row1\" class=\"row_heading level1 row1\" >1</th>\n",
              "                        <td id=\"T_7408debc_d54e_11ea_b604_0242ac1c0002row1_col0\" class=\"data row1 col0\" >0</td>\n",
              "                        <td id=\"T_7408debc_d54e_11ea_b604_0242ac1c0002row1_col1\" class=\"data row1 col1\" >8</td>\n",
              "                        <td id=\"T_7408debc_d54e_11ea_b604_0242ac1c0002row1_col2\" class=\"data row1 col2\" >11</td>\n",
              "                        <td id=\"T_7408debc_d54e_11ea_b604_0242ac1c0002row1_col3\" class=\"data row1 col3\" >13</td>\n",
              "                        <td id=\"T_7408debc_d54e_11ea_b604_0242ac1c0002row1_col4\" class=\"data row1 col4\" >8</td>\n",
              "                        <td id=\"T_7408debc_d54e_11ea_b604_0242ac1c0002row1_col5\" class=\"data row1 col5\" >13</td>\n",
              "                        <td id=\"T_7408debc_d54e_11ea_b604_0242ac1c0002row1_col6\" class=\"data row1 col6\" >29</td>\n",
              "                        <td id=\"T_7408debc_d54e_11ea_b604_0242ac1c0002row1_col7\" class=\"data row1 col7\" >27</td>\n",
              "                        <td id=\"T_7408debc_d54e_11ea_b604_0242ac1c0002row1_col8\" class=\"data row1 col8\" >41</td>\n",
              "                        <td id=\"T_7408debc_d54e_11ea_b604_0242ac1c0002row1_col9\" class=\"data row1 col9\" >24</td>\n",
              "                        <td id=\"T_7408debc_d54e_11ea_b604_0242ac1c0002row1_col10\" class=\"data row1 col10\" >16</td>\n",
              "                        <td id=\"T_7408debc_d54e_11ea_b604_0242ac1c0002row1_col11\" class=\"data row1 col11\" >6</td>\n",
              "                        <td id=\"T_7408debc_d54e_11ea_b604_0242ac1c0002row1_col12\" class=\"data row1 col12\" >12</td>\n",
              "                        <td id=\"T_7408debc_d54e_11ea_b604_0242ac1c0002row1_col13\" class=\"data row1 col13\" >9</td>\n",
              "                        <td id=\"T_7408debc_d54e_11ea_b604_0242ac1c0002row1_col14\" class=\"data row1 col14\" >0</td>\n",
              "                        <td id=\"T_7408debc_d54e_11ea_b604_0242ac1c0002row1_col15\" class=\"data row1 col15\" >11</td>\n",
              "                        <td id=\"T_7408debc_d54e_11ea_b604_0242ac1c0002row1_col16\" class=\"data row1 col16\" >2</td>\n",
              "                        <td id=\"T_7408debc_d54e_11ea_b604_0242ac1c0002row1_col17\" class=\"data row1 col17\" >0</td>\n",
              "                        <td id=\"T_7408debc_d54e_11ea_b604_0242ac1c0002row1_col18\" class=\"data row1 col18\" >2</td>\n",
              "                        <td id=\"T_7408debc_d54e_11ea_b604_0242ac1c0002row1_col19\" class=\"data row1 col19\" >0</td>\n",
              "                        <td id=\"T_7408debc_d54e_11ea_b604_0242ac1c0002row1_col20\" class=\"data row1 col20\" >1</td>\n",
              "                        <td id=\"T_7408debc_d54e_11ea_b604_0242ac1c0002row1_col21\" class=\"data row1 col21\" >0</td>\n",
              "                        <td id=\"T_7408debc_d54e_11ea_b604_0242ac1c0002row1_col22\" class=\"data row1 col22\" >0</td>\n",
              "                        <td id=\"T_7408debc_d54e_11ea_b604_0242ac1c0002row1_col23\" class=\"data row1 col23\" >233</td>\n",
              "            </tr>\n",
              "            <tr>\n",
              "                        <th id=\"T_7408debc_d54e_11ea_b604_0242ac1c0002level0_row2\" class=\"row_heading level0 row2\" rowspan=2>male</th>\n",
              "                        <th id=\"T_7408debc_d54e_11ea_b604_0242ac1c0002level1_row2\" class=\"row_heading level1 row2\" >0</th>\n",
              "                        <td id=\"T_7408debc_d54e_11ea_b604_0242ac1c0002row2_col0\" class=\"data row2 col0\" >0</td>\n",
              "                        <td id=\"T_7408debc_d54e_11ea_b604_0242ac1c0002row2_col1\" class=\"data row2 col1\" >0</td>\n",
              "                        <td id=\"T_7408debc_d54e_11ea_b604_0242ac1c0002row2_col2\" class=\"data row2 col2\" >14</td>\n",
              "                        <td id=\"T_7408debc_d54e_11ea_b604_0242ac1c0002row2_col3\" class=\"data row2 col3\" >3</td>\n",
              "                        <td id=\"T_7408debc_d54e_11ea_b604_0242ac1c0002row2_col4\" class=\"data row2 col4\" >9</td>\n",
              "                        <td id=\"T_7408debc_d54e_11ea_b604_0242ac1c0002row2_col5\" class=\"data row2 col5\" >47</td>\n",
              "                        <td id=\"T_7408debc_d54e_11ea_b604_0242ac1c0002row2_col6\" class=\"data row2 col6\" >26</td>\n",
              "                        <td id=\"T_7408debc_d54e_11ea_b604_0242ac1c0002row2_col7\" class=\"data row2 col7\" >40</td>\n",
              "                        <td id=\"T_7408debc_d54e_11ea_b604_0242ac1c0002row2_col8\" class=\"data row2 col8\" >168</td>\n",
              "                        <td id=\"T_7408debc_d54e_11ea_b604_0242ac1c0002row2_col9\" class=\"data row2 col9\" >12</td>\n",
              "                        <td id=\"T_7408debc_d54e_11ea_b604_0242ac1c0002row2_col10\" class=\"data row2 col10\" >23</td>\n",
              "                        <td id=\"T_7408debc_d54e_11ea_b604_0242ac1c0002row2_col11\" class=\"data row2 col11\" >42</td>\n",
              "                        <td id=\"T_7408debc_d54e_11ea_b604_0242ac1c0002row2_col12\" class=\"data row2 col12\" >15</td>\n",
              "                        <td id=\"T_7408debc_d54e_11ea_b604_0242ac1c0002row2_col13\" class=\"data row2 col13\" >8</td>\n",
              "                        <td id=\"T_7408debc_d54e_11ea_b604_0242ac1c0002row2_col14\" class=\"data row2 col14\" >20</td>\n",
              "                        <td id=\"T_7408debc_d54e_11ea_b604_0242ac1c0002row2_col15\" class=\"data row2 col15\" >10</td>\n",
              "                        <td id=\"T_7408debc_d54e_11ea_b604_0242ac1c0002row2_col16\" class=\"data row2 col16\" >9</td>\n",
              "                        <td id=\"T_7408debc_d54e_11ea_b604_0242ac1c0002row2_col17\" class=\"data row2 col17\" >5</td>\n",
              "                        <td id=\"T_7408debc_d54e_11ea_b604_0242ac1c0002row2_col18\" class=\"data row2 col18\" >9</td>\n",
              "                        <td id=\"T_7408debc_d54e_11ea_b604_0242ac1c0002row2_col19\" class=\"data row2 col19\" >2</td>\n",
              "                        <td id=\"T_7408debc_d54e_11ea_b604_0242ac1c0002row2_col20\" class=\"data row2 col20\" >2</td>\n",
              "                        <td id=\"T_7408debc_d54e_11ea_b604_0242ac1c0002row2_col21\" class=\"data row2 col21\" >2</td>\n",
              "                        <td id=\"T_7408debc_d54e_11ea_b604_0242ac1c0002row2_col22\" class=\"data row2 col22\" >2</td>\n",
              "                        <td id=\"T_7408debc_d54e_11ea_b604_0242ac1c0002row2_col23\" class=\"data row2 col23\" >468</td>\n",
              "            </tr>\n",
              "            <tr>\n",
              "                                <th id=\"T_7408debc_d54e_11ea_b604_0242ac1c0002level1_row3\" class=\"row_heading level1 row3\" >1</th>\n",
              "                        <td id=\"T_7408debc_d54e_11ea_b604_0242ac1c0002row3_col0\" class=\"data row3 col0\" >2</td>\n",
              "                        <td id=\"T_7408debc_d54e_11ea_b604_0242ac1c0002row3_col1\" class=\"data row3 col1\" >9</td>\n",
              "                        <td id=\"T_7408debc_d54e_11ea_b604_0242ac1c0002row3_col2\" class=\"data row3 col2\" >8</td>\n",
              "                        <td id=\"T_7408debc_d54e_11ea_b604_0242ac1c0002row3_col3\" class=\"data row3 col3\" >2</td>\n",
              "                        <td id=\"T_7408debc_d54e_11ea_b604_0242ac1c0002row3_col4\" class=\"data row3 col4\" >1</td>\n",
              "                        <td id=\"T_7408debc_d54e_11ea_b604_0242ac1c0002row3_col5\" class=\"data row3 col5\" >7</td>\n",
              "                        <td id=\"T_7408debc_d54e_11ea_b604_0242ac1c0002row3_col6\" class=\"data row3 col6\" >14</td>\n",
              "                        <td id=\"T_7408debc_d54e_11ea_b604_0242ac1c0002row3_col7\" class=\"data row3 col7\" >2</td>\n",
              "                        <td id=\"T_7408debc_d54e_11ea_b604_0242ac1c0002row3_col8\" class=\"data row3 col8\" >23</td>\n",
              "                        <td id=\"T_7408debc_d54e_11ea_b604_0242ac1c0002row3_col9\" class=\"data row3 col9\" >13</td>\n",
              "                        <td id=\"T_7408debc_d54e_11ea_b604_0242ac1c0002row3_col10\" class=\"data row3 col10\" >3</td>\n",
              "                        <td id=\"T_7408debc_d54e_11ea_b604_0242ac1c0002row3_col11\" class=\"data row3 col11\" >7</td>\n",
              "                        <td id=\"T_7408debc_d54e_11ea_b604_0242ac1c0002row3_col12\" class=\"data row3 col12\" >9</td>\n",
              "                        <td id=\"T_7408debc_d54e_11ea_b604_0242ac1c0002row3_col13\" class=\"data row3 col13\" >1</td>\n",
              "                        <td id=\"T_7408debc_d54e_11ea_b604_0242ac1c0002row3_col14\" class=\"data row3 col14\" >2</td>\n",
              "                        <td id=\"T_7408debc_d54e_11ea_b604_0242ac1c0002row3_col15\" class=\"data row3 col15\" >4</td>\n",
              "                        <td id=\"T_7408debc_d54e_11ea_b604_0242ac1c0002row3_col16\" class=\"data row3 col16\" >0</td>\n",
              "                        <td id=\"T_7408debc_d54e_11ea_b604_0242ac1c0002row3_col17\" class=\"data row3 col17\" >0</td>\n",
              "                        <td id=\"T_7408debc_d54e_11ea_b604_0242ac1c0002row3_col18\" class=\"data row3 col18\" >0</td>\n",
              "                        <td id=\"T_7408debc_d54e_11ea_b604_0242ac1c0002row3_col19\" class=\"data row3 col19\" >1</td>\n",
              "                        <td id=\"T_7408debc_d54e_11ea_b604_0242ac1c0002row3_col20\" class=\"data row3 col20\" >0</td>\n",
              "                        <td id=\"T_7408debc_d54e_11ea_b604_0242ac1c0002row3_col21\" class=\"data row3 col21\" >1</td>\n",
              "                        <td id=\"T_7408debc_d54e_11ea_b604_0242ac1c0002row3_col22\" class=\"data row3 col22\" >0</td>\n",
              "                        <td id=\"T_7408debc_d54e_11ea_b604_0242ac1c0002row3_col23\" class=\"data row3 col23\" >109</td>\n",
              "            </tr>\n",
              "            <tr>\n",
              "                        <th id=\"T_7408debc_d54e_11ea_b604_0242ac1c0002level0_row4\" class=\"row_heading level0 row4\" >All</th>\n",
              "                        <th id=\"T_7408debc_d54e_11ea_b604_0242ac1c0002level1_row4\" class=\"row_heading level1 row4\" ></th>\n",
              "                        <td id=\"T_7408debc_d54e_11ea_b604_0242ac1c0002row4_col0\" class=\"data row4 col0\" >3</td>\n",
              "                        <td id=\"T_7408debc_d54e_11ea_b604_0242ac1c0002row4_col1\" class=\"data row4 col1\" >17</td>\n",
              "                        <td id=\"T_7408debc_d54e_11ea_b604_0242ac1c0002row4_col2\" class=\"data row4 col2\" >44</td>\n",
              "                        <td id=\"T_7408debc_d54e_11ea_b604_0242ac1c0002row4_col3\" class=\"data row4 col3\" >18</td>\n",
              "                        <td id=\"T_7408debc_d54e_11ea_b604_0242ac1c0002row4_col4\" class=\"data row4 col4\" >18</td>\n",
              "                        <td id=\"T_7408debc_d54e_11ea_b604_0242ac1c0002row4_col5\" class=\"data row4 col5\" >79</td>\n",
              "                        <td id=\"T_7408debc_d54e_11ea_b604_0242ac1c0002row4_col6\" class=\"data row4 col6\" >70</td>\n",
              "                        <td id=\"T_7408debc_d54e_11ea_b604_0242ac1c0002row4_col7\" class=\"data row4 col7\" >72</td>\n",
              "                        <td id=\"T_7408debc_d54e_11ea_b604_0242ac1c0002row4_col8\" class=\"data row4 col8\" >265</td>\n",
              "                        <td id=\"T_7408debc_d54e_11ea_b604_0242ac1c0002row4_col9\" class=\"data row4 col9\" >49</td>\n",
              "                        <td id=\"T_7408debc_d54e_11ea_b604_0242ac1c0002row4_col10\" class=\"data row4 col10\" >43</td>\n",
              "                        <td id=\"T_7408debc_d54e_11ea_b604_0242ac1c0002row4_col11\" class=\"data row4 col11\" >63</td>\n",
              "                        <td id=\"T_7408debc_d54e_11ea_b604_0242ac1c0002row4_col12\" class=\"data row4 col12\" >37</td>\n",
              "                        <td id=\"T_7408debc_d54e_11ea_b604_0242ac1c0002row4_col13\" class=\"data row4 col13\" >19</td>\n",
              "                        <td id=\"T_7408debc_d54e_11ea_b604_0242ac1c0002row4_col14\" class=\"data row4 col14\" >30</td>\n",
              "                        <td id=\"T_7408debc_d54e_11ea_b604_0242ac1c0002row4_col15\" class=\"data row4 col15\" >25</td>\n",
              "                        <td id=\"T_7408debc_d54e_11ea_b604_0242ac1c0002row4_col16\" class=\"data row4 col16\" >12</td>\n",
              "                        <td id=\"T_7408debc_d54e_11ea_b604_0242ac1c0002row4_col17\" class=\"data row4 col17\" >5</td>\n",
              "                        <td id=\"T_7408debc_d54e_11ea_b604_0242ac1c0002row4_col18\" class=\"data row4 col18\" >11</td>\n",
              "                        <td id=\"T_7408debc_d54e_11ea_b604_0242ac1c0002row4_col19\" class=\"data row4 col19\" >3</td>\n",
              "                        <td id=\"T_7408debc_d54e_11ea_b604_0242ac1c0002row4_col20\" class=\"data row4 col20\" >3</td>\n",
              "                        <td id=\"T_7408debc_d54e_11ea_b604_0242ac1c0002row4_col21\" class=\"data row4 col21\" >3</td>\n",
              "                        <td id=\"T_7408debc_d54e_11ea_b604_0242ac1c0002row4_col22\" class=\"data row4 col22\" >2</td>\n",
              "                        <td id=\"T_7408debc_d54e_11ea_b604_0242ac1c0002row4_col23\" class=\"data row4 col23\" >891</td>\n",
              "            </tr>\n",
              "    </tbody></table>"
            ],
            "text/plain": [
              "<pandas.io.formats.style.Styler at 0x7fa5b79ea3c8>"
            ]
          },
          "metadata": {
            "tags": []
          },
          "execution_count": 144
        }
      ]
    },
    {
      "cell_type": "markdown",
      "metadata": {
        "id": "AdU_ErrUY67u",
        "colab_type": "text"
      },
      "source": [
        "\n",
        "**Inference from Above graph:**\n",
        "\n",
        "**Age group < 10**\n",
        "All Male Children below age 10 who travelled in first and second class survived. \n",
        "Majority ie. 88% of the female children below 10 years in Class 1 and 2 also survived.\n",
        "\n",
        "Out of 290 survivers , 153 were between age group 20 to 40 , that contribute to 53 % of total survivals\n",
        "\n",
        "Out of 424 death , 270 people travelled in third class , and this contrubutes to 63 % of overall death.\n",
        "\n",
        "Elders were not given preference irrespective of the gender or class as we can see  all elders 90 % elders who are between 70 and 80 years of age died.\n"
      ]
    },
    {
      "cell_type": "markdown",
      "metadata": {
        "id": "RT-DnVwgrXtp",
        "colab_type": "text"
      },
      "source": [
        "**Relation between Embarked Station and Survival chance**\n",
        "\n",
        "Lets find out if there were given any priorty for passengers who travelled with Sibling and Spouse"
      ]
    },
    {
      "cell_type": "code",
      "metadata": {
        "id": "w0894gxnvbs4",
        "colab_type": "code",
        "colab": {
          "base_uri": "https://localhost:8080/",
          "height": 295
        },
        "outputId": "23a8012c-9a29-4325-b3b7-1d1c9482bc8a"
      },
      "source": [
        "#To find out relation between SibSp and Survival chance\n",
        "\n",
        "sns.countplot('Embarked', hue='Survived', data=TR_Data)"
      ],
      "execution_count": null,
      "outputs": [
        {
          "output_type": "execute_result",
          "data": {
            "text/plain": [
              "<matplotlib.axes._subplots.AxesSubplot at 0x7fa5bae8be48>"
            ]
          },
          "metadata": {
            "tags": []
          },
          "execution_count": 145
        },
        {
          "output_type": "display_data",
          "data": {
            "image/png": "[encoded data removed]",
            "text/plain": [
              "<Figure size 432x288 with 1 Axes>"
            ]
          },
          "metadata": {
            "tags": [],
            "needs_background": "light"
          }
        }
      ]
    },
    {
      "cell_type": "markdown",
      "metadata": {
        "id": "FrLKEUvU5kvo",
        "colab_type": "text"
      },
      "source": [
        "From the graph , we can infer that the people who embarked from S port Survived compared to other ports"
      ]
    },
    {
      "cell_type": "markdown",
      "metadata": {
        "id": "J5xJM63ugmTH",
        "colab_type": "text"
      },
      "source": [
        "**Relation between SibSp and Parch**\n",
        "\n",
        "Now lets find out if there were any priority given for the people who travelled as family compared to solo traveller .\n",
        "\n",
        "For that Iam going to combine together the Sibling,Spouse and parent and children column.\n"
      ]
    },
    {
      "cell_type": "code",
      "metadata": {
        "id": "hpsxB3neggbh",
        "colab_type": "code",
        "colab": {
          "base_uri": "https://localhost:8080/",
          "height": 66
        },
        "outputId": "9f8ebce6-0b8f-4abb-b263-574da22e6b7f"
      },
      "source": [
        "data = [TR_Data, TE_Data]\n",
        "for i in data:\n",
        "    i['Family_members'] = i['SibSp'] + i['Parch']\n",
        "    i.loc[i['Family_members'] > 0, 'with_companion'] = 0\n",
        "    i.loc[i['Family_members'] == 0, 'with_companion'] = 1\n",
        "    i['with_companion'] = i['with_companion'].astype(int)\n",
        "TR_Data['with_companion'].value_counts()"
      ],
      "execution_count": null,
      "outputs": [
        {
          "output_type": "execute_result",
          "data": {
            "text/plain": [
              "1    537\n",
              "0    354\n",
              "Name: with_companion, dtype: int64"
            ]
          },
          "metadata": {
            "tags": []
          },
          "execution_count": 146
        }
      ]
    },
    {
      "cell_type": "code",
      "metadata": {
        "id": "JmaCGxnnhWtA",
        "colab_type": "code",
        "colab": {
          "base_uri": "https://localhost:8080/",
          "height": 296
        },
        "outputId": "5c3084e0-a3db-4158-b85e-3f27c4a63c4f"
      },
      "source": [
        "#axes = sns.factorplot('Family_members','Survived', data=TR_Data, aspect = 2)\n",
        "sns.pointplot('Family_members','Survived', data=TR_Data, aspect = 2)"
      ],
      "execution_count": null,
      "outputs": [
        {
          "output_type": "execute_result",
          "data": {
            "text/plain": [
              "<matplotlib.axes._subplots.AxesSubplot at 0x7fa5baf4d668>"
            ]
          },
          "metadata": {
            "tags": []
          },
          "execution_count": 147
        },
        {
          "output_type": "display_data",
          "data": {
            "image/png": "[encoded data removed]",
            "text/plain": [
              "<Figure size 432x288 with 1 Axes>"
            ]
          },
          "metadata": {
            "tags": [],
            "needs_background": "light"
          }
        }
      ]
    },
    {
      "cell_type": "markdown",
      "metadata": {
        "id": "PFjMQ8YyiNtd",
        "colab_type": "text"
      },
      "source": [
        "From above graph we can see that the family who travelled with 3 members got better chance of survival than who travelled Single or with more than three family members."
      ]
    },
    {
      "cell_type": "code",
      "metadata": {
        "id": "OCLQ2Zw5wYzN",
        "colab_type": "code",
        "colab": {}
      },
      "source": [
        "TR_Data.drop(['Age','Family_members','with_companion'], axis=1, inplace= True)"
      ],
      "execution_count": null,
      "outputs": []
    },
    {
      "cell_type": "code",
      "metadata": {
        "id": "xs7m775owPKg",
        "colab_type": "code",
        "colab": {
          "base_uri": "https://localhost:8080/",
          "height": 33
        },
        "outputId": "b89c985e-9d79-4cf4-e8d7-3c6ef67c2a14"
      },
      "source": [
        "TR_Data.shape"
      ],
      "execution_count": null,
      "outputs": [
        {
          "output_type": "execute_result",
          "data": {
            "text/plain": [
              "(891, 10)"
            ]
          },
          "metadata": {
            "tags": []
          },
          "execution_count": 149
        }
      ]
    },
    {
      "cell_type": "code",
      "metadata": {
        "id": "acOQTlDXljJA",
        "colab_type": "code",
        "colab": {
          "base_uri": "https://localhost:8080/",
          "height": 612
        },
        "outputId": "dec4bc3e-feef-4322-9b1f-c90783fb35e7"
      },
      "source": [
        "plt.figure(figsize = (10, 10))\n",
        "corr_mat = TR_Data.corr()\n",
        "#sns.heatmap(corr_mat, xticklabels = corr_mat.columns, yticklabels = corr_mat.columns, annot=True, cmap=\"RdYlGn\")\n",
        "sns.heatmap(corr_mat, annot=True, cbar=True, cmap=\"RdYlGn\")\n"
      ],
      "execution_count": null,
      "outputs": [
        {
          "output_type": "execute_result",
          "data": {
            "text/plain": [
              "<matplotlib.axes._subplots.AxesSubplot at 0x7fa5ba8d5cc0>"
            ]
          },
          "metadata": {
            "tags": []
          },
          "execution_count": 150
        },
        {
          "output_type": "display_data",
          "data": {
            "image/png": "[encoded data removed]",
            "text/plain": [
              "<Figure size 720x720 with 2 Axes>"
            ]
          },
          "metadata": {
            "tags": [],
            "needs_background": "light"
          }
        }
      ]
    },
    {
      "cell_type": "markdown",
      "metadata": {
        "id": "Wmdto-Q9h1rS",
        "colab_type": "text"
      },
      "source": [
        "As per this correlation metrics Age and fare has high corelation , hence we can eliminate fare column as fare will have almost similar impact as age .\n",
        "\n",
        "\n",
        "\n",
        "## **EDA OUTCOMES**\n",
        "\n",
        "EDA is completed and the Assumption which I made initially turn out to be true.\n",
        "\n",
        "passengers who travelled with 1 to three passengers ,females, children under 10 yrs of age ,embarked from port S and travelled in First class had a better survival chance.\n",
        "\n",
        "Insights: As per the general convention , Ladies , Children , Families who belongs to richer sections of society were given higher priority ."
      ]
    },
    {
      "cell_type": "markdown",
      "metadata": {
        "id": "96osyYpXnBw3",
        "colab_type": "text"
      },
      "source": [
        "## **END OF EDA**"
      ]
    },
    {
      "cell_type": "markdown",
      "metadata": {
        "id": "WnbcBhE6shMO",
        "colab_type": "text"
      },
      "source": [
        "# **Models Creation**"
      ]
    },
    {
      "cell_type": "markdown",
      "metadata": {
        "id": "tB8LttKR02aE",
        "colab_type": "text"
      },
      "source": [
        "Transforming catagorical variable to numbers using dummy function in pandas"
      ]
    },
    {
      "cell_type": "code",
      "metadata": {
        "id": "CGPWvGoC0cD3",
        "colab_type": "code",
        "colab": {
          "base_uri": "https://localhost:8080/",
          "height": 391
        },
        "outputId": "25ad4ac9-f165-48af-a39e-7bb07d46bffd"
      },
      "source": [
        "pd.get_dummies(TR_Data[\"Sex\"])"
      ],
      "execution_count": null,
      "outputs": [
        {
          "output_type": "execute_result",
          "data": {
            "text/html": [
              "<div>\n",
              "<style scoped>\n",
              "    .dataframe tbody tr th:only-of-type {\n",
              "        vertical-align: middle;\n",
              "    }\n",
              "\n",
              "    .dataframe tbody tr th {\n",
              "        vertical-align: top;\n",
              "    }\n",
              "\n",
              "    .dataframe thead th {\n",
              "        text-align: right;\n",
              "    }\n",
              "</style>\n",
              "<table border=\"1\" class=\"dataframe\">\n",
              "  <thead>\n",
              "    <tr style=\"text-align: right;\">\n",
              "      <th></th>\n",
              "      <th>female</th>\n",
              "      <th>male</th>\n",
              "    </tr>\n",
              "  </thead>\n",
              "  <tbody>\n",
              "    <tr>\n",
              "      <th>0</th>\n",
              "      <td>0</td>\n",
              "      <td>1</td>\n",
              "    </tr>\n",
              "    <tr>\n",
              "      <th>1</th>\n",
              "      <td>1</td>\n",
              "      <td>0</td>\n",
              "    </tr>\n",
              "    <tr>\n",
              "      <th>2</th>\n",
              "      <td>1</td>\n",
              "      <td>0</td>\n",
              "    </tr>\n",
              "    <tr>\n",
              "      <th>3</th>\n",
              "      <td>1</td>\n",
              "      <td>0</td>\n",
              "    </tr>\n",
              "    <tr>\n",
              "      <th>4</th>\n",
              "      <td>0</td>\n",
              "      <td>1</td>\n",
              "    </tr>\n",
              "    <tr>\n",
              "      <th>...</th>\n",
              "      <td>...</td>\n",
              "      <td>...</td>\n",
              "    </tr>\n",
              "    <tr>\n",
              "      <th>886</th>\n",
              "      <td>0</td>\n",
              "      <td>1</td>\n",
              "    </tr>\n",
              "    <tr>\n",
              "      <th>887</th>\n",
              "      <td>1</td>\n",
              "      <td>0</td>\n",
              "    </tr>\n",
              "    <tr>\n",
              "      <th>888</th>\n",
              "      <td>1</td>\n",
              "      <td>0</td>\n",
              "    </tr>\n",
              "    <tr>\n",
              "      <th>889</th>\n",
              "      <td>0</td>\n",
              "      <td>1</td>\n",
              "    </tr>\n",
              "    <tr>\n",
              "      <th>890</th>\n",
              "      <td>0</td>\n",
              "      <td>1</td>\n",
              "    </tr>\n",
              "  </tbody>\n",
              "</table>\n",
              "<p>891 rows × 2 columns</p>\n",
              "</div>"
            ],
            "text/plain": [
              "     female  male\n",
              "0         0     1\n",
              "1         1     0\n",
              "2         1     0\n",
              "3         1     0\n",
              "4         0     1\n",
              "..      ...   ...\n",
              "886       0     1\n",
              "887       1     0\n",
              "888       1     0\n",
              "889       0     1\n",
              "890       0     1\n",
              "\n",
              "[891 rows x 2 columns]"
            ]
          },
          "metadata": {
            "tags": []
          },
          "execution_count": 151
        }
      ]
    },
    {
      "cell_type": "markdown",
      "metadata": {
        "id": "TG-RYv0h1o4S",
        "colab_type": "text"
      },
      "source": [
        "What we can do is to remove the first column because one column indicates the value of the other column.\n",
        "For example, if the male is 1, then the female will be 0 and vice versa.\n",
        "\n"
      ]
    },
    {
      "cell_type": "code",
      "metadata": {
        "id": "pJBZIIWS1qPh",
        "colab_type": "code",
        "colab": {}
      },
      "source": [
        "sex = pd.get_dummies(TR_Data[\"Sex\"],drop_first=True)"
      ],
      "execution_count": null,
      "outputs": []
    },
    {
      "cell_type": "markdown",
      "metadata": {
        "id": "nUO7ZdjG13_x",
        "colab_type": "text"
      },
      "source": [
        "Let’s do the same for Embarked and PClass"
      ]
    },
    {
      "cell_type": "code",
      "metadata": {
        "id": "Y3km36Z5HFfJ",
        "colab_type": "code",
        "colab": {}
      },
      "source": [
        "embarked = pd.get_dummies(TR_Data[\"Embarked\"],drop_first=True)\n",
        "#pclass = pd.get_dummies(TR_Data[\"Pclass\"],drop_first=True)"
      ],
      "execution_count": null,
      "outputs": []
    },
    {
      "cell_type": "markdown",
      "metadata": {
        "id": "hxhAlatl1y72",
        "colab_type": "text"
      },
      "source": [
        "We add these variables to the dataset:"
      ]
    },
    {
      "cell_type": "code",
      "metadata": {
        "id": "7fBf8QdaHiDa",
        "colab_type": "code",
        "colab": {}
      },
      "source": [
        "TR_Data = pd.concat([TR_Data,sex,embarked],axis=1)"
      ],
      "execution_count": null,
      "outputs": []
    },
    {
      "cell_type": "markdown",
      "metadata": {
        "id": "woXKjyXsH78_",
        "colab_type": "text"
      },
      "source": [
        "Lets drop these column from dataset"
      ]
    },
    {
      "cell_type": "code",
      "metadata": {
        "id": "GPsTkDuUIOM1",
        "colab_type": "code",
        "colab": {}
      },
      "source": [
        "TR_Data.drop([\"Name\",\"Sex\",\"Ticket\",\"Embarked\"],axis=1,inplace=True)"
      ],
      "execution_count": null,
      "outputs": []
    },
    {
      "cell_type": "markdown",
      "metadata": {
        "id": "9oOhiDccuJ4s",
        "colab_type": "text"
      },
      "source": [
        "**Splitting the data**"
      ]
    },
    {
      "cell_type": "code",
      "metadata": {
        "id": "hWYArR7HuP3L",
        "colab_type": "code",
        "colab": {}
      },
      "source": [
        "from sklearn.model_selection import train_test_split\n",
        "\n",
        "#Loading the data set\n",
        "\n",
        "y= TR_Data['Survived']\n",
        "x=TR_Data.drop(['Survived'], axis=1)\n",
        "\n"
      ],
      "execution_count": null,
      "outputs": []
    },
    {
      "cell_type": "code",
      "metadata": {
        "id": "p6sEu-SezAPT",
        "colab_type": "code",
        "colab": {}
      },
      "source": [
        "x_train, x_test, y_train, y_test = train_test_split(x, y, test_size=0.30, random_state=42)"
      ],
      "execution_count": null,
      "outputs": []
    },
    {
      "cell_type": "code",
      "metadata": {
        "id": "nBJI5MK_zJcf",
        "colab_type": "code",
        "colab": {
          "base_uri": "https://localhost:8080/",
          "height": 82
        },
        "outputId": "db896593-4f2e-42f0-83d8-19c6bf7332be"
      },
      "source": [
        "print ('shape of x train :', x_train.shape)\n",
        "print ('shape of y train :', y_train.shape)\n",
        "print ('shape of x test :', x_test.shape)\n",
        "print ('shape of x test :', y_test.shape)\n"
      ],
      "execution_count": null,
      "outputs": [
        {
          "output_type": "stream",
          "text": [
            "shape of x train : (623, 8)\n",
            "shape of y train : (623,)\n",
            "shape of x test : (268, 8)\n",
            "shape of x test : (268,)\n"
          ],
          "name": "stdout"
        }
      ]
    },
    {
      "cell_type": "markdown",
      "metadata": {
        "id": "JQLZsS69_YI3",
        "colab_type": "text"
      },
      "source": [
        "**Feature Scaling**"
      ]
    },
    {
      "cell_type": "code",
      "metadata": {
        "id": "LPbgdJ4LyUEE",
        "colab_type": "code",
        "colab": {}
      },
      "source": [
        "#Import Scaling\n",
        "from sklearn.preprocessing import StandardScaler\n",
        "scale = StandardScaler()\n",
        "x_train = scale.fit_transform(x_train)\n",
        "x_test = scale.fit_transform(x_test)"
      ],
      "execution_count": null,
      "outputs": []
    },
    {
      "cell_type": "markdown",
      "metadata": {
        "id": "Ca2KabATKIWT",
        "colab_type": "text"
      },
      "source": [
        "Lets start building models\n",
        "\n",
        "Iam going to build different models based on available algorithms an test the accuracy"
      ]
    },
    {
      "cell_type": "markdown",
      "metadata": {
        "id": "RUM0yF472SG6",
        "colab_type": "text"
      },
      "source": [
        "# Logistic Regression "
      ]
    },
    {
      "cell_type": "code",
      "metadata": {
        "id": "Dd91kd9B0uKW",
        "colab_type": "code",
        "colab": {}
      },
      "source": [
        "from sklearn.linear_model import LogisticRegression\n",
        "from sklearn.metrics import accuracy_score"
      ],
      "execution_count": null,
      "outputs": []
    },
    {
      "cell_type": "code",
      "metadata": {
        "id": "meMSGzs12wyA",
        "colab_type": "code",
        "colab": {
          "base_uri": "https://localhost:8080/",
          "height": 98
        },
        "outputId": "f21df3f1-2735-4d15-9e52-10ee96938465"
      },
      "source": [
        "#Creating the model\n",
        "Model_1=LogisticRegression()\n",
        "# Fitting train data to model\n",
        "Model_1.fit(x_train,y_train)\n",
        "\n",
        "LogisticRegression(C=1.0, class_weight=None, dual=False, fit_intercept=True,\n",
        "                   intercept_scaling=1, l1_ratio=None, max_iter=100,\n",
        "                   multi_class='auto', n_jobs=None, penalty='l2',\n",
        "                   random_state=None, solver='lbfgs', tol=0.0001, verbose=0,\n",
        "                   warm_start=False)"
      ],
      "execution_count": null,
      "outputs": [
        {
          "output_type": "execute_result",
          "data": {
            "text/plain": [
              "LogisticRegression(C=1.0, class_weight=None, dual=False, fit_intercept=True,\n",
              "                   intercept_scaling=1, l1_ratio=None, max_iter=100,\n",
              "                   multi_class='auto', n_jobs=None, penalty='l2',\n",
              "                   random_state=None, solver='lbfgs', tol=0.0001, verbose=0,\n",
              "                   warm_start=False)"
            ]
          },
          "metadata": {
            "tags": []
          },
          "execution_count": 161
        }
      ]
    },
    {
      "cell_type": "code",
      "metadata": {
        "id": "MfSQA_bA3qAs",
        "colab_type": "code",
        "colab": {
          "base_uri": "https://localhost:8080/",
          "height": 33
        },
        "outputId": "2632b713-1c6d-49ce-d8b2-af523da0ea04"
      },
      "source": [
        "#Testing data\n",
        "\n",
        "prediction=Model_1.predict(x_test)\n",
        "score=accuracy_score(prediction,y_test)\n",
        "print(score)\n"
      ],
      "execution_count": null,
      "outputs": [
        {
          "output_type": "stream",
          "text": [
            "0.8022388059701493\n"
          ],
          "name": "stdout"
        }
      ]
    },
    {
      "cell_type": "code",
      "metadata": {
        "id": "fCH8ZUZpyxTj",
        "colab_type": "code",
        "colab": {}
      },
      "source": [
        ""
      ],
      "execution_count": null,
      "outputs": []
    },
    {
      "cell_type": "code",
      "metadata": {
        "id": "V5kawTT_yTwZ",
        "colab_type": "code",
        "colab": {
          "base_uri": "https://localhost:8080/",
          "height": 163
        },
        "outputId": "4eb8df36-fd69-4cbf-e525-58e21eec6ae4"
      },
      "source": [
        "from sklearn.metrics import classification_report\n",
        "print(classification_report(y_test, prediction))"
      ],
      "execution_count": null,
      "outputs": [
        {
          "output_type": "stream",
          "text": [
            "              precision    recall  f1-score   support\n",
            "\n",
            "           0       0.81      0.87      0.84       157\n",
            "           1       0.80      0.70      0.75       111\n",
            "\n",
            "    accuracy                           0.80       268\n",
            "   macro avg       0.80      0.79      0.79       268\n",
            "weighted avg       0.80      0.80      0.80       268\n",
            "\n"
          ],
          "name": "stdout"
        }
      ]
    },
    {
      "cell_type": "markdown",
      "metadata": {
        "id": "Cw12i9K_M4xo",
        "colab_type": "text"
      },
      "source": [
        "**We got 80% accuracy with Logistic Regression**\n",
        "\n",
        " Lets check the confusion metrics"
      ]
    },
    {
      "cell_type": "code",
      "metadata": {
        "id": "8BHm4ChvM_bo",
        "colab_type": "code",
        "colab": {
          "base_uri": "https://localhost:8080/",
          "height": 50
        },
        "outputId": "6ca5d780-754a-4f58-dfa8-950f22eaed86"
      },
      "source": [
        "from sklearn.metrics import confusion_matrix\n",
        "confusion_matrix(y_test, prediction)"
      ],
      "execution_count": null,
      "outputs": [
        {
          "output_type": "execute_result",
          "data": {
            "text/plain": [
              "array([[137,  20],\n",
              "       [ 33,  78]])"
            ]
          },
          "metadata": {
            "tags": []
          },
          "execution_count": 164
        }
      ]
    },
    {
      "cell_type": "markdown",
      "metadata": {
        "id": "ugI4usYrNI7O",
        "colab_type": "text"
      },
      "source": [
        "True positive: 136 (We predicted a positive result and it was positive)\n",
        "\n",
        "True negative: 78 (We predicted a negative result and it was negative)\n",
        "\n",
        "False positive: 21 (We predicted a positive result and it was negative)\n",
        "\n",
        "False negative: 33 (We predicted a negative result and it was positive)"
      ]
    },
    {
      "cell_type": "markdown",
      "metadata": {
        "id": "YIW-zkKlzM1o",
        "colab_type": "text"
      },
      "source": [
        "**Model Performance Evaluation - Logistic Regression**"
      ]
    },
    {
      "cell_type": "markdown",
      "metadata": {
        "id": "18_WacG5zb0v",
        "colab_type": "text"
      },
      "source": [
        "Lets find out the Sensitivity,Specificity, Accuracy and F1 scores "
      ]
    },
    {
      "cell_type": "code",
      "metadata": {
        "id": "Doqm9eRlihXX",
        "colab_type": "code",
        "colab": {}
      },
      "source": [
        "     from sklearn.metrics import roc_auc_score,f1_score\n",
        "     s= confusion_matrix(y_test,prediction)\n",
        "\n",
        "    "
      ],
      "execution_count": null,
      "outputs": []
    },
    {
      "cell_type": "code",
      "metadata": {
        "id": "HK_quD6TkxGG",
        "colab_type": "code",
        "colab": {
          "base_uri": "https://localhost:8080/",
          "height": 98
        },
        "outputId": "8d3ac33e-09f8-42a3-9692-e562ba4457f3"
      },
      "source": [
        "sensitivity_Reg = s[1,1]/(s[1,0]+s[1,1])\n",
        "print(\"sensitivity_Reg :\",sensitivity_Reg)\n",
        "Specificity_Reg =  s[0,0]/(s[0,1]+s[0,0])\n",
        "print(\"Specificity_Reg :\", Specificity_Reg)\n",
        "Precision_Reg = s[1,1]/(s[0,1]+s[1,1])\n",
        "print(\"Precision_Reg:\", Precision_Reg)\n",
        "AUC_Reg = roc_auc_score(y_test, prediction)\n",
        "print(\"AUC Score_Reg:\", AUC_Reg)\n",
        "F1_Reg = f1_score(y_test,prediction)\n",
        "print(\"f1 score_Reg:\" , F1_Reg)"
      ],
      "execution_count": null,
      "outputs": [
        {
          "output_type": "stream",
          "text": [
            "sensitivity_Reg : 0.7027027027027027\n",
            "Specificity_Reg : 0.8726114649681529\n",
            "Precision_Reg: 0.7959183673469388\n",
            "AUC Score_Reg: 0.7876570838354278\n",
            "f1 score_Reg: 0.7464114832535885\n"
          ],
          "name": "stdout"
        }
      ]
    },
    {
      "cell_type": "markdown",
      "metadata": {
        "id": "RoIhnmQezpO5",
        "colab_type": "text"
      },
      "source": [
        "Lets plot the RC Curve to visualize the model performance , the more the area under RC curve, indicates more accurate the model is  "
      ]
    },
    {
      "cell_type": "code",
      "metadata": {
        "id": "t8JQWQrRyMK1",
        "colab_type": "code",
        "colab": {
          "base_uri": "https://localhost:8080/",
          "height": 350
        },
        "outputId": "cdf599c2-5f0f-48f4-8a5e-31323edbc1dc"
      },
      "source": [
        "    \n",
        "    from sklearn import metrics\n",
        "    fpr, tpr, thresholds = metrics.roc_curve( y_test,prediction,\n",
        "                                              drop_intermediate = False )\n",
        "    auc_score = metrics.roc_auc_score( y_test, prediction )\n",
        "    plt.figure(figsize=(5, 5))\n",
        "    plt.plot( fpr, tpr, label='ROC curve (area = %0.2f)' % auc_score )\n",
        "    plt.plot([0, 1], [0, 1], 'k--')\n",
        "    plt.xlim([0.0, 1.0])\n",
        "    plt.ylim([0.0, 1.05])\n",
        "    plt.xlabel('FPR')\n",
        "    plt.ylabel('TPR')\n",
        "    plt.title('ROC Curve')\n",
        "    plt.legend(loc=\"lower right\")\n",
        "    plt.show()"
      ],
      "execution_count": null,
      "outputs": [
        {
          "output_type": "display_data",
          "data": {
            "image/png": "[encoded data removed]",
            "text/plain": [
              "<Figure size 360x360 with 1 Axes>"
            ]
          },
          "metadata": {
            "tags": [],
            "needs_background": "light"
          }
        }
      ]
    },
    {
      "cell_type": "markdown",
      "metadata": {
        "id": "vvUzC0jvPFB4",
        "colab_type": "text"
      },
      "source": [
        "# Decision Tree Classifier\n",
        "\n",
        "\n"
      ]
    },
    {
      "cell_type": "code",
      "metadata": {
        "id": "5ZrucAP-PL7L",
        "colab_type": "code",
        "colab": {}
      },
      "source": [
        "from sklearn.tree import DecisionTreeClassifier\n",
        "\n",
        "Decision_Model=DecisionTreeClassifier()\n",
        "\n",
        "Decision_Model=Decision_Model.fit(x_train,y_train)\n",
        "\n"
      ],
      "execution_count": null,
      "outputs": []
    },
    {
      "cell_type": "code",
      "metadata": {
        "id": "kfjRJgZbPpMS",
        "colab_type": "code",
        "colab": {}
      },
      "source": [
        "Prediction_Decision=Decision_Model.predict(x_test)"
      ],
      "execution_count": null,
      "outputs": []
    },
    {
      "cell_type": "code",
      "metadata": {
        "id": "taYuwIoUP-eD",
        "colab_type": "code",
        "colab": {
          "base_uri": "https://localhost:8080/",
          "height": 33
        },
        "outputId": "aae41144-a66b-4859-e1fe-5c1a6eac52f7"
      },
      "source": [
        "accuracy_Decision=accuracy_score(Prediction_Decision,y_test)\n",
        "print(accuracy_Decision)"
      ],
      "execution_count": null,
      "outputs": [
        {
          "output_type": "stream",
          "text": [
            "0.7761194029850746\n"
          ],
          "name": "stdout"
        }
      ]
    },
    {
      "cell_type": "code",
      "metadata": {
        "id": "62sruORHQdng",
        "colab_type": "code",
        "colab": {
          "base_uri": "https://localhost:8080/",
          "height": 163
        },
        "outputId": "ecc4d77e-3443-4b22-9b99-25f3683910cf"
      },
      "source": [
        "print(classification_report(y_test, Prediction_Decision))"
      ],
      "execution_count": null,
      "outputs": [
        {
          "output_type": "stream",
          "text": [
            "              precision    recall  f1-score   support\n",
            "\n",
            "           0       0.78      0.87      0.82       157\n",
            "           1       0.77      0.65      0.71       111\n",
            "\n",
            "    accuracy                           0.78       268\n",
            "   macro avg       0.78      0.76      0.76       268\n",
            "weighted avg       0.78      0.78      0.77       268\n",
            "\n"
          ],
          "name": "stdout"
        }
      ]
    },
    {
      "cell_type": "code",
      "metadata": {
        "id": "rIvMJ3IOQ7iq",
        "colab_type": "code",
        "colab": {
          "base_uri": "https://localhost:8080/",
          "height": 50
        },
        "outputId": "2bf983fe-48d0-4a7b-dcec-a18ab16689cc"
      },
      "source": [
        "confusion_matrix(y_test, Prediction_Decision)"
      ],
      "execution_count": null,
      "outputs": [
        {
          "output_type": "execute_result",
          "data": {
            "text/plain": [
              "array([[136,  21],\n",
              "       [ 39,  72]])"
            ]
          },
          "metadata": {
            "tags": []
          },
          "execution_count": 172
        }
      ]
    },
    {
      "cell_type": "markdown",
      "metadata": {
        "id": "GHsDyI9PREXJ",
        "colab_type": "text"
      },
      "source": [
        "**We got 76% accuracy in predition using Decision Tree Classifier algorithm**"
      ]
    },
    {
      "cell_type": "markdown",
      "metadata": {
        "id": "n1KUEBu1ASpw",
        "colab_type": "text"
      },
      "source": [
        "**Model Evaluation - Decision Tree**"
      ]
    },
    {
      "cell_type": "code",
      "metadata": {
        "id": "I9GWexEa1PKF",
        "colab_type": "code",
        "colab": {
          "base_uri": "https://localhost:8080/",
          "height": 98
        },
        "outputId": "5feed170-be59-4d55-f87f-c86b8f7a35c5"
      },
      "source": [
        "D= confusion_matrix(y_test,Prediction_Decision)\n",
        "Sensitivity_Decision = D[1,1]/(D[1,0]+D[1,1])\n",
        "print(\"Sensitivity_Decision :\",Sensitivity_Decision)\n",
        "Specificity_Decision =  D[0,0]/(D[0,1]+D[0,0])\n",
        "print(\"Specificity_Decision :\", Specificity_Decision)\n",
        "Precision_Decision = D[1,1]/(D[0,1]+D[1,1])\n",
        "print(\"Precision_Decision:\", Precision_Decision)\n",
        "AUC_Decision = roc_auc_score(y_test, Prediction_Decision)\n",
        "print(\"AUC Score_Decision:\",AUC_Decision)\n",
        "F1_Decision = f1_score(y_test,Prediction_Decision)\n",
        "print(\"f1 score_Decision:\" , F1_Decision)"
      ],
      "execution_count": null,
      "outputs": [
        {
          "output_type": "stream",
          "text": [
            "Sensitivity_Decision : 0.6486486486486487\n",
            "Specificity_Decision : 0.8662420382165605\n",
            "Precision_Decision: 0.7741935483870968\n",
            "AUC Score_Decision: 0.7574453434326046\n",
            "f1 score_Decision: 0.7058823529411764\n"
          ],
          "name": "stdout"
        }
      ]
    },
    {
      "cell_type": "code",
      "metadata": {
        "id": "s6jQuXO01zWE",
        "colab_type": "code",
        "colab": {
          "base_uri": "https://localhost:8080/",
          "height": 350
        },
        "outputId": "74b6ab30-61a9-43f7-b4d0-7e6e39754d76"
      },
      "source": [
        "    \n",
        "    from sklearn import metrics\n",
        "    fpr, tpr, thresholds = metrics.roc_curve( y_test,Prediction_Decision,\n",
        "                                              drop_intermediate = False )\n",
        "    auc_score = metrics.roc_auc_score( y_test, Prediction_Decision )\n",
        "    plt.figure(figsize=(5, 5))\n",
        "    plt.plot( fpr, tpr, label='ROC curve (area = %0.2f)' % auc_score )\n",
        "    plt.plot([0, 1], [0, 1], 'k--')\n",
        "    plt.xlim([0.0, 1.0])\n",
        "    plt.ylim([0.0, 1.05])\n",
        "    plt.xlabel('FPR')\n",
        "    plt.ylabel('TPR')\n",
        "    plt.title('ROC Curve')\n",
        "    plt.legend(loc=\"lower right\")\n",
        "    plt.show()"
      ],
      "execution_count": null,
      "outputs": [
        {
          "output_type": "display_data",
          "data": {
            "image/png": "[encoded data removed]",
            "text/plain": [
              "<Figure size 360x360 with 1 Axes>"
            ]
          },
          "metadata": {
            "tags": [],
            "needs_background": "light"
          }
        }
      ]
    },
    {
      "cell_type": "markdown",
      "metadata": {
        "id": "UziAHg7tAcHm",
        "colab_type": "text"
      },
      "source": [
        "# Random Forest Classifier"
      ]
    },
    {
      "cell_type": "code",
      "metadata": {
        "id": "remZZpL2SOPU",
        "colab_type": "code",
        "colab": {}
      },
      "source": [
        "from sklearn.ensemble import RandomForestClassifier"
      ],
      "execution_count": null,
      "outputs": []
    },
    {
      "cell_type": "code",
      "metadata": {
        "id": "3Gn9tvPzSPYp",
        "colab_type": "code",
        "colab": {}
      },
      "source": [
        "Random_Model=RandomForestClassifier()"
      ],
      "execution_count": null,
      "outputs": []
    },
    {
      "cell_type": "code",
      "metadata": {
        "id": "hA_u6wAOSbHX",
        "colab_type": "code",
        "colab": {}
      },
      "source": [
        "Randon_Model=Random_Model.fit(x_train,y_train)"
      ],
      "execution_count": null,
      "outputs": []
    },
    {
      "cell_type": "code",
      "metadata": {
        "id": "4UMq4ovMSklO",
        "colab_type": "code",
        "colab": {}
      },
      "source": [
        "Prediction_Random=Random_Model.predict(x_test)"
      ],
      "execution_count": null,
      "outputs": []
    },
    {
      "cell_type": "code",
      "metadata": {
        "id": "gBuofZEgSvox",
        "colab_type": "code",
        "colab": {
          "base_uri": "https://localhost:8080/",
          "height": 33
        },
        "outputId": "29da840e-674c-4033-f345-b910c62ca369"
      },
      "source": [
        "accuracy_Random=accuracy_score(Prediction_Random,y_test)\n",
        "print(accuracy_Random)"
      ],
      "execution_count": null,
      "outputs": [
        {
          "output_type": "stream",
          "text": [
            "0.7761194029850746\n"
          ],
          "name": "stdout"
        }
      ]
    },
    {
      "cell_type": "code",
      "metadata": {
        "id": "a-Y-9LSkTXEq",
        "colab_type": "code",
        "colab": {
          "base_uri": "https://localhost:8080/",
          "height": 163
        },
        "outputId": "e6f05fda-0bac-4fe4-b547-477724f747b4"
      },
      "source": [
        "print(classification_report(y_test, Prediction_Random))"
      ],
      "execution_count": null,
      "outputs": [
        {
          "output_type": "stream",
          "text": [
            "              precision    recall  f1-score   support\n",
            "\n",
            "           0       0.77      0.87      0.82       157\n",
            "           1       0.78      0.64      0.70       111\n",
            "\n",
            "    accuracy                           0.78       268\n",
            "   macro avg       0.78      0.76      0.76       268\n",
            "weighted avg       0.78      0.78      0.77       268\n",
            "\n"
          ],
          "name": "stdout"
        }
      ]
    },
    {
      "cell_type": "code",
      "metadata": {
        "id": "gYWmtnpCTj_M",
        "colab_type": "code",
        "colab": {
          "base_uri": "https://localhost:8080/",
          "height": 50
        },
        "outputId": "e305deab-c646-4d5c-b999-4e2c1eaa2214"
      },
      "source": [
        "confusion_matrix(y_test, Prediction_Random)"
      ],
      "execution_count": null,
      "outputs": [
        {
          "output_type": "execute_result",
          "data": {
            "text/plain": [
              "array([[137,  20],\n",
              "       [ 40,  71]])"
            ]
          },
          "metadata": {
            "tags": []
          },
          "execution_count": 181
        }
      ]
    },
    {
      "cell_type": "markdown",
      "metadata": {
        "id": "ia900cUtToie",
        "colab_type": "text"
      },
      "source": [
        " **We got 78% accuracy with Random Forest algorithm**"
      ]
    },
    {
      "cell_type": "markdown",
      "metadata": {
        "id": "fFGRk9FPAjqk",
        "colab_type": "text"
      },
      "source": [
        "**Model Evaluation - Random Forest**"
      ]
    },
    {
      "cell_type": "code",
      "metadata": {
        "id": "4J5FvXTH8gYD",
        "colab_type": "code",
        "colab": {
          "base_uri": "https://localhost:8080/",
          "height": 98
        },
        "outputId": "c58a75fa-03ce-4b12-b415-b441810cb6e2"
      },
      "source": [
        "R= confusion_matrix(y_test,Prediction_Random)\n",
        "Sensitivity_Random = R[1,1]/(R[1,0]+R[1,1])\n",
        "print(\"Sensitivity_Random :\",Sensitivity_Random)\n",
        "Specificity_Random =  R[0,0]/(R[0,1]+R[0,0])\n",
        "print(\"Specificity_Random :\", Specificity_Random)\n",
        "Precision_Random = R[1,1]/(R[0,1]+R[1,1])\n",
        "print(\"Precision_Random:\", Precision_Random)\n",
        "AUC_Random = roc_auc_score(y_test, Prediction_Random)\n",
        "print(\"AUC Score_Random:\",AUC_Random )\n",
        "F1_Random = f1_score(y_test,Prediction_Random)\n",
        "print(\"f1 score_Random:\" ,F1_Random )"
      ],
      "execution_count": null,
      "outputs": [
        {
          "output_type": "stream",
          "text": [
            "Sensitivity_Random : 0.6396396396396397\n",
            "Specificity_Random : 0.8726114649681529\n",
            "Precision_Random: 0.7802197802197802\n",
            "AUC Score_Random: 0.7561255523038963\n",
            "f1 score_Random: 0.702970297029703\n"
          ],
          "name": "stdout"
        }
      ]
    },
    {
      "cell_type": "code",
      "metadata": {
        "id": "8u-_ceZi81hc",
        "colab_type": "code",
        "colab": {
          "base_uri": "https://localhost:8080/",
          "height": 350
        },
        "outputId": "d301dd46-9686-4d12-e871-6e971eeb6623"
      },
      "source": [
        "#ROC curve for Random Fores\n",
        "from sklearn import metrics\n",
        "fpr, tpr, thresholds = metrics.roc_curve( y_test,Prediction_Random,\n",
        "                                             drop_intermediate = False )\n",
        "auc_score = metrics.roc_auc_score( y_test, prediction )\n",
        "plt.figure(figsize=(5, 5))\n",
        "plt.plot( fpr, tpr, label='ROC curve (area = %0.2f)' % auc_score )\n",
        "plt.plot([0, 1], [0, 1], 'k--')\n",
        "plt.xlim([0.0, 1.0])\n",
        "plt.ylim([0.0, 1.05])\n",
        "plt.xlabel('FPR')\n",
        "plt.ylabel('TPR')\n",
        "plt.title('ROC Curve')\n",
        "plt.legend(loc=\"lower right\")\n",
        "plt.show()"
      ],
      "execution_count": null,
      "outputs": [
        {
          "output_type": "display_data",
          "data": {
            "image/png": "[encoded data removed]",
            "text/plain": [
              "<Figure size 360x360 with 1 Axes>"
            ]
          },
          "metadata": {
            "tags": [],
            "needs_background": "light"
          }
        }
      ]
    },
    {
      "cell_type": "markdown",
      "metadata": {
        "id": "KkeOMfg-Bmes",
        "colab_type": "text"
      },
      "source": [
        "# Support Vector Machine"
      ]
    },
    {
      "cell_type": "code",
      "metadata": {
        "id": "sGJ0cvWIT7nk",
        "colab_type": "code",
        "colab": {}
      },
      "source": [
        "from sklearn import svm\n",
        "from sklearn.svm import SVC"
      ],
      "execution_count": null,
      "outputs": []
    },
    {
      "cell_type": "code",
      "metadata": {
        "id": "6i8NIPoXUNBi",
        "colab_type": "code",
        "colab": {}
      },
      "source": [
        "svm_Model=SVC()"
      ],
      "execution_count": null,
      "outputs": []
    },
    {
      "cell_type": "code",
      "metadata": {
        "id": "CcwvD3p7UTh_",
        "colab_type": "code",
        "colab": {}
      },
      "source": [
        "svm_Model=svm_Model.fit(x_train,y_train)"
      ],
      "execution_count": null,
      "outputs": []
    },
    {
      "cell_type": "code",
      "metadata": {
        "id": "rqvpBAsBUb2Z",
        "colab_type": "code",
        "colab": {}
      },
      "source": [
        "Prediction_svm=svm_Model.predict(x_test)"
      ],
      "execution_count": null,
      "outputs": []
    },
    {
      "cell_type": "code",
      "metadata": {
        "id": "Y9CcDVpiUmXo",
        "colab_type": "code",
        "colab": {
          "base_uri": "https://localhost:8080/",
          "height": 33
        },
        "outputId": "f2ad490c-8a42-45ed-9295-56e1e9f91fdd"
      },
      "source": [
        "accuracy_svm=accuracy_score(Prediction_svm,y_test)\n",
        "print(accuracy_svm)"
      ],
      "execution_count": null,
      "outputs": [
        {
          "output_type": "stream",
          "text": [
            "0.8059701492537313\n"
          ],
          "name": "stdout"
        }
      ]
    },
    {
      "cell_type": "code",
      "metadata": {
        "id": "2AvWqIiBWa8p",
        "colab_type": "code",
        "colab": {
          "base_uri": "https://localhost:8080/",
          "height": 163
        },
        "outputId": "67e7c395-ecbe-49fb-854b-a937057ec2b3"
      },
      "source": [
        "print(classification_report(y_test, Prediction_svm))"
      ],
      "execution_count": null,
      "outputs": [
        {
          "output_type": "stream",
          "text": [
            "              precision    recall  f1-score   support\n",
            "\n",
            "           0       0.78      0.93      0.85       157\n",
            "           1       0.86      0.63      0.73       111\n",
            "\n",
            "    accuracy                           0.81       268\n",
            "   macro avg       0.82      0.78      0.79       268\n",
            "weighted avg       0.82      0.81      0.80       268\n",
            "\n"
          ],
          "name": "stdout"
        }
      ]
    },
    {
      "cell_type": "code",
      "metadata": {
        "id": "k8g-SmTnWnMu",
        "colab_type": "code",
        "colab": {
          "base_uri": "https://localhost:8080/",
          "height": 50
        },
        "outputId": "a34b553f-0521-4ec2-b8f2-18b97b6c4d4b"
      },
      "source": [
        "confusion_matrix(y_test, Prediction_svm)"
      ],
      "execution_count": null,
      "outputs": [
        {
          "output_type": "execute_result",
          "data": {
            "text/plain": [
              "array([[146,  11],\n",
              "       [ 41,  70]])"
            ]
          },
          "metadata": {
            "tags": []
          },
          "execution_count": 190
        }
      ]
    },
    {
      "cell_type": "markdown",
      "metadata": {
        "id": "FL9b61ROWqrj",
        "colab_type": "text"
      },
      "source": [
        "**We got 66% accuracy using SVM algorithm**"
      ]
    },
    {
      "cell_type": "markdown",
      "metadata": {
        "id": "9mZJ5qjyBvln",
        "colab_type": "text"
      },
      "source": [
        "**Model Evaluation - SVM**"
      ]
    },
    {
      "cell_type": "code",
      "metadata": {
        "id": "aHBTAsZF2Jm0",
        "colab_type": "code",
        "colab": {
          "base_uri": "https://localhost:8080/",
          "height": 98
        },
        "outputId": "3a51e2e5-af8a-40cb-fbd6-4a3f1912e64d"
      },
      "source": [
        "SVM= confusion_matrix(y_test,Prediction_svm)\n",
        "Sensitivity_svm = SVM[1,1]/(SVM[1,0]+SVM[1,1])\n",
        "print(\"Sensitivity_svm :\",Sensitivity_svm)\n",
        "Specificity_svm =  SVM[0,0]/(SVM[0,1]+SVM[0,0])\n",
        "print(\"Specificity_svm :\", Specificity_svm)\n",
        "Precision_svm = SVM[1,1]/(SVM[0,1]+SVM[1,1])\n",
        "print(\"Precision_svm:\", Precision_svm)\n",
        "AUC_svm = roc_auc_score(y_test, Prediction_svm)\n",
        "print(\"AUC Score_svm:\", AUC_svm)\n",
        "F1_svm = f1_score(y_test,Prediction_svm)\n",
        "print(\"f1 score_svm:\" , F1_svm)\n",
        "            "
      ],
      "execution_count": null,
      "outputs": [
        {
          "output_type": "stream",
          "text": [
            "Sensitivity_svm : 0.6306306306306306\n",
            "Specificity_svm : 0.9299363057324841\n",
            "Precision_svm: 0.8641975308641975\n",
            "AUC Score_svm: 0.7802834681815574\n",
            "f1 score_svm: 0.7291666666666666\n"
          ],
          "name": "stdout"
        }
      ]
    },
    {
      "cell_type": "markdown",
      "metadata": {
        "id": "Ji_fnJx4B6-H",
        "colab_type": "text"
      },
      "source": [
        "# Naive Bayes(Gaussian)"
      ]
    },
    {
      "cell_type": "code",
      "metadata": {
        "id": "49b9RCaSWz0q",
        "colab_type": "code",
        "colab": {}
      },
      "source": [
        "from sklearn.naive_bayes import GaussianNB"
      ],
      "execution_count": null,
      "outputs": []
    },
    {
      "cell_type": "code",
      "metadata": {
        "id": "ptOL-lbcW959",
        "colab_type": "code",
        "colab": {}
      },
      "source": [
        "Bayes_Model=GaussianNB()"
      ],
      "execution_count": null,
      "outputs": []
    },
    {
      "cell_type": "code",
      "metadata": {
        "id": "u_BBXVyYXHR2",
        "colab_type": "code",
        "colab": {}
      },
      "source": [
        "Bayes_Model=Bayes_Model.fit(x_train,y_train)"
      ],
      "execution_count": null,
      "outputs": []
    },
    {
      "cell_type": "code",
      "metadata": {
        "id": "_Vyfz4RXXWuY",
        "colab_type": "code",
        "colab": {}
      },
      "source": [
        "Prediction_Bayes=Bayes_Model.predict(x_test)"
      ],
      "execution_count": null,
      "outputs": []
    },
    {
      "cell_type": "code",
      "metadata": {
        "id": "yzSNSdybXiRF",
        "colab_type": "code",
        "colab": {
          "base_uri": "https://localhost:8080/",
          "height": 33
        },
        "outputId": "31e78eb6-3a44-466c-f062-8007bddac1d1"
      },
      "source": [
        "accuracy_Bayes=accuracy_score(Prediction_Bayes,y_test)\n",
        "print(accuracy_Bayes)"
      ],
      "execution_count": null,
      "outputs": [
        {
          "output_type": "stream",
          "text": [
            "0.7947761194029851\n"
          ],
          "name": "stdout"
        }
      ]
    },
    {
      "cell_type": "code",
      "metadata": {
        "id": "xh_JCwzAXxro",
        "colab_type": "code",
        "colab": {
          "base_uri": "https://localhost:8080/",
          "height": 163
        },
        "outputId": "11de2d67-e3ea-41f2-e6c7-a57b0b8ae382"
      },
      "source": [
        "print(classification_report(y_test, Prediction_Bayes))"
      ],
      "execution_count": null,
      "outputs": [
        {
          "output_type": "stream",
          "text": [
            "              precision    recall  f1-score   support\n",
            "\n",
            "           0       0.81      0.85      0.83       157\n",
            "           1       0.77      0.72      0.74       111\n",
            "\n",
            "    accuracy                           0.79       268\n",
            "   macro avg       0.79      0.78      0.79       268\n",
            "weighted avg       0.79      0.79      0.79       268\n",
            "\n"
          ],
          "name": "stdout"
        }
      ]
    },
    {
      "cell_type": "code",
      "metadata": {
        "id": "Z8od41ZFX28Y",
        "colab_type": "code",
        "colab": {
          "base_uri": "https://localhost:8080/",
          "height": 50
        },
        "outputId": "56511b6a-2569-400e-f547-f2b62c8c9870"
      },
      "source": [
        "confusion_matrix(y_test, Prediction_Bayes)"
      ],
      "execution_count": null,
      "outputs": [
        {
          "output_type": "execute_result",
          "data": {
            "text/plain": [
              "array([[133,  24],\n",
              "       [ 31,  80]])"
            ]
          },
          "metadata": {
            "tags": []
          },
          "execution_count": 202
        }
      ]
    },
    {
      "cell_type": "markdown",
      "metadata": {
        "id": "Kdvxf5cwX81D",
        "colab_type": "text"
      },
      "source": [
        "**We got 78% accuracy using Naive Bayes Algorithm**"
      ]
    },
    {
      "cell_type": "markdown",
      "metadata": {
        "id": "HRpO-a4iCKzf",
        "colab_type": "text"
      },
      "source": [
        "**Model Evaluation - Naive bayes(Gaussian)**"
      ]
    },
    {
      "cell_type": "code",
      "metadata": {
        "id": "iWDBfU0k24WD",
        "colab_type": "code",
        "colab": {
          "base_uri": "https://localhost:8080/",
          "height": 98
        },
        "outputId": "fcf2fefc-1911-4d09-f937-e0d92ae1a982"
      },
      "source": [
        "B= confusion_matrix(y_test,Prediction_Bayes)\n",
        "Sensitivity_Bayes = B[1,1]/(B[1,0]+B[1,1])\n",
        "print(\"Sensitivity_Bayes :\",Sensitivity_Bayes)\n",
        "Specificity_Bayes =  B[0,0]/(B[0,1]+B[0,0])\n",
        "print(\"Specificity_Bayes :\", Specificity_Bayes)\n",
        "Precision_Bayes = B[1,1]/(B[0,1]+B[1,1])\n",
        "print(\"Precision_Bayes:\", Precision_Bayes)\n",
        "AUC_Bayes = roc_auc_score(y_test, Prediction_Bayes)\n",
        "print(\"AUC Score_Bayes:\", AUC_Bayes)\n",
        "F1_Bayes =  f1_score(y_test,Prediction_Bayes)\n",
        "print(\"f1 score_Bayes:\" ,F1_Bayes)"
      ],
      "execution_count": null,
      "outputs": [
        {
          "output_type": "stream",
          "text": [
            "Sensitivity_Bayes : 0.7207207207207207\n",
            "Specificity_Bayes : 0.8471337579617835\n",
            "Precision_Bayes: 0.7692307692307693\n",
            "AUC Score_Bayes: 0.7839272393412522\n",
            "f1 score_Bayes: 0.7441860465116278\n"
          ],
          "name": "stdout"
        }
      ]
    },
    {
      "cell_type": "markdown",
      "metadata": {
        "id": "ylXR-3DLCdtS",
        "colab_type": "text"
      },
      "source": [
        "# Comparison of Models "
      ]
    },
    {
      "cell_type": "code",
      "metadata": {
        "id": "wlKtYxoL4_bf",
        "colab_type": "code",
        "colab": {
          "base_uri": "https://localhost:8080/",
          "height": 123
        },
        "outputId": "5a492479-4b6f-4923-9dd1-141ec822da0d"
      },
      "source": [
        "results = pd.DataFrame({\n",
        "    'Model': ['Logistic Regression','Decision Tree','Random Forest','SVM', 'Naive Bayes'],\n",
        "    'Accuracy': [score, accuracy_Decision, accuracy_Random, accuracy_svm, accuracy_Bayes],\n",
        "    'Sensitivity': [sensitivity_Reg, Sensitivity_Decision, Sensitivity_Random, Sensitivity_svm, Sensitivity_Bayes],\n",
        "    'Specificity':[Specificity_Reg, Specificity_Decision, Specificity_Random, Specificity_svm, Specificity_Bayes],\n",
        "    'Precision': [Precision_Reg, Precision_Decision, Precision_Random, Precision_svm, Precision_Bayes],\n",
        "    'AUC': [AUC_Reg, AUC_Decision, AUC_Random, AUC_svm, AUC_Bayes],\n",
        "    'F1 score': [F1_Reg, F1_Decision, F1_Random, F1_svm, F1_Bayes]}) \n",
        "result = results.sort_values(by='Accuracy', ascending=False)\n",
        "#result = result.set_index('Accuracy')\n",
        "#cm = sns.light_palette(\"green\", as_cmap=True)\n",
        "result.head(5).style.background_gradient(cmap='Blues')"
      ],
      "execution_count": null,
      "outputs": [
        {
          "output_type": "execute_result",
          "data": {
            "text/html": [
              "<style  type=\"text/css\" >\n",
              "    #T_ea96274e_d551_11ea_b604_0242ac1c0002row0_col1 {\n",
              "            background-color:  #08306b;\n",
              "            color:  #f1f1f1;\n",
              "        }    #T_ea96274e_d551_11ea_b604_0242ac1c0002row0_col2 {\n",
              "            background-color:  #f7fbff;\n",
              "            color:  #000000;\n",
              "        }    #T_ea96274e_d551_11ea_b604_0242ac1c0002row0_col3 {\n",
              "            background-color:  #08306b;\n",
              "            color:  #f1f1f1;\n",
              "        }    #T_ea96274e_d551_11ea_b604_0242ac1c0002row0_col4 {\n",
              "            background-color:  #08306b;\n",
              "            color:  #f1f1f1;\n",
              "        }    #T_ea96274e_d551_11ea_b604_0242ac1c0002row0_col5 {\n",
              "            background-color:  #1d6cb1;\n",
              "            color:  #f1f1f1;\n",
              "        }    #T_ea96274e_d551_11ea_b604_0242ac1c0002row0_col6 {\n",
              "            background-color:  #4997c9;\n",
              "            color:  #000000;\n",
              "        }    #T_ea96274e_d551_11ea_b604_0242ac1c0002row1_col1 {\n",
              "            background-color:  #08509b;\n",
              "            color:  #f1f1f1;\n",
              "        }    #T_ea96274e_d551_11ea_b604_0242ac1c0002row1_col2 {\n",
              "            background-color:  #1764ab;\n",
              "            color:  #f1f1f1;\n",
              "        }    #T_ea96274e_d551_11ea_b604_0242ac1c0002row1_col3 {\n",
              "            background-color:  #b4d3e9;\n",
              "            color:  #000000;\n",
              "        }    #T_ea96274e_d551_11ea_b604_0242ac1c0002row1_col4 {\n",
              "            background-color:  #bdd7ec;\n",
              "            color:  #000000;\n",
              "        }    #T_ea96274e_d551_11ea_b604_0242ac1c0002row1_col5 {\n",
              "            background-color:  #08306b;\n",
              "            color:  #f1f1f1;\n",
              "        }    #T_ea96274e_d551_11ea_b604_0242ac1c0002row1_col6 {\n",
              "            background-color:  #08306b;\n",
              "            color:  #f1f1f1;\n",
              "        }    #T_ea96274e_d551_11ea_b604_0242ac1c0002row2_col1 {\n",
              "            background-color:  #4191c6;\n",
              "            color:  #000000;\n",
              "        }    #T_ea96274e_d551_11ea_b604_0242ac1c0002row2_col2 {\n",
              "            background-color:  #08306b;\n",
              "            color:  #f1f1f1;\n",
              "        }    #T_ea96274e_d551_11ea_b604_0242ac1c0002row2_col3 {\n",
              "            background-color:  #f7fbff;\n",
              "            color:  #000000;\n",
              "        }    #T_ea96274e_d551_11ea_b604_0242ac1c0002row2_col4 {\n",
              "            background-color:  #f7fbff;\n",
              "            color:  #000000;\n",
              "        }    #T_ea96274e_d551_11ea_b604_0242ac1c0002row2_col5 {\n",
              "            background-color:  #084f99;\n",
              "            color:  #f1f1f1;\n",
              "        }    #T_ea96274e_d551_11ea_b604_0242ac1c0002row2_col6 {\n",
              "            background-color:  #083d7f;\n",
              "            color:  #f1f1f1;\n",
              "        }    #T_ea96274e_d551_11ea_b604_0242ac1c0002row3_col1 {\n",
              "            background-color:  #f7fbff;\n",
              "            color:  #000000;\n",
              "        }    #T_ea96274e_d551_11ea_b604_0242ac1c0002row3_col2 {\n",
              "            background-color:  #d0e1f2;\n",
              "            color:  #000000;\n",
              "        }    #T_ea96274e_d551_11ea_b604_0242ac1c0002row3_col3 {\n",
              "            background-color:  #caddf0;\n",
              "            color:  #000000;\n",
              "        }    #T_ea96274e_d551_11ea_b604_0242ac1c0002row3_col4 {\n",
              "            background-color:  #edf4fc;\n",
              "            color:  #000000;\n",
              "        }    #T_ea96274e_d551_11ea_b604_0242ac1c0002row3_col5 {\n",
              "            background-color:  #eff6fc;\n",
              "            color:  #000000;\n",
              "        }    #T_ea96274e_d551_11ea_b604_0242ac1c0002row3_col6 {\n",
              "            background-color:  #eaf2fb;\n",
              "            color:  #000000;\n",
              "        }    #T_ea96274e_d551_11ea_b604_0242ac1c0002row4_col1 {\n",
              "            background-color:  #f7fbff;\n",
              "            color:  #000000;\n",
              "        }    #T_ea96274e_d551_11ea_b604_0242ac1c0002row4_col2 {\n",
              "            background-color:  #e3eef9;\n",
              "            color:  #000000;\n",
              "        }    #T_ea96274e_d551_11ea_b604_0242ac1c0002row4_col3 {\n",
              "            background-color:  #b4d3e9;\n",
              "            color:  #000000;\n",
              "        }    #T_ea96274e_d551_11ea_b604_0242ac1c0002row4_col4 {\n",
              "            background-color:  #e0ecf8;\n",
              "            color:  #000000;\n",
              "        }    #T_ea96274e_d551_11ea_b604_0242ac1c0002row4_col5 {\n",
              "            background-color:  #f7fbff;\n",
              "            color:  #000000;\n",
              "        }    #T_ea96274e_d551_11ea_b604_0242ac1c0002row4_col6 {\n",
              "            background-color:  #f7fbff;\n",
              "            color:  #000000;\n",
              "        }</style><table id=\"T_ea96274e_d551_11ea_b604_0242ac1c0002\" ><thead>    <tr>        <th class=\"blank level0\" ></th>        <th class=\"col_heading level0 col0\" >Model</th>        <th class=\"col_heading level0 col1\" >Accuracy</th>        <th class=\"col_heading level0 col2\" >Sensitivity</th>        <th class=\"col_heading level0 col3\" >Specificity</th>        <th class=\"col_heading level0 col4\" >Precision</th>        <th class=\"col_heading level0 col5\" >AUC</th>        <th class=\"col_heading level0 col6\" >F1 score</th>    </tr></thead><tbody>\n",
              "                <tr>\n",
              "                        <th id=\"T_ea96274e_d551_11ea_b604_0242ac1c0002level0_row0\" class=\"row_heading level0 row0\" >3</th>\n",
              "                        <td id=\"T_ea96274e_d551_11ea_b604_0242ac1c0002row0_col0\" class=\"data row0 col0\" >SVM</td>\n",
              "                        <td id=\"T_ea96274e_d551_11ea_b604_0242ac1c0002row0_col1\" class=\"data row0 col1\" >0.805970</td>\n",
              "                        <td id=\"T_ea96274e_d551_11ea_b604_0242ac1c0002row0_col2\" class=\"data row0 col2\" >0.630631</td>\n",
              "                        <td id=\"T_ea96274e_d551_11ea_b604_0242ac1c0002row0_col3\" class=\"data row0 col3\" >0.929936</td>\n",
              "                        <td id=\"T_ea96274e_d551_11ea_b604_0242ac1c0002row0_col4\" class=\"data row0 col4\" >0.864198</td>\n",
              "                        <td id=\"T_ea96274e_d551_11ea_b604_0242ac1c0002row0_col5\" class=\"data row0 col5\" >0.780283</td>\n",
              "                        <td id=\"T_ea96274e_d551_11ea_b604_0242ac1c0002row0_col6\" class=\"data row0 col6\" >0.729167</td>\n",
              "            </tr>\n",
              "            <tr>\n",
              "                        <th id=\"T_ea96274e_d551_11ea_b604_0242ac1c0002level0_row1\" class=\"row_heading level0 row1\" >0</th>\n",
              "                        <td id=\"T_ea96274e_d551_11ea_b604_0242ac1c0002row1_col0\" class=\"data row1 col0\" >Logistic Regression</td>\n",
              "                        <td id=\"T_ea96274e_d551_11ea_b604_0242ac1c0002row1_col1\" class=\"data row1 col1\" >0.802239</td>\n",
              "                        <td id=\"T_ea96274e_d551_11ea_b604_0242ac1c0002row1_col2\" class=\"data row1 col2\" >0.702703</td>\n",
              "                        <td id=\"T_ea96274e_d551_11ea_b604_0242ac1c0002row1_col3\" class=\"data row1 col3\" >0.872611</td>\n",
              "                        <td id=\"T_ea96274e_d551_11ea_b604_0242ac1c0002row1_col4\" class=\"data row1 col4\" >0.795918</td>\n",
              "                        <td id=\"T_ea96274e_d551_11ea_b604_0242ac1c0002row1_col5\" class=\"data row1 col5\" >0.787657</td>\n",
              "                        <td id=\"T_ea96274e_d551_11ea_b604_0242ac1c0002row1_col6\" class=\"data row1 col6\" >0.746411</td>\n",
              "            </tr>\n",
              "            <tr>\n",
              "                        <th id=\"T_ea96274e_d551_11ea_b604_0242ac1c0002level0_row2\" class=\"row_heading level0 row2\" >4</th>\n",
              "                        <td id=\"T_ea96274e_d551_11ea_b604_0242ac1c0002row2_col0\" class=\"data row2 col0\" >Naive Bayes</td>\n",
              "                        <td id=\"T_ea96274e_d551_11ea_b604_0242ac1c0002row2_col1\" class=\"data row2 col1\" >0.794776</td>\n",
              "                        <td id=\"T_ea96274e_d551_11ea_b604_0242ac1c0002row2_col2\" class=\"data row2 col2\" >0.720721</td>\n",
              "                        <td id=\"T_ea96274e_d551_11ea_b604_0242ac1c0002row2_col3\" class=\"data row2 col3\" >0.847134</td>\n",
              "                        <td id=\"T_ea96274e_d551_11ea_b604_0242ac1c0002row2_col4\" class=\"data row2 col4\" >0.769231</td>\n",
              "                        <td id=\"T_ea96274e_d551_11ea_b604_0242ac1c0002row2_col5\" class=\"data row2 col5\" >0.783927</td>\n",
              "                        <td id=\"T_ea96274e_d551_11ea_b604_0242ac1c0002row2_col6\" class=\"data row2 col6\" >0.744186</td>\n",
              "            </tr>\n",
              "            <tr>\n",
              "                        <th id=\"T_ea96274e_d551_11ea_b604_0242ac1c0002level0_row3\" class=\"row_heading level0 row3\" >1</th>\n",
              "                        <td id=\"T_ea96274e_d551_11ea_b604_0242ac1c0002row3_col0\" class=\"data row3 col0\" >Decision Tree</td>\n",
              "                        <td id=\"T_ea96274e_d551_11ea_b604_0242ac1c0002row3_col1\" class=\"data row3 col1\" >0.776119</td>\n",
              "                        <td id=\"T_ea96274e_d551_11ea_b604_0242ac1c0002row3_col2\" class=\"data row3 col2\" >0.648649</td>\n",
              "                        <td id=\"T_ea96274e_d551_11ea_b604_0242ac1c0002row3_col3\" class=\"data row3 col3\" >0.866242</td>\n",
              "                        <td id=\"T_ea96274e_d551_11ea_b604_0242ac1c0002row3_col4\" class=\"data row3 col4\" >0.774194</td>\n",
              "                        <td id=\"T_ea96274e_d551_11ea_b604_0242ac1c0002row3_col5\" class=\"data row3 col5\" >0.757445</td>\n",
              "                        <td id=\"T_ea96274e_d551_11ea_b604_0242ac1c0002row3_col6\" class=\"data row3 col6\" >0.705882</td>\n",
              "            </tr>\n",
              "            <tr>\n",
              "                        <th id=\"T_ea96274e_d551_11ea_b604_0242ac1c0002level0_row4\" class=\"row_heading level0 row4\" >2</th>\n",
              "                        <td id=\"T_ea96274e_d551_11ea_b604_0242ac1c0002row4_col0\" class=\"data row4 col0\" >Random Forest</td>\n",
              "                        <td id=\"T_ea96274e_d551_11ea_b604_0242ac1c0002row4_col1\" class=\"data row4 col1\" >0.776119</td>\n",
              "                        <td id=\"T_ea96274e_d551_11ea_b604_0242ac1c0002row4_col2\" class=\"data row4 col2\" >0.639640</td>\n",
              "                        <td id=\"T_ea96274e_d551_11ea_b604_0242ac1c0002row4_col3\" class=\"data row4 col3\" >0.872611</td>\n",
              "                        <td id=\"T_ea96274e_d551_11ea_b604_0242ac1c0002row4_col4\" class=\"data row4 col4\" >0.780220</td>\n",
              "                        <td id=\"T_ea96274e_d551_11ea_b604_0242ac1c0002row4_col5\" class=\"data row4 col5\" >0.756126</td>\n",
              "                        <td id=\"T_ea96274e_d551_11ea_b604_0242ac1c0002row4_col6\" class=\"data row4 col6\" >0.702970</td>\n",
              "            </tr>\n",
              "    </tbody></table>"
            ],
            "text/plain": [
              "<pandas.io.formats.style.Styler at 0x7fa5b5309518>"
            ]
          },
          "metadata": {
            "tags": []
          },
          "execution_count": 213
        }
      ]
    },
    {
      "cell_type": "markdown",
      "metadata": {
        "id": "hFCpqdzvYLN8",
        "colab_type": "text"
      },
      "source": [
        "**Out of all these algoritms, SVM model and Logistic regression  has maximum accuracy of 80 %**"
      ]
    },
    {
      "cell_type": "markdown",
      "metadata": {
        "id": "uNhumslZ5pBw",
        "colab_type": "text"
      },
      "source": [
        "# **Hyperparameter Tuning**"
      ]
    },
    {
      "cell_type": "markdown",
      "metadata": {
        "id": "t-rRrc9i9IQI",
        "colab_type": "text"
      },
      "source": [
        "We are going to tune the hyperparameters on SVM , Logistic regression and Random Forest"
      ]
    },
    {
      "cell_type": "markdown",
      "metadata": {
        "id": "w0PmEc7M9icR",
        "colab_type": "text"
      },
      "source": [
        "**Implementing Grid CV on Logistic Regression (Tuning)**"
      ]
    },
    {
      "cell_type": "code",
      "metadata": {
        "id": "yBiGUIpM9WKE",
        "colab_type": "code",
        "colab": {}
      },
      "source": [
        "Parameter_dict = [    \n",
        "    {'penalty' : ['l1', 'l2', 'elasticnet', 'none'],\n",
        "    'C' : np.logspace(-4, 4, 20),\n",
        "    'solver' : ['lbfgs','newton-cg','liblinear','sag','saga'],\n",
        "    'max_iter' : [3000,5000,10000 ]\n",
        "    }\n",
        "]"
      ],
      "execution_count": null,
      "outputs": []
    },
    {
      "cell_type": "code",
      "metadata": {
        "id": "iHDjZ6is98F8",
        "colab_type": "code",
        "colab": {}
      },
      "source": [
        "from sklearn.model_selection import GridSearchCV"
      ],
      "execution_count": null,
      "outputs": []
    },
    {
      "cell_type": "code",
      "metadata": {
        "id": "CqSl96zu9-hd",
        "colab_type": "code",
        "colab": {}
      },
      "source": [
        "log_grid = GridSearchCV(Model_1, param_grid= Parameter_dict, cv = 3, verbose=True, n_jobs=-1)"
      ],
      "execution_count": null,
      "outputs": []
    },
    {
      "cell_type": "code",
      "metadata": {
        "id": "mwhDAymT-kYv",
        "colab_type": "code",
        "colab": {
          "base_uri": "https://localhost:8080/",
          "height": 82
        },
        "outputId": "3f579252-087b-4a25-b3c5-139d716d7333"
      },
      "source": [
        "log_after_grid = log_grid.fit(x_train,y_train)"
      ],
      "execution_count": null,
      "outputs": [
        {
          "output_type": "stream",
          "text": [
            "Fitting 3 folds for each of 1200 candidates, totalling 3600 fits\n"
          ],
          "name": "stdout"
        },
        {
          "output_type": "stream",
          "text": [
            "[Parallel(n_jobs=-1)]: Using backend LokyBackend with 2 concurrent workers.\n",
            "[Parallel(n_jobs=-1)]: Done 522 tasks      | elapsed:    3.0s\n",
            "[Parallel(n_jobs=-1)]: Done 3600 out of 3600 | elapsed:   11.3s finished\n"
          ],
          "name": "stderr"
        }
      ]
    },
    {
      "cell_type": "code",
      "metadata": {
        "id": "fo2aAsPQ_AN-",
        "colab_type": "code",
        "colab": {
          "base_uri": "https://localhost:8080/",
          "height": 98
        },
        "outputId": "1658272a-5f86-4d8e-a4c7-9660c2caa44d"
      },
      "source": [
        "log_after_grid.best_estimator_"
      ],
      "execution_count": null,
      "outputs": [
        {
          "output_type": "execute_result",
          "data": {
            "text/plain": [
              "LogisticRegression(C=0.615848211066026, class_weight=None, dual=False,\n",
              "                   fit_intercept=True, intercept_scaling=1, l1_ratio=None,\n",
              "                   max_iter=3000, multi_class='auto', n_jobs=None, penalty='l1',\n",
              "                   random_state=None, solver='liblinear', tol=0.0001, verbose=0,\n",
              "                   warm_start=False)"
            ]
          },
          "metadata": {
            "tags": []
          },
          "execution_count": 219
        }
      ]
    },
    {
      "cell_type": "code",
      "metadata": {
        "id": "UlkGz6Iz_KMp",
        "colab_type": "code",
        "colab": {}
      },
      "source": [
        "log_pred=log_after_grid.best_estimator_.predict(x_test)"
      ],
      "execution_count": null,
      "outputs": []
    },
    {
      "cell_type": "code",
      "metadata": {
        "id": "2UsAjZ1s_gDk",
        "colab_type": "code",
        "colab": {
          "base_uri": "https://localhost:8080/",
          "height": 50
        },
        "outputId": "34466f18-c0cb-4d65-c899-131e41e7ed30"
      },
      "source": [
        "# printing confusion matrix after applying Randon CV\n",
        "print(confusion_matrix(y_test,log_pred))"
      ],
      "execution_count": null,
      "outputs": [
        {
          "output_type": "stream",
          "text": [
            "[[137  20]\n",
            " [ 33  78]]\n"
          ],
          "name": "stdout"
        }
      ]
    },
    {
      "cell_type": "code",
      "metadata": {
        "id": "bXMqKiGv_0js",
        "colab_type": "code",
        "colab": {
          "base_uri": "https://localhost:8080/",
          "height": 50
        },
        "outputId": "6a3a6639-f251-4882-a667-a6764b547b21"
      },
      "source": [
        "# printing confusion matrix we got before random CV \n",
        "confusion_matrix(y_test, prediction)"
      ],
      "execution_count": null,
      "outputs": [
        {
          "output_type": "execute_result",
          "data": {
            "text/plain": [
              "array([[137,  20],\n",
              "       [ 33,  78]])"
            ]
          },
          "metadata": {
            "tags": []
          },
          "execution_count": 222
        }
      ]
    },
    {
      "cell_type": "code",
      "metadata": {
        "id": "fmAZcanPAUz-",
        "colab_type": "code",
        "colab": {
          "base_uri": "https://localhost:8080/",
          "height": 163
        },
        "outputId": "2cf0c1ef-a3c9-4f84-df91-4816847eae7e"
      },
      "source": [
        "# Printing classification after Random CV\n",
        "\n",
        "print(classification_report(y_test, log_pred))"
      ],
      "execution_count": null,
      "outputs": [
        {
          "output_type": "stream",
          "text": [
            "              precision    recall  f1-score   support\n",
            "\n",
            "           0       0.81      0.87      0.84       157\n",
            "           1       0.80      0.70      0.75       111\n",
            "\n",
            "    accuracy                           0.80       268\n",
            "   macro avg       0.80      0.79      0.79       268\n",
            "weighted avg       0.80      0.80      0.80       268\n",
            "\n"
          ],
          "name": "stdout"
        }
      ]
    },
    {
      "cell_type": "markdown",
      "metadata": {
        "id": "BZ662rqmERy-",
        "colab_type": "text"
      },
      "source": [
        "No big improvement "
      ]
    },
    {
      "cell_type": "markdown",
      "metadata": {
        "id": "YmtrKvDPGH2h",
        "colab_type": "text"
      },
      "source": [
        "**Tuning SVM using Grid CV**"
      ]
    },
    {
      "cell_type": "code",
      "metadata": {
        "id": "G_cEW8fLGOAZ",
        "colab_type": "code",
        "colab": {}
      },
      "source": [
        "svm_grid = {'C': [0.25, 0.35, 0.50, 0.1],  \n",
        "                     'gamma': [0.0025, 0.0050, 0.0075], \n",
        "                     'kernel': ['rbf']}"
      ],
      "execution_count": null,
      "outputs": []
    },
    {
      "cell_type": "code",
      "metadata": {
        "id": "ACdsXKy4HzYl",
        "colab_type": "code",
        "colab": {}
      },
      "source": [
        "svm_grid_model = GridSearchCV(svm_Model, param_grid= svm_grid, cv = 3, verbose=True, n_jobs=-1)"
      ],
      "execution_count": null,
      "outputs": []
    },
    {
      "cell_type": "code",
      "metadata": {
        "id": "A0AZFzr4IOSg",
        "colab_type": "code",
        "colab": {
          "base_uri": "https://localhost:8080/",
          "height": 261
        },
        "outputId": "fa4e6b7b-a0a6-4285-e111-ded16deace6e"
      },
      "source": [
        "svm_grid_model.fit(x_train, y_train)"
      ],
      "execution_count": null,
      "outputs": [
        {
          "output_type": "stream",
          "text": [
            "[Parallel(n_jobs=-1)]: Using backend LokyBackend with 2 concurrent workers.\n"
          ],
          "name": "stderr"
        },
        {
          "output_type": "stream",
          "text": [
            "Fitting 3 folds for each of 12 candidates, totalling 36 fits\n"
          ],
          "name": "stdout"
        },
        {
          "output_type": "stream",
          "text": [
            "[Parallel(n_jobs=-1)]: Done  36 out of  36 | elapsed:    0.4s finished\n"
          ],
          "name": "stderr"
        },
        {
          "output_type": "execute_result",
          "data": {
            "text/plain": [
              "GridSearchCV(cv=3, error_score=nan,\n",
              "             estimator=SVC(C=1.0, break_ties=False, cache_size=200,\n",
              "                           class_weight=None, coef0=0.0,\n",
              "                           decision_function_shape='ovr', degree=3,\n",
              "                           gamma='scale', kernel='rbf', max_iter=-1,\n",
              "                           probability=False, random_state=None, shrinking=True,\n",
              "                           tol=0.001, verbose=False),\n",
              "             iid='deprecated', n_jobs=-1,\n",
              "             param_grid={'C': [0.25, 0.35, 0.5, 0.1],\n",
              "                         'gamma': [0.0025, 0.005, 0.0075], 'kernel': ['rbf']},\n",
              "             pre_dispatch='2*n_jobs', refit=True, return_train_score=False,\n",
              "             scoring=None, verbose=True)"
            ]
          },
          "metadata": {
            "tags": []
          },
          "execution_count": 226
        }
      ]
    },
    {
      "cell_type": "code",
      "metadata": {
        "id": "Ulogt1-aIb5I",
        "colab_type": "code",
        "colab": {
          "base_uri": "https://localhost:8080/",
          "height": 82
        },
        "outputId": "09b58518-fb8f-4149-c31f-d25dbc59156c"
      },
      "source": [
        "svm_grid_model.best_estimator_"
      ],
      "execution_count": null,
      "outputs": [
        {
          "output_type": "execute_result",
          "data": {
            "text/plain": [
              "SVC(C=0.5, break_ties=False, cache_size=200, class_weight=None, coef0=0.0,\n",
              "    decision_function_shape='ovr', degree=3, gamma=0.0075, kernel='rbf',\n",
              "    max_iter=-1, probability=False, random_state=None, shrinking=True,\n",
              "    tol=0.001, verbose=False)"
            ]
          },
          "metadata": {
            "tags": []
          },
          "execution_count": 227
        }
      ]
    },
    {
      "cell_type": "code",
      "metadata": {
        "id": "S7q7u8GSIl_L",
        "colab_type": "code",
        "colab": {}
      },
      "source": [
        "svm_after_grid= svm_grid_model.best_estimator_.predict(x_test)"
      ],
      "execution_count": null,
      "outputs": []
    },
    {
      "cell_type": "code",
      "metadata": {
        "id": "IGXw5l1EJNzM",
        "colab_type": "code",
        "colab": {
          "base_uri": "https://localhost:8080/",
          "height": 50
        },
        "outputId": "bbb33f91-2136-4799-f191-902f0f58a348"
      },
      "source": [
        "print(confusion_matrix(y_test,svm_after_grid))"
      ],
      "execution_count": null,
      "outputs": [
        {
          "output_type": "stream",
          "text": [
            "[[134  23]\n",
            " [ 33  78]]\n"
          ],
          "name": "stdout"
        }
      ]
    },
    {
      "cell_type": "code",
      "metadata": {
        "id": "d-Gk6DSGJRsB",
        "colab_type": "code",
        "colab": {
          "base_uri": "https://localhost:8080/",
          "height": 163
        },
        "outputId": "f65cf7c5-5a59-47af-b7f4-e7ff7db9c749"
      },
      "source": [
        "print(classification_report(y_test, svm_after_grid))"
      ],
      "execution_count": null,
      "outputs": [
        {
          "output_type": "stream",
          "text": [
            "              precision    recall  f1-score   support\n",
            "\n",
            "           0       0.80      0.85      0.83       157\n",
            "           1       0.77      0.70      0.74       111\n",
            "\n",
            "    accuracy                           0.79       268\n",
            "   macro avg       0.79      0.78      0.78       268\n",
            "weighted avg       0.79      0.79      0.79       268\n",
            "\n"
          ],
          "name": "stdout"
        }
      ]
    },
    {
      "cell_type": "code",
      "metadata": {
        "id": "CRucZIa77def",
        "colab_type": "code",
        "colab": {
          "base_uri": "https://localhost:8080/",
          "height": 163
        },
        "outputId": "b794efd9-1e6e-42b6-fe19-8fa92f197d0e"
      },
      "source": [
        "print(classification_report(y_test,Prediction_svm))"
      ],
      "execution_count": null,
      "outputs": [
        {
          "output_type": "stream",
          "text": [
            "              precision    recall  f1-score   support\n",
            "\n",
            "           0       0.78      0.93      0.85       157\n",
            "           1       0.86      0.63      0.73       111\n",
            "\n",
            "    accuracy                           0.81       268\n",
            "   macro avg       0.82      0.78      0.79       268\n",
            "weighted avg       0.82      0.81      0.80       268\n",
            "\n"
          ],
          "name": "stdout"
        }
      ]
    },
    {
      "cell_type": "code",
      "metadata": {
        "id": "bC0KqrhXJfVI",
        "colab_type": "code",
        "colab": {
          "base_uri": "https://localhost:8080/",
          "height": 50
        },
        "outputId": "ab6ae80f-5055-48b7-d5b8-41c148b4d354"
      },
      "source": [
        "#comparing confusion matrix with model tuning\n",
        "confusion_matrix(y_test, Prediction_svm)"
      ],
      "execution_count": null,
      "outputs": [
        {
          "output_type": "execute_result",
          "data": {
            "text/plain": [
              "array([[146,  11],\n",
              "       [ 41,  70]])"
            ]
          },
          "metadata": {
            "tags": []
          },
          "execution_count": 232
        }
      ]
    },
    {
      "cell_type": "markdown",
      "metadata": {
        "id": "nhaluAsuNydo",
        "colab_type": "text"
      },
      "source": [
        "**Accuracy increased from 80 to 82 %**"
      ]
    },
    {
      "cell_type": "markdown",
      "metadata": {
        "id": "WmcqgU2AEkNy",
        "colab_type": "text"
      },
      "source": [
        "**Tuning Random Forest Model**"
      ]
    },
    {
      "cell_type": "code",
      "metadata": {
        "id": "QXJh6k3GE6kN",
        "colab_type": "code",
        "colab": {}
      },
      "source": [
        "from sklearn.ensemble import RandomForestClassifier"
      ],
      "execution_count": null,
      "outputs": []
    },
    {
      "cell_type": "code",
      "metadata": {
        "id": "bbnbPWi3FkqR",
        "colab_type": "code",
        "colab": {}
      },
      "source": [
        "param_dict = [    \n",
        "    {'n_estimators': [10],\n",
        "    'max_depth': [125, 130],\n",
        "    'min_samples_split': [80, 90, 70],\n",
        "    'min_samples_leaf': [30,20,10],\n",
        "    'bootstrap': [True, False]\n",
        "    }\n",
        "]"
      ],
      "execution_count": null,
      "outputs": []
    },
    {
      "cell_type": "code",
      "metadata": {
        "id": "O9K0xALYFvFz",
        "colab_type": "code",
        "colab": {}
      },
      "source": [
        "Randomforest_model_grid = GridSearchCV(Random_Model, param_grid= param_dict, cv = 5, verbose=True, n_jobs=-1)"
      ],
      "execution_count": null,
      "outputs": []
    },
    {
      "cell_type": "code",
      "metadata": {
        "id": "ZoP3tpGUF9Cg",
        "colab_type": "code",
        "colab": {
          "base_uri": "https://localhost:8080/",
          "height": 440
        },
        "outputId": "12092930-7526-4d68-dfea-d32a05e50290"
      },
      "source": [
        "Randomforest_model_grid.fit(x_train, y_train)"
      ],
      "execution_count": null,
      "outputs": [
        {
          "output_type": "stream",
          "text": [
            "[Parallel(n_jobs=-1)]: Using backend LokyBackend with 2 concurrent workers.\n"
          ],
          "name": "stderr"
        },
        {
          "output_type": "stream",
          "text": [
            "Fitting 5 folds for each of 36 candidates, totalling 180 fits\n"
          ],
          "name": "stdout"
        },
        {
          "output_type": "stream",
          "text": [
            "[Parallel(n_jobs=-1)]: Done 180 out of 180 | elapsed:    2.7s finished\n"
          ],
          "name": "stderr"
        },
        {
          "output_type": "execute_result",
          "data": {
            "text/plain": [
              "GridSearchCV(cv=5, error_score=nan,\n",
              "             estimator=RandomForestClassifier(bootstrap=True, ccp_alpha=0.0,\n",
              "                                              class_weight=None,\n",
              "                                              criterion='gini', max_depth=None,\n",
              "                                              max_features='auto',\n",
              "                                              max_leaf_nodes=None,\n",
              "                                              max_samples=None,\n",
              "                                              min_impurity_decrease=0.0,\n",
              "                                              min_impurity_split=None,\n",
              "                                              min_samples_leaf=1,\n",
              "                                              min_samples_split=2,\n",
              "                                              min_weight_fraction_leaf=0.0,\n",
              "                                              n_estimators=100, n_jobs=None,\n",
              "                                              oob_score=False,\n",
              "                                              random_state=None, verbose=0,\n",
              "                                              warm_start=False),\n",
              "             iid='deprecated', n_jobs=-1,\n",
              "             param_grid=[{'bootstrap': [True, False], 'max_depth': [125, 130],\n",
              "                          'min_samples_leaf': [30, 20, 10],\n",
              "                          'min_samples_split': [80, 90, 70],\n",
              "                          'n_estimators': [10]}],\n",
              "             pre_dispatch='2*n_jobs', refit=True, return_train_score=False,\n",
              "             scoring=None, verbose=True)"
            ]
          },
          "metadata": {
            "tags": []
          },
          "execution_count": 236
        }
      ]
    },
    {
      "cell_type": "code",
      "metadata": {
        "id": "dDrEDFonfc8a",
        "colab_type": "code",
        "colab": {
          "base_uri": "https://localhost:8080/",
          "height": 147
        },
        "outputId": "0a3a8e17-707f-4578-8c94-98faf06a9a26"
      },
      "source": [
        "Randomforest_model_grid.best_estimator_"
      ],
      "execution_count": null,
      "outputs": [
        {
          "output_type": "execute_result",
          "data": {
            "text/plain": [
              "RandomForestClassifier(bootstrap=False, ccp_alpha=0.0, class_weight=None,\n",
              "                       criterion='gini', max_depth=125, max_features='auto',\n",
              "                       max_leaf_nodes=None, max_samples=None,\n",
              "                       min_impurity_decrease=0.0, min_impurity_split=None,\n",
              "                       min_samples_leaf=20, min_samples_split=80,\n",
              "                       min_weight_fraction_leaf=0.0, n_estimators=10,\n",
              "                       n_jobs=None, oob_score=False, random_state=None,\n",
              "                       verbose=0, warm_start=False)"
            ]
          },
          "metadata": {
            "tags": []
          },
          "execution_count": 237
        }
      ]
    },
    {
      "cell_type": "code",
      "metadata": {
        "id": "xPaJjmA7flkF",
        "colab_type": "code",
        "colab": {}
      },
      "source": [
        "y_after_grid=Randomforest_model_grid.best_estimator_.predict(x_test)"
      ],
      "execution_count": null,
      "outputs": []
    },
    {
      "cell_type": "code",
      "metadata": {
        "id": "p_zbHFZOf6_6",
        "colab_type": "code",
        "colab": {
          "base_uri": "https://localhost:8080/",
          "height": 50
        },
        "outputId": "e9e4911d-a8b6-4a5f-b646-eec8cae0ef26"
      },
      "source": [
        "print(confusion_matrix(y_test,y_after_grid))"
      ],
      "execution_count": null,
      "outputs": [
        {
          "output_type": "stream",
          "text": [
            "[[145  12]\n",
            " [ 40  71]]\n"
          ],
          "name": "stdout"
        }
      ]
    },
    {
      "cell_type": "code",
      "metadata": {
        "id": "LDI6V2ZKgrlO",
        "colab_type": "code",
        "colab": {
          "base_uri": "https://localhost:8080/",
          "height": 50
        },
        "outputId": "8c0517e0-b5ef-4152-f478-d248b94d8370"
      },
      "source": [
        "# Confusion matrix before tuning\n",
        "confusion_matrix(y_test, Prediction_Random)"
      ],
      "execution_count": null,
      "outputs": [
        {
          "output_type": "execute_result",
          "data": {
            "text/plain": [
              "array([[137,  20],\n",
              "       [ 40,  71]])"
            ]
          },
          "metadata": {
            "tags": []
          },
          "execution_count": 240
        }
      ]
    },
    {
      "cell_type": "code",
      "metadata": {
        "id": "R9l_r5RthngI",
        "colab_type": "code",
        "colab": {
          "base_uri": "https://localhost:8080/",
          "height": 163
        },
        "outputId": "3e678cf5-c315-4a0b-9f77-8e8acf27d486"
      },
      "source": [
        "print(classification_report(y_test,y_after_grid))"
      ],
      "execution_count": null,
      "outputs": [
        {
          "output_type": "stream",
          "text": [
            "              precision    recall  f1-score   support\n",
            "\n",
            "           0       0.78      0.92      0.85       157\n",
            "           1       0.86      0.64      0.73       111\n",
            "\n",
            "    accuracy                           0.81       268\n",
            "   macro avg       0.82      0.78      0.79       268\n",
            "weighted avg       0.81      0.81      0.80       268\n",
            "\n"
          ],
          "name": "stdout"
        }
      ]
    },
    {
      "cell_type": "code",
      "metadata": {
        "id": "ymE_6WUNhw_M",
        "colab_type": "code",
        "colab": {
          "base_uri": "https://localhost:8080/",
          "height": 163
        },
        "outputId": "2d78e5bf-d971-4860-d793-2f64c92ca5ce"
      },
      "source": [
        "# For comparing with old matrix\n",
        "print(classification_report(y_test,Prediction_Random))"
      ],
      "execution_count": null,
      "outputs": [
        {
          "output_type": "stream",
          "text": [
            "              precision    recall  f1-score   support\n",
            "\n",
            "           0       0.77      0.87      0.82       157\n",
            "           1       0.78      0.64      0.70       111\n",
            "\n",
            "    accuracy                           0.78       268\n",
            "   macro avg       0.78      0.76      0.76       268\n",
            "weighted avg       0.78      0.78      0.77       268\n",
            "\n"
          ],
          "name": "stdout"
        }
      ]
    },
    {
      "cell_type": "markdown",
      "metadata": {
        "id": "wTfuo42naDyl",
        "colab_type": "text"
      },
      "source": [
        "After tuning parameters in three models ie, Logistic regression,SVM and Random forest , we found the accuracy increased in SVM .\n",
        "\n",
        "After Hyperparameter tuning SVM is giving best results with 82 % Accuracy"
      ]
    },
    {
      "cell_type": "markdown",
      "metadata": {
        "id": "pkICqdeNOYtR",
        "colab_type": "text"
      },
      "source": [
        "# **We can finilize the best model for this problem is SVM with 82 % accuracy , 81 % precision and 81 % recall**"
      ]
    }
  ]
}